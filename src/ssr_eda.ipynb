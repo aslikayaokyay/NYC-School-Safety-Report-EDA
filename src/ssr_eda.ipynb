{
 "cells": [
  {
   "cell_type": "code",
   "execution_count": 41,
   "id": "initial_id",
   "metadata": {
    "collapsed": true,
    "ExecuteTime": {
     "end_time": "2024-01-20T19:57:44.225244100Z",
     "start_time": "2024-01-20T19:57:44.209666800Z"
    }
   },
   "outputs": [],
   "source": [
    "# Import Libraries\n",
    "\n",
    "import pandas as pd\n",
    "import numpy as np\n",
    "import matplotlib.pyplot as plt\n",
    "import seaborn as sns\n",
    "import plotly.express as px\n"
   ]
  },
  {
   "cell_type": "code",
   "execution_count": 3,
   "outputs": [
    {
     "data": {
      "text/plain": "     School Year Building Code           DBN  \\\n0        2013-14          K001        15K001   \n1        2013-14          K002        17K002   \n2        2013-14          K002        75K141   \n3        2013-14          K002  84K704         \n4        2013-14          K002           NaN   \n...          ...           ...           ...   \n6305     2015-16          X972        08X519   \n6306     2015-16          X972        08X537   \n6307     2015-16          X972           NaN   \n6308     2015-16          X973        12X271   \n6309     2015-16          X991        79X695   \n\n                                          Location Name Location Code  \\\n0                                   P.S. 001 The Bergen          K001   \n1                          Parkside Preparatory Academy          K002   \n2                                             P.S. K141          K141   \n3                                Explore Charter School          K704   \n4             655 PARKSIDE AVENUE CONSOLIDATED LOCATION           NaN   \n...                                                 ...           ...   \n6305  Felisa Rincon de Gautier Institute for Law and...          X519   \n6306                            Bronx Arena High School          X537   \n6307            1440 STORY AVENUE CONSOLIDATED LOCATION           NaN   \n6308                  East Bronx Academy for the Future          X271   \n6309                                   Passages Academy          X695   \n\n                      Address Borough  Geographical District Code Register  \\\n0               309 47 STREET       K                        15.0    1,277   \n1         655 PARKSIDE AVENUE       K                        17.0      479   \n2         655 PARKSIDE AVENUE       K                        17.0      397   \n3         655 PARKSIDE AVENUE       K                        17.0      NaN   \n4         655 PARKSIDE AVENUE       K                        17.0      876   \n...                       ...     ...                         ...      ...   \n6305        1440 STORY AVENUE       X                         8.0      275   \n6306        1440 STORY AVENUE       X                         8.0      215   \n6307        1440 STORY AVENUE       X                         8.0      490   \n6308  1716 SOUTHERN BOULEVARD       X                        12.0      665   \n6309         560 BROOK AVENUE       X                         7.0      254   \n\n                                  Building Name  ...  Borough Name Postcode  \\\n0                                           NaN  ...     BROOKLYN   11220.0   \n1     655 PARKSIDE AVENUE CONSOLIDATED LOCATION  ...     BROOKLYN   11226.0   \n2     655 PARKSIDE AVENUE CONSOLIDATED LOCATION  ...     BROOKLYN   11226.0   \n3     655 PARKSIDE AVENUE CONSOLIDATED LOCATION  ...     BROOKLYN   11226.0   \n4     655 PARKSIDE AVENUE CONSOLIDATED LOCATION  ...     BROOKLYN   11226.0   \n...                                         ...  ...           ...      ...   \n6305    1440 STORY AVENUE CONSOLIDATED LOCATION  ...     BRONX      10473.0   \n6306    1440 STORY AVENUE CONSOLIDATED LOCATION  ...     BRONX      10473.0   \n6307    1440 STORY AVENUE CONSOLIDATED LOCATION  ...     BRONX      10473.0   \n6308                                        NaN  ...     BRONX      10460.0   \n6309                                        NaN  ...     BRONX      10455.0   \n\n       Latitude  Longitude  Community Board  Council District   Census Tract  \\\n0     40.649042 -74.012289              7.0               38.0          80.0   \n1     40.656183 -73.951583              9.0               40.0         802.0   \n2     40.656183 -73.951583              9.0               40.0         802.0   \n3     40.656183 -73.951583              9.0               40.0         802.0   \n4     40.656183 -73.951583              9.0               40.0         802.0   \n...         ...        ...              ...                ...           ...   \n6305  40.821146 -73.881479              9.0               17.0          28.0   \n6306  40.821146 -73.881479              9.0               17.0          28.0   \n6307  40.821146 -73.881479              9.0               17.0          28.0   \n6308  40.836356 -73.888361              3.0               17.0         161.0   \n6309  40.815878 -73.914404              1.0               17.0          71.0   \n\n            BIN           BBL  \\\n0     3011821.0  3.007550e+09   \n1     3378201.0  3.050500e+09   \n2     3378201.0  3.050500e+09   \n3     3378201.0  3.050500e+09   \n4     3378201.0  3.050500e+09   \n...         ...           ...   \n6305  2022544.0  2.036220e+09   \n6306  2022544.0  2.036220e+09   \n6307  2022544.0  2.036220e+09   \n6308  2010604.0  2.029830e+09   \n6309  2000133.0  2.022760e+09   \n\n                                                    NTA  \n0     Sunset Park West                              ...  \n1     Prospect Lefferts Gardens-Wingate             ...  \n2     Prospect Lefferts Gardens-Wingate             ...  \n3     Prospect Lefferts Gardens-Wingate             ...  \n4     Prospect Lefferts Gardens-Wingate             ...  \n...                                                 ...  \n6305  Soundview-Castle Hill-Clason Point-Harding Par...  \n6306  Soundview-Castle Hill-Clason Point-Harding Par...  \n6307  Soundview-Castle Hill-Clason Point-Harding Par...  \n6308  Crotona Park East                             ...  \n6309  Melrose South-Mott Haven North                ...  \n\n[6310 rows x 34 columns]",
      "text/html": "<div>\n<style scoped>\n    .dataframe tbody tr th:only-of-type {\n        vertical-align: middle;\n    }\n\n    .dataframe tbody tr th {\n        vertical-align: top;\n    }\n\n    .dataframe thead th {\n        text-align: right;\n    }\n</style>\n<table border=\"1\" class=\"dataframe\">\n  <thead>\n    <tr style=\"text-align: right;\">\n      <th></th>\n      <th>School Year</th>\n      <th>Building Code</th>\n      <th>DBN</th>\n      <th>Location Name</th>\n      <th>Location Code</th>\n      <th>Address</th>\n      <th>Borough</th>\n      <th>Geographical District Code</th>\n      <th>Register</th>\n      <th>Building Name</th>\n      <th>...</th>\n      <th>Borough Name</th>\n      <th>Postcode</th>\n      <th>Latitude</th>\n      <th>Longitude</th>\n      <th>Community Board</th>\n      <th>Council District</th>\n      <th>Census Tract</th>\n      <th>BIN</th>\n      <th>BBL</th>\n      <th>NTA</th>\n    </tr>\n  </thead>\n  <tbody>\n    <tr>\n      <th>0</th>\n      <td>2013-14</td>\n      <td>K001</td>\n      <td>15K001</td>\n      <td>P.S. 001 The Bergen</td>\n      <td>K001</td>\n      <td>309 47 STREET</td>\n      <td>K</td>\n      <td>15.0</td>\n      <td>1,277</td>\n      <td>NaN</td>\n      <td>...</td>\n      <td>BROOKLYN</td>\n      <td>11220.0</td>\n      <td>40.649042</td>\n      <td>-74.012289</td>\n      <td>7.0</td>\n      <td>38.0</td>\n      <td>80.0</td>\n      <td>3011821.0</td>\n      <td>3.007550e+09</td>\n      <td>Sunset Park West                              ...</td>\n    </tr>\n    <tr>\n      <th>1</th>\n      <td>2013-14</td>\n      <td>K002</td>\n      <td>17K002</td>\n      <td>Parkside Preparatory Academy</td>\n      <td>K002</td>\n      <td>655 PARKSIDE AVENUE</td>\n      <td>K</td>\n      <td>17.0</td>\n      <td>479</td>\n      <td>655 PARKSIDE AVENUE CONSOLIDATED LOCATION</td>\n      <td>...</td>\n      <td>BROOKLYN</td>\n      <td>11226.0</td>\n      <td>40.656183</td>\n      <td>-73.951583</td>\n      <td>9.0</td>\n      <td>40.0</td>\n      <td>802.0</td>\n      <td>3378201.0</td>\n      <td>3.050500e+09</td>\n      <td>Prospect Lefferts Gardens-Wingate             ...</td>\n    </tr>\n    <tr>\n      <th>2</th>\n      <td>2013-14</td>\n      <td>K002</td>\n      <td>75K141</td>\n      <td>P.S. K141</td>\n      <td>K141</td>\n      <td>655 PARKSIDE AVENUE</td>\n      <td>K</td>\n      <td>17.0</td>\n      <td>397</td>\n      <td>655 PARKSIDE AVENUE CONSOLIDATED LOCATION</td>\n      <td>...</td>\n      <td>BROOKLYN</td>\n      <td>11226.0</td>\n      <td>40.656183</td>\n      <td>-73.951583</td>\n      <td>9.0</td>\n      <td>40.0</td>\n      <td>802.0</td>\n      <td>3378201.0</td>\n      <td>3.050500e+09</td>\n      <td>Prospect Lefferts Gardens-Wingate             ...</td>\n    </tr>\n    <tr>\n      <th>3</th>\n      <td>2013-14</td>\n      <td>K002</td>\n      <td>84K704</td>\n      <td>Explore Charter School</td>\n      <td>K704</td>\n      <td>655 PARKSIDE AVENUE</td>\n      <td>K</td>\n      <td>17.0</td>\n      <td>NaN</td>\n      <td>655 PARKSIDE AVENUE CONSOLIDATED LOCATION</td>\n      <td>...</td>\n      <td>BROOKLYN</td>\n      <td>11226.0</td>\n      <td>40.656183</td>\n      <td>-73.951583</td>\n      <td>9.0</td>\n      <td>40.0</td>\n      <td>802.0</td>\n      <td>3378201.0</td>\n      <td>3.050500e+09</td>\n      <td>Prospect Lefferts Gardens-Wingate             ...</td>\n    </tr>\n    <tr>\n      <th>4</th>\n      <td>2013-14</td>\n      <td>K002</td>\n      <td>NaN</td>\n      <td>655 PARKSIDE AVENUE CONSOLIDATED LOCATION</td>\n      <td>NaN</td>\n      <td>655 PARKSIDE AVENUE</td>\n      <td>K</td>\n      <td>17.0</td>\n      <td>876</td>\n      <td>655 PARKSIDE AVENUE CONSOLIDATED LOCATION</td>\n      <td>...</td>\n      <td>BROOKLYN</td>\n      <td>11226.0</td>\n      <td>40.656183</td>\n      <td>-73.951583</td>\n      <td>9.0</td>\n      <td>40.0</td>\n      <td>802.0</td>\n      <td>3378201.0</td>\n      <td>3.050500e+09</td>\n      <td>Prospect Lefferts Gardens-Wingate             ...</td>\n    </tr>\n    <tr>\n      <th>...</th>\n      <td>...</td>\n      <td>...</td>\n      <td>...</td>\n      <td>...</td>\n      <td>...</td>\n      <td>...</td>\n      <td>...</td>\n      <td>...</td>\n      <td>...</td>\n      <td>...</td>\n      <td>...</td>\n      <td>...</td>\n      <td>...</td>\n      <td>...</td>\n      <td>...</td>\n      <td>...</td>\n      <td>...</td>\n      <td>...</td>\n      <td>...</td>\n      <td>...</td>\n      <td>...</td>\n    </tr>\n    <tr>\n      <th>6305</th>\n      <td>2015-16</td>\n      <td>X972</td>\n      <td>08X519</td>\n      <td>Felisa Rincon de Gautier Institute for Law and...</td>\n      <td>X519</td>\n      <td>1440 STORY AVENUE</td>\n      <td>X</td>\n      <td>8.0</td>\n      <td>275</td>\n      <td>1440 STORY AVENUE CONSOLIDATED LOCATION</td>\n      <td>...</td>\n      <td>BRONX</td>\n      <td>10473.0</td>\n      <td>40.821146</td>\n      <td>-73.881479</td>\n      <td>9.0</td>\n      <td>17.0</td>\n      <td>28.0</td>\n      <td>2022544.0</td>\n      <td>2.036220e+09</td>\n      <td>Soundview-Castle Hill-Clason Point-Harding Par...</td>\n    </tr>\n    <tr>\n      <th>6306</th>\n      <td>2015-16</td>\n      <td>X972</td>\n      <td>08X537</td>\n      <td>Bronx Arena High School</td>\n      <td>X537</td>\n      <td>1440 STORY AVENUE</td>\n      <td>X</td>\n      <td>8.0</td>\n      <td>215</td>\n      <td>1440 STORY AVENUE CONSOLIDATED LOCATION</td>\n      <td>...</td>\n      <td>BRONX</td>\n      <td>10473.0</td>\n      <td>40.821146</td>\n      <td>-73.881479</td>\n      <td>9.0</td>\n      <td>17.0</td>\n      <td>28.0</td>\n      <td>2022544.0</td>\n      <td>2.036220e+09</td>\n      <td>Soundview-Castle Hill-Clason Point-Harding Par...</td>\n    </tr>\n    <tr>\n      <th>6307</th>\n      <td>2015-16</td>\n      <td>X972</td>\n      <td>NaN</td>\n      <td>1440 STORY AVENUE CONSOLIDATED LOCATION</td>\n      <td>NaN</td>\n      <td>1440 STORY AVENUE</td>\n      <td>X</td>\n      <td>8.0</td>\n      <td>490</td>\n      <td>1440 STORY AVENUE CONSOLIDATED LOCATION</td>\n      <td>...</td>\n      <td>BRONX</td>\n      <td>10473.0</td>\n      <td>40.821146</td>\n      <td>-73.881479</td>\n      <td>9.0</td>\n      <td>17.0</td>\n      <td>28.0</td>\n      <td>2022544.0</td>\n      <td>2.036220e+09</td>\n      <td>Soundview-Castle Hill-Clason Point-Harding Par...</td>\n    </tr>\n    <tr>\n      <th>6308</th>\n      <td>2015-16</td>\n      <td>X973</td>\n      <td>12X271</td>\n      <td>East Bronx Academy for the Future</td>\n      <td>X271</td>\n      <td>1716 SOUTHERN BOULEVARD</td>\n      <td>X</td>\n      <td>12.0</td>\n      <td>665</td>\n      <td>NaN</td>\n      <td>...</td>\n      <td>BRONX</td>\n      <td>10460.0</td>\n      <td>40.836356</td>\n      <td>-73.888361</td>\n      <td>3.0</td>\n      <td>17.0</td>\n      <td>161.0</td>\n      <td>2010604.0</td>\n      <td>2.029830e+09</td>\n      <td>Crotona Park East                             ...</td>\n    </tr>\n    <tr>\n      <th>6309</th>\n      <td>2015-16</td>\n      <td>X991</td>\n      <td>79X695</td>\n      <td>Passages Academy</td>\n      <td>X695</td>\n      <td>560 BROOK AVENUE</td>\n      <td>X</td>\n      <td>7.0</td>\n      <td>254</td>\n      <td>NaN</td>\n      <td>...</td>\n      <td>BRONX</td>\n      <td>10455.0</td>\n      <td>40.815878</td>\n      <td>-73.914404</td>\n      <td>1.0</td>\n      <td>17.0</td>\n      <td>71.0</td>\n      <td>2000133.0</td>\n      <td>2.022760e+09</td>\n      <td>Melrose South-Mott Haven North                ...</td>\n    </tr>\n  </tbody>\n</table>\n<p>6310 rows × 34 columns</p>\n</div>"
     },
     "execution_count": 3,
     "metadata": {},
     "output_type": "execute_result"
    }
   ],
   "source": [
    "# Load Data\n",
    "\n",
    "data = pd.read_csv(\"../data/2010_-_2016_School_Safety_Report_20240118.csv\")\n",
    "data"
   ],
   "metadata": {
    "collapsed": false,
    "ExecuteTime": {
     "end_time": "2024-01-20T19:00:03.115156400Z",
     "start_time": "2024-01-20T19:00:03.010329200Z"
    }
   },
   "id": "5dec411670c0629c"
  },
  {
   "cell_type": "code",
   "execution_count": 4,
   "outputs": [
    {
     "data": {
      "text/plain": "Borough Name\nBROOKLYN     2044\nBRONX        1551\nMANHATTAN    1247\nQUEENS       1189\nSTATEN IS     255\nName: count, dtype: int64"
     },
     "execution_count": 4,
     "metadata": {},
     "output_type": "execute_result"
    }
   ],
   "source": [
    "data[\"Borough Name\"].value_counts()"
   ],
   "metadata": {
    "collapsed": false,
    "ExecuteTime": {
     "end_time": "2024-01-20T19:00:03.655326800Z",
     "start_time": "2024-01-20T19:00:03.616468600Z"
    }
   },
   "id": "cab80fe6631ddb99"
  },
  {
   "cell_type": "code",
   "execution_count": 19,
   "outputs": [
    {
     "data": {
      "text/plain": "  Borough Name  Major N\n0    BRONX        483.0\n1    BROOKLYN     554.0\n2    MANHATTAN    373.0\n3    QUEENS       289.0\n4    STATEN IS     64.0",
      "text/html": "<div>\n<style scoped>\n    .dataframe tbody tr th:only-of-type {\n        vertical-align: middle;\n    }\n\n    .dataframe tbody tr th {\n        vertical-align: top;\n    }\n\n    .dataframe thead th {\n        text-align: right;\n    }\n</style>\n<table border=\"1\" class=\"dataframe\">\n  <thead>\n    <tr style=\"text-align: right;\">\n      <th></th>\n      <th>Borough Name</th>\n      <th>Major N</th>\n    </tr>\n  </thead>\n  <tbody>\n    <tr>\n      <th>0</th>\n      <td>BRONX</td>\n      <td>483.0</td>\n    </tr>\n    <tr>\n      <th>1</th>\n      <td>BROOKLYN</td>\n      <td>554.0</td>\n    </tr>\n    <tr>\n      <th>2</th>\n      <td>MANHATTAN</td>\n      <td>373.0</td>\n    </tr>\n    <tr>\n      <th>3</th>\n      <td>QUEENS</td>\n      <td>289.0</td>\n    </tr>\n    <tr>\n      <th>4</th>\n      <td>STATEN IS</td>\n      <td>64.0</td>\n    </tr>\n  </tbody>\n</table>\n</div>"
     },
     "execution_count": 19,
     "metadata": {},
     "output_type": "execute_result"
    }
   ],
   "source": [
    "borough_major_df = data[[\"Borough Name\", \"Major N\"]].groupby(\"Borough Name\").sum().reset_index()\n",
    "borough_major_df"
   ],
   "metadata": {
    "collapsed": false,
    "ExecuteTime": {
     "end_time": "2024-01-20T19:22:38.973720100Z",
     "start_time": "2024-01-20T19:22:38.967292100Z"
    }
   },
   "id": "f1c854b1263feee6"
  },
  {
   "cell_type": "code",
   "execution_count": 20,
   "outputs": [
    {
     "data": {
      "text/plain": "<Figure size 640x480 with 1 Axes>",
      "image/png": "[encoded data removed]"
     },
     "metadata": {},
     "output_type": "display_data"
    }
   ],
   "source": [
    "plt.bar(borough_major_df[\"Borough Name\"],borough_major_df[\"Major N\"])\n",
    "plt.show()"
   ],
   "metadata": {
    "collapsed": false,
    "ExecuteTime": {
     "end_time": "2024-01-20T19:22:41.702380100Z",
     "start_time": "2024-01-20T19:22:41.581614100Z"
    }
   },
   "id": "50ea40b94c8e0f87"
  },
  {
   "cell_type": "code",
   "execution_count": 31,
   "outputs": [
    {
     "data": {
      "text/plain": "  School Year   Vio N\n0     2013-14  1073.0\n1     2014-15  1049.0\n2     2015-16  1058.0",
      "text/html": "<div>\n<style scoped>\n    .dataframe tbody tr th:only-of-type {\n        vertical-align: middle;\n    }\n\n    .dataframe tbody tr th {\n        vertical-align: top;\n    }\n\n    .dataframe thead th {\n        text-align: right;\n    }\n</style>\n<table border=\"1\" class=\"dataframe\">\n  <thead>\n    <tr style=\"text-align: right;\">\n      <th></th>\n      <th>School Year</th>\n      <th>Vio N</th>\n    </tr>\n  </thead>\n  <tbody>\n    <tr>\n      <th>0</th>\n      <td>2013-14</td>\n      <td>1073.0</td>\n    </tr>\n    <tr>\n      <th>1</th>\n      <td>2014-15</td>\n      <td>1049.0</td>\n    </tr>\n    <tr>\n      <th>2</th>\n      <td>2015-16</td>\n      <td>1058.0</td>\n    </tr>\n  </tbody>\n</table>\n</div>"
     },
     "execution_count": 31,
     "metadata": {},
     "output_type": "execute_result"
    }
   ],
   "source": [
    "sy_vio_df = data[[\"School Year\", \"Vio N\"]].groupby(\"School Year\").sum().reset_index()\n",
    "sy_vio_df"
   ],
   "metadata": {
    "collapsed": false,
    "ExecuteTime": {
     "end_time": "2024-01-20T19:28:22.224355Z",
     "start_time": "2024-01-20T19:28:22.192627Z"
    }
   },
   "id": "9fded28de7038681"
  },
  {
   "cell_type": "code",
   "execution_count": 34,
   "outputs": [
    {
     "data": {
      "text/plain": "<Figure size 640x480 with 1 Axes>",
      "image/png": "[encoded data removed]"
     },
     "metadata": {},
     "output_type": "display_data"
    }
   ],
   "source": [
    "plt.plot(sy_vio_df[\"School Year\"],sy_vio_df[\"Vio N\"])\n",
    "plt.show()\n",
    "         "
   ],
   "metadata": {
    "collapsed": false,
    "ExecuteTime": {
     "end_time": "2024-01-20T19:28:38.598275300Z",
     "start_time": "2024-01-20T19:28:38.498119400Z"
    }
   },
   "id": "c12cf8e4a6c81935"
  },
  {
   "cell_type": "code",
   "execution_count": 35,
   "outputs": [
    {
     "data": {
      "text/plain": "<Axes: xlabel='School Year', ylabel='Vio N'>"
     },
     "execution_count": 35,
     "metadata": {},
     "output_type": "execute_result"
    },
    {
     "data": {
      "text/plain": "<Figure size 640x480 with 1 Axes>",
      "image/png": "[encoded data removed]"
     },
     "metadata": {},
     "output_type": "display_data"
    }
   ],
   "source": [
    "sns.lineplot(sy_vio_df, x=\"School Year\", y=\"Vio N\")"
   ],
   "metadata": {
    "collapsed": false,
    "ExecuteTime": {
     "end_time": "2024-01-20T19:37:58.295070300Z",
     "start_time": "2024-01-20T19:37:58.142747700Z"
    }
   },
   "id": "512269ff8064a76a"
  },
  {
   "cell_type": "code",
   "execution_count": 42,
   "outputs": [
    {
     "data": {
      "application/vnd.plotly.v1+json": {
       "data": [
        {
         "hovertemplate": "School Year=%{x}<br>Vio N=%{y}<extra></extra>",
         "legendgroup": "",
         "line": {
          "color": "#636efa",
          "dash": "solid"
         },
         "marker": {
          "symbol": "circle"
         },
         "mode": "lines",
         "name": "",
         "orientation": "v",
         "showlegend": false,
         "x": [
          "2013-14",
          "2014-15",
          "2015-16"
         ],
         "xaxis": "x",
         "y": [
          1073.0,
          1049.0,
          1058.0
         ],
         "yaxis": "y",
         "type": "scatter"
        }
       ],
       "layout": {
        "template": {
         "data": {
          "histogram2dcontour": [
           {
            "type": "histogram2dcontour",
            "colorbar": {
             "outlinewidth": 0,
             "ticks": ""
            },
            "colorscale": [
             [
              0.0,
              "#0d0887"
             ],
             [
              0.1111111111111111,
              "#46039f"
             ],
             [
              0.2222222222222222,
              "#7201a8"
             ],
             [
              0.3333333333333333,
              "#9c179e"
             ],
             [
              0.4444444444444444,
              "#bd3786"
             ],
             [
              0.5555555555555556,
              "#d8576b"
             ],
             [
              0.6666666666666666,
              "#ed7953"
             ],
             [
              0.7777777777777778,
              "#fb9f3a"
             ],
             [
              0.8888888888888888,
              "#fdca26"
             ],
             [
              1.0,
              "#f0f921"
             ]
            ]
           }
          ],
          "choropleth": [
           {
            "type": "choropleth",
            "colorbar": {
             "outlinewidth": 0,
             "ticks": ""
            }
           }
          ],
          "histogram2d": [
           {
            "type": "histogram2d",
            "colorbar": {
             "outlinewidth": 0,
             "ticks": ""
            },
            "colorscale": [
             [
              0.0,
              "#0d0887"
             ],
             [
              0.1111111111111111,
              "#46039f"
             ],
             [
              0.2222222222222222,
              "#7201a8"
             ],
             [
              0.3333333333333333,
              "#9c179e"
             ],
             [
              0.4444444444444444,
              "#bd3786"
             ],
             [
              0.5555555555555556,
              "#d8576b"
             ],
             [
              0.6666666666666666,
              "#ed7953"
             ],
             [
              0.7777777777777778,
              "#fb9f3a"
             ],
             [
              0.8888888888888888,
              "#fdca26"
             ],
             [
              1.0,
              "#f0f921"
             ]
            ]
           }
          ],
          "heatmap": [
           {
            "type": "heatmap",
            "colorbar": {
             "outlinewidth": 0,
             "ticks": ""
            },
            "colorscale": [
             [
              0.0,
              "#0d0887"
             ],
             [
              0.1111111111111111,
              "#46039f"
             ],
             [
              0.2222222222222222,
              "#7201a8"
             ],
             [
              0.3333333333333333,
              "#9c179e"
             ],
             [
              0.4444444444444444,
              "#bd3786"
             ],
             [
              0.5555555555555556,
              "#d8576b"
             ],
             [
              0.6666666666666666,
              "#ed7953"
             ],
             [
              0.7777777777777778,
              "#fb9f3a"
             ],
             [
              0.8888888888888888,
              "#fdca26"
             ],
             [
              1.0,
              "#f0f921"
             ]
            ]
           }
          ],
          "heatmapgl": [
           {
            "type": "heatmapgl",
            "colorbar": {
             "outlinewidth": 0,
             "ticks": ""
            },
            "colorscale": [
             [
              0.0,
              "#0d0887"
             ],
             [
              0.1111111111111111,
              "#46039f"
             ],
             [
              0.2222222222222222,
              "#7201a8"
             ],
             [
              0.3333333333333333,
              "#9c179e"
             ],
             [
              0.4444444444444444,
              "#bd3786"
             ],
             [
              0.5555555555555556,
              "#d8576b"
             ],
             [
              0.6666666666666666,
              "#ed7953"
             ],
             [
              0.7777777777777778,
              "#fb9f3a"
             ],
             [
              0.8888888888888888,
              "#fdca26"
             ],
             [
              1.0,
              "#f0f921"
             ]
            ]
           }
          ],
          "contourcarpet": [
           {
            "type": "contourcarpet",
            "colorbar": {
             "outlinewidth": 0,
             "ticks": ""
            }
           }
          ],
          "contour": [
           {
            "type": "contour",
            "colorbar": {
             "outlinewidth": 0,
             "ticks": ""
            },
            "colorscale": [
             [
              0.0,
              "#0d0887"
             ],
             [
              0.1111111111111111,
              "#46039f"
             ],
             [
              0.2222222222222222,
              "#7201a8"
             ],
             [
              0.3333333333333333,
              "#9c179e"
             ],
             [
              0.4444444444444444,
              "#bd3786"
             ],
             [
              0.5555555555555556,
              "#d8576b"
             ],
             [
              0.6666666666666666,
              "#ed7953"
             ],
             [
              0.7777777777777778,
              "#fb9f3a"
             ],
             [
              0.8888888888888888,
              "#fdca26"
             ],
             [
              1.0,
              "#f0f921"
             ]
            ]
           }
          ],
          "surface": [
           {
            "type": "surface",
            "colorbar": {
             "outlinewidth": 0,
             "ticks": ""
            },
            "colorscale": [
             [
              0.0,
              "#0d0887"
             ],
             [
              0.1111111111111111,
              "#46039f"
             ],
             [
              0.2222222222222222,
              "#7201a8"
             ],
             [
              0.3333333333333333,
              "#9c179e"
             ],
             [
              0.4444444444444444,
              "#bd3786"
             ],
             [
              0.5555555555555556,
              "#d8576b"
             ],
             [
              0.6666666666666666,
              "#ed7953"
             ],
             [
              0.7777777777777778,
              "#fb9f3a"
             ],
             [
              0.8888888888888888,
              "#fdca26"
             ],
             [
              1.0,
              "#f0f921"
             ]
            ]
           }
          ],
          "mesh3d": [
           {
            "type": "mesh3d",
            "colorbar": {
             "outlinewidth": 0,
             "ticks": ""
            }
           }
          ],
          "scatter": [
           {
            "marker": {
             "line": {
              "color": "#283442"
             }
            },
            "type": "scatter"
           }
          ],
          "parcoords": [
           {
            "type": "parcoords",
            "line": {
             "colorbar": {
              "outlinewidth": 0,
              "ticks": ""
             }
            }
           }
          ],
          "scatterpolargl": [
           {
            "type": "scatterpolargl",
            "marker": {
             "colorbar": {
              "outlinewidth": 0,
              "ticks": ""
             }
            }
           }
          ],
          "bar": [
           {
            "error_x": {
             "color": "#f2f5fa"
            },
            "error_y": {
             "color": "#f2f5fa"
            },
            "marker": {
             "line": {
              "color": "rgb(17,17,17)",
              "width": 0.5
             },
             "pattern": {
              "fillmode": "overlay",
              "size": 10,
              "solidity": 0.2
             }
            },
            "type": "bar"
           }
          ],
          "scattergeo": [
           {
            "type": "scattergeo",
            "marker": {
             "colorbar": {
              "outlinewidth": 0,
              "ticks": ""
             }
            }
           }
          ],
          "scatterpolar": [
           {
            "type": "scatterpolar",
            "marker": {
             "colorbar": {
              "outlinewidth": 0,
              "ticks": ""
             }
            }
           }
          ],
          "histogram": [
           {
            "marker": {
             "pattern": {
              "fillmode": "overlay",
              "size": 10,
              "solidity": 0.2
             }
            },
            "type": "histogram"
           }
          ],
          "scattergl": [
           {
            "marker": {
             "line": {
              "color": "#283442"
             }
            },
            "type": "scattergl"
           }
          ],
          "scatter3d": [
           {
            "type": "scatter3d",
            "line": {
             "colorbar": {
              "outlinewidth": 0,
              "ticks": ""
             }
            },
            "marker": {
             "colorbar": {
              "outlinewidth": 0,
              "ticks": ""
             }
            }
           }
          ],
          "scattermapbox": [
           {
            "type": "scattermapbox",
            "marker": {
             "colorbar": {
              "outlinewidth": 0,
              "ticks": ""
             }
            }
           }
          ],
          "scatterternary": [
           {
            "type": "scatterternary",
            "marker": {
             "colorbar": {
              "outlinewidth": 0,
              "ticks": ""
             }
            }
           }
          ],
          "scattercarpet": [
           {
            "type": "scattercarpet",
            "marker": {
             "colorbar": {
              "outlinewidth": 0,
              "ticks": ""
             }
            }
           }
          ],
          "carpet": [
           {
            "aaxis": {
             "endlinecolor": "#A2B1C6",
             "gridcolor": "#506784",
             "linecolor": "#506784",
             "minorgridcolor": "#506784",
             "startlinecolor": "#A2B1C6"
            },
            "baxis": {
             "endlinecolor": "#A2B1C6",
             "gridcolor": "#506784",
             "linecolor": "#506784",
             "minorgridcolor": "#506784",
             "startlinecolor": "#A2B1C6"
            },
            "type": "carpet"
           }
          ],
          "table": [
           {
            "cells": {
             "fill": {
              "color": "#506784"
             },
             "line": {
              "color": "rgb(17,17,17)"
             }
            },
            "header": {
             "fill": {
              "color": "#2a3f5f"
             },
             "line": {
              "color": "rgb(17,17,17)"
             }
            },
            "type": "table"
           }
          ],
          "barpolar": [
           {
            "marker": {
             "line": {
              "color": "rgb(17,17,17)",
              "width": 0.5
             },
             "pattern": {
              "fillmode": "overlay",
              "size": 10,
              "solidity": 0.2
             }
            },
            "type": "barpolar"
           }
          ],
          "pie": [
           {
            "automargin": true,
            "type": "pie"
           }
          ]
         },
         "layout": {
          "autotypenumbers": "strict",
          "colorway": [
           "#636efa",
           "#EF553B",
           "#00cc96",
           "#ab63fa",
           "#FFA15A",
           "#19d3f3",
           "#FF6692",
           "#B6E880",
           "#FF97FF",
           "#FECB52"
          ],
          "font": {
           "color": "#f2f5fa"
          },
          "hovermode": "closest",
          "hoverlabel": {
           "align": "left"
          },
          "paper_bgcolor": "rgb(17,17,17)",
          "plot_bgcolor": "rgb(17,17,17)",
          "polar": {
           "bgcolor": "rgb(17,17,17)",
           "angularaxis": {
            "gridcolor": "#506784",
            "linecolor": "#506784",
            "ticks": ""
           },
           "radialaxis": {
            "gridcolor": "#506784",
            "linecolor": "#506784",
            "ticks": ""
           }
          },
          "ternary": {
           "bgcolor": "rgb(17,17,17)",
           "aaxis": {
            "gridcolor": "#506784",
            "linecolor": "#506784",
            "ticks": ""
           },
           "baxis": {
            "gridcolor": "#506784",
            "linecolor": "#506784",
            "ticks": ""
           },
           "caxis": {
            "gridcolor": "#506784",
            "linecolor": "#506784",
            "ticks": ""
           }
          },
          "coloraxis": {
           "colorbar": {
            "outlinewidth": 0,
            "ticks": ""
           }
          },
          "colorscale": {
           "sequential": [
            [
             0.0,
             "#0d0887"
            ],
            [
             0.1111111111111111,
             "#46039f"
            ],
            [
             0.2222222222222222,
             "#7201a8"
            ],
            [
             0.3333333333333333,
             "#9c179e"
            ],
            [
             0.4444444444444444,
             "#bd3786"
            ],
            [
             0.5555555555555556,
             "#d8576b"
            ],
            [
             0.6666666666666666,
             "#ed7953"
            ],
            [
             0.7777777777777778,
             "#fb9f3a"
            ],
            [
             0.8888888888888888,
             "#fdca26"
            ],
            [
             1.0,
             "#f0f921"
            ]
           ],
           "sequentialminus": [
            [
             0.0,
             "#0d0887"
            ],
            [
             0.1111111111111111,
             "#46039f"
            ],
            [
             0.2222222222222222,
             "#7201a8"
            ],
            [
             0.3333333333333333,
             "#9c179e"
            ],
            [
             0.4444444444444444,
             "#bd3786"
            ],
            [
             0.5555555555555556,
             "#d8576b"
            ],
            [
             0.6666666666666666,
             "#ed7953"
            ],
            [
             0.7777777777777778,
             "#fb9f3a"
            ],
            [
             0.8888888888888888,
             "#fdca26"
            ],
            [
             1.0,
             "#f0f921"
            ]
           ],
           "diverging": [
            [
             0,
             "#8e0152"
            ],
            [
             0.1,
             "#c51b7d"
            ],
            [
             0.2,
             "#de77ae"
            ],
            [
             0.3,
             "#f1b6da"
            ],
            [
             0.4,
             "#fde0ef"
            ],
            [
             0.5,
             "#f7f7f7"
            ],
            [
             0.6,
             "#e6f5d0"
            ],
            [
             0.7,
             "#b8e186"
            ],
            [
             0.8,
             "#7fbc41"
            ],
            [
             0.9,
             "#4d9221"
            ],
            [
             1,
             "#276419"
            ]
           ]
          },
          "xaxis": {
           "gridcolor": "#283442",
           "linecolor": "#506784",
           "ticks": "",
           "title": {
            "standoff": 15
           },
           "zerolinecolor": "#283442",
           "automargin": true,
           "zerolinewidth": 2
          },
          "yaxis": {
           "gridcolor": "#283442",
           "linecolor": "#506784",
           "ticks": "",
           "title": {
            "standoff": 15
           },
           "zerolinecolor": "#283442",
           "automargin": true,
           "zerolinewidth": 2
          },
          "scene": {
           "xaxis": {
            "backgroundcolor": "rgb(17,17,17)",
            "gridcolor": "#506784",
            "linecolor": "#506784",
            "showbackground": true,
            "ticks": "",
            "zerolinecolor": "#C8D4E3",
            "gridwidth": 2
           },
           "yaxis": {
            "backgroundcolor": "rgb(17,17,17)",
            "gridcolor": "#506784",
            "linecolor": "#506784",
            "showbackground": true,
            "ticks": "",
            "zerolinecolor": "#C8D4E3",
            "gridwidth": 2
           },
           "zaxis": {
            "backgroundcolor": "rgb(17,17,17)",
            "gridcolor": "#506784",
            "linecolor": "#506784",
            "showbackground": true,
            "ticks": "",
            "zerolinecolor": "#C8D4E3",
            "gridwidth": 2
           }
          },
          "shapedefaults": {
           "line": {
            "color": "#f2f5fa"
           }
          },
          "annotationdefaults": {
           "arrowcolor": "#f2f5fa",
           "arrowhead": 0,
           "arrowwidth": 1
          },
          "geo": {
           "bgcolor": "rgb(17,17,17)",
           "landcolor": "rgb(17,17,17)",
           "subunitcolor": "#506784",
           "showland": true,
           "showlakes": true,
           "lakecolor": "rgb(17,17,17)"
          },
          "title": {
           "x": 0.05
          },
          "updatemenudefaults": {
           "bgcolor": "#506784",
           "borderwidth": 0
          },
          "sliderdefaults": {
           "bgcolor": "#C8D4E3",
           "borderwidth": 1,
           "bordercolor": "rgb(17,17,17)",
           "tickwidth": 0
          },
          "mapbox": {
           "style": "dark"
          }
         }
        },
        "xaxis": {
         "anchor": "y",
         "domain": [
          0.0,
          1.0
         ],
         "title": {
          "text": "School Year"
         }
        },
        "yaxis": {
         "anchor": "x",
         "domain": [
          0.0,
          1.0
         ],
         "title": {
          "text": "Vio N"
         }
        },
        "legend": {
         "tracegroupgap": 0
        },
        "title": {
         "text": "Distribution of Violence per year"
        }
       },
       "config": {
        "plotlyServerURL": "https://plot.ly"
       }
      },
      "text/html": "<div>                            <div id=\"8180014a-0a58-4692-b5b2-c1eb7ee603ff\" class=\"plotly-graph-div\" style=\"height:525px; width:100%;\"></div>            <script type=\"text/javascript\">                require([\"plotly\"], function(Plotly) {                    window.PLOTLYENV=window.PLOTLYENV || {};                                    if (document.getElementById(\"8180014a-0a58-4692-b5b2-c1eb7ee603ff\")) {                    Plotly.newPlot(                        \"8180014a-0a58-4692-b5b2-c1eb7ee603ff\",                        [{\"hovertemplate\":\"School Year=%{x}\\u003cbr\\u003eVio N=%{y}\\u003cextra\\u003e\\u003c\\u002fextra\\u003e\",\"legendgroup\":\"\",\"line\":{\"color\":\"#636efa\",\"dash\":\"solid\"},\"marker\":{\"symbol\":\"circle\"},\"mode\":\"lines\",\"name\":\"\",\"orientation\":\"v\",\"showlegend\":false,\"x\":[\"2013-14\",\"2014-15\",\"2015-16\"],\"xaxis\":\"x\",\"y\":[1073.0,1049.0,1058.0],\"yaxis\":\"y\",\"type\":\"scatter\"}],                        {\"template\":{\"data\":{\"histogram2dcontour\":[{\"type\":\"histogram2dcontour\",\"colorbar\":{\"outlinewidth\":0,\"ticks\":\"\"},\"colorscale\":[[0.0,\"#0d0887\"],[0.1111111111111111,\"#46039f\"],[0.2222222222222222,\"#7201a8\"],[0.3333333333333333,\"#9c179e\"],[0.4444444444444444,\"#bd3786\"],[0.5555555555555556,\"#d8576b\"],[0.6666666666666666,\"#ed7953\"],[0.7777777777777778,\"#fb9f3a\"],[0.8888888888888888,\"#fdca26\"],[1.0,\"#f0f921\"]]}],\"choropleth\":[{\"type\":\"choropleth\",\"colorbar\":{\"outlinewidth\":0,\"ticks\":\"\"}}],\"histogram2d\":[{\"type\":\"histogram2d\",\"colorbar\":{\"outlinewidth\":0,\"ticks\":\"\"},\"colorscale\":[[0.0,\"#0d0887\"],[0.1111111111111111,\"#46039f\"],[0.2222222222222222,\"#7201a8\"],[0.3333333333333333,\"#9c179e\"],[0.4444444444444444,\"#bd3786\"],[0.5555555555555556,\"#d8576b\"],[0.6666666666666666,\"#ed7953\"],[0.7777777777777778,\"#fb9f3a\"],[0.8888888888888888,\"#fdca26\"],[1.0,\"#f0f921\"]]}],\"heatmap\":[{\"type\":\"heatmap\",\"colorbar\":{\"outlinewidth\":0,\"ticks\":\"\"},\"colorscale\":[[0.0,\"#0d0887\"],[0.1111111111111111,\"#46039f\"],[0.2222222222222222,\"#7201a8\"],[0.3333333333333333,\"#9c179e\"],[0.4444444444444444,\"#bd3786\"],[0.5555555555555556,\"#d8576b\"],[0.6666666666666666,\"#ed7953\"],[0.7777777777777778,\"#fb9f3a\"],[0.8888888888888888,\"#fdca26\"],[1.0,\"#f0f921\"]]}],\"heatmapgl\":[{\"type\":\"heatmapgl\",\"colorbar\":{\"outlinewidth\":0,\"ticks\":\"\"},\"colorscale\":[[0.0,\"#0d0887\"],[0.1111111111111111,\"#46039f\"],[0.2222222222222222,\"#7201a8\"],[0.3333333333333333,\"#9c179e\"],[0.4444444444444444,\"#bd3786\"],[0.5555555555555556,\"#d8576b\"],[0.6666666666666666,\"#ed7953\"],[0.7777777777777778,\"#fb9f3a\"],[0.8888888888888888,\"#fdca26\"],[1.0,\"#f0f921\"]]}],\"contourcarpet\":[{\"type\":\"contourcarpet\",\"colorbar\":{\"outlinewidth\":0,\"ticks\":\"\"}}],\"contour\":[{\"type\":\"contour\",\"colorbar\":{\"outlinewidth\":0,\"ticks\":\"\"},\"colorscale\":[[0.0,\"#0d0887\"],[0.1111111111111111,\"#46039f\"],[0.2222222222222222,\"#7201a8\"],[0.3333333333333333,\"#9c179e\"],[0.4444444444444444,\"#bd3786\"],[0.5555555555555556,\"#d8576b\"],[0.6666666666666666,\"#ed7953\"],[0.7777777777777778,\"#fb9f3a\"],[0.8888888888888888,\"#fdca26\"],[1.0,\"#f0f921\"]]}],\"surface\":[{\"type\":\"surface\",\"colorbar\":{\"outlinewidth\":0,\"ticks\":\"\"},\"colorscale\":[[0.0,\"#0d0887\"],[0.1111111111111111,\"#46039f\"],[0.2222222222222222,\"#7201a8\"],[0.3333333333333333,\"#9c179e\"],[0.4444444444444444,\"#bd3786\"],[0.5555555555555556,\"#d8576b\"],[0.6666666666666666,\"#ed7953\"],[0.7777777777777778,\"#fb9f3a\"],[0.8888888888888888,\"#fdca26\"],[1.0,\"#f0f921\"]]}],\"mesh3d\":[{\"type\":\"mesh3d\",\"colorbar\":{\"outlinewidth\":0,\"ticks\":\"\"}}],\"scatter\":[{\"marker\":{\"line\":{\"color\":\"#283442\"}},\"type\":\"scatter\"}],\"parcoords\":[{\"type\":\"parcoords\",\"line\":{\"colorbar\":{\"outlinewidth\":0,\"ticks\":\"\"}}}],\"scatterpolargl\":[{\"type\":\"scatterpolargl\",\"marker\":{\"colorbar\":{\"outlinewidth\":0,\"ticks\":\"\"}}}],\"bar\":[{\"error_x\":{\"color\":\"#f2f5fa\"},\"error_y\":{\"color\":\"#f2f5fa\"},\"marker\":{\"line\":{\"color\":\"rgb(17,17,17)\",\"width\":0.5},\"pattern\":{\"fillmode\":\"overlay\",\"size\":10,\"solidity\":0.2}},\"type\":\"bar\"}],\"scattergeo\":[{\"type\":\"scattergeo\",\"marker\":{\"colorbar\":{\"outlinewidth\":0,\"ticks\":\"\"}}}],\"scatterpolar\":[{\"type\":\"scatterpolar\",\"marker\":{\"colorbar\":{\"outlinewidth\":0,\"ticks\":\"\"}}}],\"histogram\":[{\"marker\":{\"pattern\":{\"fillmode\":\"overlay\",\"size\":10,\"solidity\":0.2}},\"type\":\"histogram\"}],\"scattergl\":[{\"marker\":{\"line\":{\"color\":\"#283442\"}},\"type\":\"scattergl\"}],\"scatter3d\":[{\"type\":\"scatter3d\",\"line\":{\"colorbar\":{\"outlinewidth\":0,\"ticks\":\"\"}},\"marker\":{\"colorbar\":{\"outlinewidth\":0,\"ticks\":\"\"}}}],\"scattermapbox\":[{\"type\":\"scattermapbox\",\"marker\":{\"colorbar\":{\"outlinewidth\":0,\"ticks\":\"\"}}}],\"scatterternary\":[{\"type\":\"scatterternary\",\"marker\":{\"colorbar\":{\"outlinewidth\":0,\"ticks\":\"\"}}}],\"scattercarpet\":[{\"type\":\"scattercarpet\",\"marker\":{\"colorbar\":{\"outlinewidth\":0,\"ticks\":\"\"}}}],\"carpet\":[{\"aaxis\":{\"endlinecolor\":\"#A2B1C6\",\"gridcolor\":\"#506784\",\"linecolor\":\"#506784\",\"minorgridcolor\":\"#506784\",\"startlinecolor\":\"#A2B1C6\"},\"baxis\":{\"endlinecolor\":\"#A2B1C6\",\"gridcolor\":\"#506784\",\"linecolor\":\"#506784\",\"minorgridcolor\":\"#506784\",\"startlinecolor\":\"#A2B1C6\"},\"type\":\"carpet\"}],\"table\":[{\"cells\":{\"fill\":{\"color\":\"#506784\"},\"line\":{\"color\":\"rgb(17,17,17)\"}},\"header\":{\"fill\":{\"color\":\"#2a3f5f\"},\"line\":{\"color\":\"rgb(17,17,17)\"}},\"type\":\"table\"}],\"barpolar\":[{\"marker\":{\"line\":{\"color\":\"rgb(17,17,17)\",\"width\":0.5},\"pattern\":{\"fillmode\":\"overlay\",\"size\":10,\"solidity\":0.2}},\"type\":\"barpolar\"}],\"pie\":[{\"automargin\":true,\"type\":\"pie\"}]},\"layout\":{\"autotypenumbers\":\"strict\",\"colorway\":[\"#636efa\",\"#EF553B\",\"#00cc96\",\"#ab63fa\",\"#FFA15A\",\"#19d3f3\",\"#FF6692\",\"#B6E880\",\"#FF97FF\",\"#FECB52\"],\"font\":{\"color\":\"#f2f5fa\"},\"hovermode\":\"closest\",\"hoverlabel\":{\"align\":\"left\"},\"paper_bgcolor\":\"rgb(17,17,17)\",\"plot_bgcolor\":\"rgb(17,17,17)\",\"polar\":{\"bgcolor\":\"rgb(17,17,17)\",\"angularaxis\":{\"gridcolor\":\"#506784\",\"linecolor\":\"#506784\",\"ticks\":\"\"},\"radialaxis\":{\"gridcolor\":\"#506784\",\"linecolor\":\"#506784\",\"ticks\":\"\"}},\"ternary\":{\"bgcolor\":\"rgb(17,17,17)\",\"aaxis\":{\"gridcolor\":\"#506784\",\"linecolor\":\"#506784\",\"ticks\":\"\"},\"baxis\":{\"gridcolor\":\"#506784\",\"linecolor\":\"#506784\",\"ticks\":\"\"},\"caxis\":{\"gridcolor\":\"#506784\",\"linecolor\":\"#506784\",\"ticks\":\"\"}},\"coloraxis\":{\"colorbar\":{\"outlinewidth\":0,\"ticks\":\"\"}},\"colorscale\":{\"sequential\":[[0.0,\"#0d0887\"],[0.1111111111111111,\"#46039f\"],[0.2222222222222222,\"#7201a8\"],[0.3333333333333333,\"#9c179e\"],[0.4444444444444444,\"#bd3786\"],[0.5555555555555556,\"#d8576b\"],[0.6666666666666666,\"#ed7953\"],[0.7777777777777778,\"#fb9f3a\"],[0.8888888888888888,\"#fdca26\"],[1.0,\"#f0f921\"]],\"sequentialminus\":[[0.0,\"#0d0887\"],[0.1111111111111111,\"#46039f\"],[0.2222222222222222,\"#7201a8\"],[0.3333333333333333,\"#9c179e\"],[0.4444444444444444,\"#bd3786\"],[0.5555555555555556,\"#d8576b\"],[0.6666666666666666,\"#ed7953\"],[0.7777777777777778,\"#fb9f3a\"],[0.8888888888888888,\"#fdca26\"],[1.0,\"#f0f921\"]],\"diverging\":[[0,\"#8e0152\"],[0.1,\"#c51b7d\"],[0.2,\"#de77ae\"],[0.3,\"#f1b6da\"],[0.4,\"#fde0ef\"],[0.5,\"#f7f7f7\"],[0.6,\"#e6f5d0\"],[0.7,\"#b8e186\"],[0.8,\"#7fbc41\"],[0.9,\"#4d9221\"],[1,\"#276419\"]]},\"xaxis\":{\"gridcolor\":\"#283442\",\"linecolor\":\"#506784\",\"ticks\":\"\",\"title\":{\"standoff\":15},\"zerolinecolor\":\"#283442\",\"automargin\":true,\"zerolinewidth\":2},\"yaxis\":{\"gridcolor\":\"#283442\",\"linecolor\":\"#506784\",\"ticks\":\"\",\"title\":{\"standoff\":15},\"zerolinecolor\":\"#283442\",\"automargin\":true,\"zerolinewidth\":2},\"scene\":{\"xaxis\":{\"backgroundcolor\":\"rgb(17,17,17)\",\"gridcolor\":\"#506784\",\"linecolor\":\"#506784\",\"showbackground\":true,\"ticks\":\"\",\"zerolinecolor\":\"#C8D4E3\",\"gridwidth\":2},\"yaxis\":{\"backgroundcolor\":\"rgb(17,17,17)\",\"gridcolor\":\"#506784\",\"linecolor\":\"#506784\",\"showbackground\":true,\"ticks\":\"\",\"zerolinecolor\":\"#C8D4E3\",\"gridwidth\":2},\"zaxis\":{\"backgroundcolor\":\"rgb(17,17,17)\",\"gridcolor\":\"#506784\",\"linecolor\":\"#506784\",\"showbackground\":true,\"ticks\":\"\",\"zerolinecolor\":\"#C8D4E3\",\"gridwidth\":2}},\"shapedefaults\":{\"line\":{\"color\":\"#f2f5fa\"}},\"annotationdefaults\":{\"arrowcolor\":\"#f2f5fa\",\"arrowhead\":0,\"arrowwidth\":1},\"geo\":{\"bgcolor\":\"rgb(17,17,17)\",\"landcolor\":\"rgb(17,17,17)\",\"subunitcolor\":\"#506784\",\"showland\":true,\"showlakes\":true,\"lakecolor\":\"rgb(17,17,17)\"},\"title\":{\"x\":0.05},\"updatemenudefaults\":{\"bgcolor\":\"#506784\",\"borderwidth\":0},\"sliderdefaults\":{\"bgcolor\":\"#C8D4E3\",\"borderwidth\":1,\"bordercolor\":\"rgb(17,17,17)\",\"tickwidth\":0},\"mapbox\":{\"style\":\"dark\"}}},\"xaxis\":{\"anchor\":\"y\",\"domain\":[0.0,1.0],\"title\":{\"text\":\"School Year\"}},\"yaxis\":{\"anchor\":\"x\",\"domain\":[0.0,1.0],\"title\":{\"text\":\"Vio N\"}},\"legend\":{\"tracegroupgap\":0},\"title\":{\"text\":\"Distribution of Violence per year\"}},                        {\"responsive\": true}                    ).then(function(){\n                            \nvar gd = document.getElementById('8180014a-0a58-4692-b5b2-c1eb7ee603ff');\nvar x = new MutationObserver(function (mutations, observer) {{\n        var display = window.getComputedStyle(gd).display;\n        if (!display || display === 'none') {{\n            console.log([gd, 'removed!']);\n            Plotly.purge(gd);\n            observer.disconnect();\n        }}\n}});\n\n// Listen for the removal of the full notebook cells\nvar notebookContainer = gd.closest('#notebook-container');\nif (notebookContainer) {{\n    x.observe(notebookContainer, {childList: true});\n}}\n\n// Listen for the clearing of the current output cell\nvar outputEl = gd.closest('.output');\nif (outputEl) {{\n    x.observe(outputEl, {childList: true});\n}}\n\n                        })                };                });            </script>        </div>"
     },
     "metadata": {},
     "output_type": "display_data"
    }
   ],
   "source": [
    "fig = px.line(sy_vio_df, x=\"School Year\", y=\"Vio N\", title=\"Distribution of Violence per year\")\n",
    "fig.show()"
   ],
   "metadata": {
    "collapsed": false,
    "ExecuteTime": {
     "end_time": "2024-01-20T19:57:56.882357900Z",
     "start_time": "2024-01-20T19:57:56.833812500Z"
    }
   },
   "id": "f910f68c2aab5f8"
  },
  {
   "cell_type": "code",
   "execution_count": 43,
   "outputs": [
    {
     "data": {
      "text/plain": "NTA\nEast Concourse-Concourse Village                                               116\nStuyvesant Heights                                                             113\nBrownsville                                                                    103\nCrown Heights North                                                            102\nEast New York                                                                   97\n                                                                              ... \nOcean Parkway South                                                              3\nCollege Point                                                                    3\nRossville-Woodrow                                                                3\nRikers Island                                                                    3\nKew Gardens                                                                      3\nName: count, Length: 189, dtype: int64"
     },
     "execution_count": 43,
     "metadata": {},
     "output_type": "execute_result"
    }
   ],
   "source": [
    "data[\"NTA\"].value_counts()"
   ],
   "metadata": {
    "collapsed": false,
    "ExecuteTime": {
     "end_time": "2024-01-20T20:08:45.226803900Z",
     "start_time": "2024-01-20T20:08:45.208650400Z"
    }
   },
   "id": "b044efb92aa4a08a"
  },
  {
   "cell_type": "code",
   "execution_count": 44,
   "outputs": [
    {
     "data": {
      "text/plain": "                                                   NTA  Prop N\n0    Allerton-Pelham Gardens                       ...    11.0\n1    Annadale-Huguenot-Prince's Bay-Eltingville    ...    33.0\n2    Arden Heights                                 ...     1.0\n3    Astoria                                       ...    36.0\n4    Auburndale                                    ...    24.0\n..                                                 ...     ...\n184  Woodhaven                                     ...     5.0\n185  Woodlawn-Wakefield                            ...     5.0\n186  Woodside                                      ...     5.0\n187  Yorkville                                     ...    12.0\n188  park-cemetery-etc-Brooklyn                    ...    13.0\n\n[189 rows x 2 columns]",
      "text/html": "<div>\n<style scoped>\n    .dataframe tbody tr th:only-of-type {\n        vertical-align: middle;\n    }\n\n    .dataframe tbody tr th {\n        vertical-align: top;\n    }\n\n    .dataframe thead th {\n        text-align: right;\n    }\n</style>\n<table border=\"1\" class=\"dataframe\">\n  <thead>\n    <tr style=\"text-align: right;\">\n      <th></th>\n      <th>NTA</th>\n      <th>Prop N</th>\n    </tr>\n  </thead>\n  <tbody>\n    <tr>\n      <th>0</th>\n      <td>Allerton-Pelham Gardens                       ...</td>\n      <td>11.0</td>\n    </tr>\n    <tr>\n      <th>1</th>\n      <td>Annadale-Huguenot-Prince's Bay-Eltingville    ...</td>\n      <td>33.0</td>\n    </tr>\n    <tr>\n      <th>2</th>\n      <td>Arden Heights                                 ...</td>\n      <td>1.0</td>\n    </tr>\n    <tr>\n      <th>3</th>\n      <td>Astoria                                       ...</td>\n      <td>36.0</td>\n    </tr>\n    <tr>\n      <th>4</th>\n      <td>Auburndale                                    ...</td>\n      <td>24.0</td>\n    </tr>\n    <tr>\n      <th>...</th>\n      <td>...</td>\n      <td>...</td>\n    </tr>\n    <tr>\n      <th>184</th>\n      <td>Woodhaven                                     ...</td>\n      <td>5.0</td>\n    </tr>\n    <tr>\n      <th>185</th>\n      <td>Woodlawn-Wakefield                            ...</td>\n      <td>5.0</td>\n    </tr>\n    <tr>\n      <th>186</th>\n      <td>Woodside                                      ...</td>\n      <td>5.0</td>\n    </tr>\n    <tr>\n      <th>187</th>\n      <td>Yorkville                                     ...</td>\n      <td>12.0</td>\n    </tr>\n    <tr>\n      <th>188</th>\n      <td>park-cemetery-etc-Brooklyn                    ...</td>\n      <td>13.0</td>\n    </tr>\n  </tbody>\n</table>\n<p>189 rows × 2 columns</p>\n</div>"
     },
     "execution_count": 44,
     "metadata": {},
     "output_type": "execute_result"
    }
   ],
   "source": [
    "nta_propn_df = data[[\"NTA\", \"Prop N\"]].groupby(\"NTA\").sum().reset_index()\n",
    "nta_propn_df"
   ],
   "metadata": {
    "collapsed": false,
    "ExecuteTime": {
     "end_time": "2024-01-20T20:11:47.308943400Z",
     "start_time": "2024-01-20T20:11:47.276727Z"
    }
   },
   "id": "37899ecc68eea85b"
  },
  {
   "cell_type": "code",
   "execution_count": 45,
   "outputs": [
    {
     "data": {
      "application/vnd.plotly.v1+json": {
       "data": [
        {
         "hovertemplate": "NTA=%{x}<br>Prop N=%{y}<extra></extra>",
         "legendgroup": "",
         "line": {
          "color": "#636efa",
          "dash": "solid"
         },
         "marker": {
          "symbol": "circle"
         },
         "mode": "lines",
         "name": "",
         "orientation": "v",
         "showlegend": false,
         "x": [
          "Allerton-Pelham Gardens                                                    ",
          "Annadale-Huguenot-Prince's Bay-Eltingville                                 ",
          "Arden Heights                                                              ",
          "Astoria                                                                    ",
          "Auburndale                                                                 ",
          "Baisley Park                                                               ",
          "Bath Beach                                                                 ",
          "Battery Park City-Lower Manhattan                                          ",
          "Bay Ridge                                                                  ",
          "Bayside-Bayside Hills                                                      ",
          "Bedford                                                                    ",
          "Bedford Park-Fordham North                                                 ",
          "Bellerose                                                                  ",
          "Belmont                                                                    ",
          "Bensonhurst East                                                           ",
          "Bensonhurst West                                                           ",
          "Borough Park                                                               ",
          "Breezy Point-Belle Harbor-Rockaway Park-Broad Channel                      ",
          "Briarwood-Jamaica Hills                                                    ",
          "Brighton Beach                                                             ",
          "Bronxdale                                                                  ",
          "Brooklyn Heights-Cobble Hill                                               ",
          "Brownsville                                                                ",
          "Bushwick North                                                             ",
          "Bushwick South                                                             ",
          "Cambria Heights                                                            ",
          "Canarsie                                                                   ",
          "Carroll Gardens-Columbia Street-Red Hook                                   ",
          "Central Harlem North-Polo Grounds                                          ",
          "Central Harlem South                                                       ",
          "Charleston-Richmond Valley-Tottenville                                     ",
          "Chinatown                                                                  ",
          "Claremont-Bathgate                                                         ",
          "Clinton                                                                    ",
          "Clinton Hill                                                               ",
          "Co-op City                                                                 ",
          "College Point                                                              ",
          "Corona                                                                     ",
          "Crotona Park East                                                          ",
          "Crown Heights North                                                        ",
          "Crown Heights South                                                        ",
          "Cypress Hills-City Line                                                    ",
          "DUMBO-Vinegar Hill-Downtown Brooklyn-Boerum Hill                           ",
          "Douglas Manor-Douglaston-Little Neck                                       ",
          "Dyker Heights                                                              ",
          "East Concourse-Concourse Village                                           ",
          "East Elmhurst                                                              ",
          "East Flatbush-Farragut                                                     ",
          "East Flushing                                                              ",
          "East Harlem North                                                          ",
          "East Harlem South                                                          ",
          "East New York                                                              ",
          "East New York (Pennsylvania Ave)                                           ",
          "East Tremont                                                               ",
          "East Village                                                               ",
          "East Williamsburg                                                          ",
          "Eastchester-Edenwald-Baychester                                            ",
          "Elmhurst                                                                   ",
          "Elmhurst-Maspeth                                                           ",
          "Erasmus                                                                    ",
          "Far Rockaway-Bayswater                                                     ",
          "Flatbush                                                                   ",
          "Flatlands                                                                  ",
          "Flushing                                                                   ",
          "Fordham South                                                              ",
          "Forest Hills                                                               ",
          "Fort Greene                                                                ",
          "Fresh Meadows-Utopia                                                       ",
          "Ft. Totten-Bay Terrace-Clearview                                           ",
          "Georgetown-Marine Park-Bergen Beach-Mill Basin                             ",
          "Glen Oaks-Floral Park-New Hyde Park                                        ",
          "Glendale                                                                   ",
          "Gramercy                                                                   ",
          "Grasmere-Arrochar-Ft. Wadsworth                                            ",
          "Gravesend                                                                  ",
          "Great Kills                                                                ",
          "Greenpoint                                                                 ",
          "Grymes Hill-Clifton-Fox Hills                                              ",
          "Hamilton Heights                                                           ",
          "Hammels-Arverne-Edgemere                                                   ",
          "Highbridge                                                                 ",
          "Hollis                                                                     ",
          "Homecrest                                                                  ",
          "Hudson Yards-Chelsea-Flatiron-Union Square                                 ",
          "Hunters Point-Sunnyside-West Maspeth                                       ",
          "Hunts Point                                                                ",
          "Jackson Heights                                                            ",
          "Jamaica                                                                    ",
          "Jamaica Estates-Holliswood                                                 ",
          "Kensington-Ocean Parkway                                                   ",
          "Kew Gardens                                                                ",
          "Kew Gardens Hills                                                          ",
          "Kingsbridge Heights                                                        ",
          "Laurelton                                                                  ",
          "Lenox Hill-Roosevelt Island                                                ",
          "Lincoln Square                                                             ",
          "Lindenwood-Howard Beach                                                    ",
          "Longwood                                                                   ",
          "Lower East Side                                                            ",
          "Madison                                                                    ",
          "Manhattanville                                                             ",
          "Marble Hill-Inwood                                                         ",
          "Mariner's Harbor-Arlington-Port Ivory-Graniteville                         ",
          "Maspeth                                                                    ",
          "Melrose South-Mott Haven North                                             ",
          "Middle Village                                                             ",
          "Midtown-Midtown South                                                      ",
          "Midwood                                                                    ",
          "Morningside Heights                                                        ",
          "Morrisania-Melrose                                                         ",
          "Mott Haven-Port Morris                                                     ",
          "Mount Hope                                                                 ",
          "Murray Hill                                                                ",
          "Murray Hill-Kips Bay                                                       ",
          "New Brighton-Silver Lake                                                   ",
          "New Dorp-Midland Beach                                                     ",
          "New Springville-Bloomfield-Travis                                          ",
          "North Corona                                                               ",
          "North Riverdale-Fieldston-Riverdale                                        ",
          "North Side-South Side                                                      ",
          "Norwood                                                                    ",
          "Oakland Gardens                                                            ",
          "Oakwood-Oakwood Beach                                                      ",
          "Ocean Hill                                                                 ",
          "Ocean Parkway South                                                        ",
          "Old Astoria                                                                ",
          "Old Town-Dongan Hills-South Beach                                          ",
          "Ozone Park                                                                 ",
          "Park Slope-Gowanus                                                         ",
          "Parkchester                                                                ",
          "Pelham Bay-Country Club-City Island                                        ",
          "Pelham Parkway                                                             ",
          "Pomonok-Flushing Heights-Hillcrest                                         ",
          "Port Richmond                                                              ",
          "Prospect Heights                                                           ",
          "Prospect Lefferts Gardens-Wingate                                          ",
          "Queens Village                                                             ",
          "Queensboro Hill                                                            ",
          "Queensbridge-Ravenswood-Long Island City                                   ",
          "Rego Park                                                                  ",
          "Richmond Hill                                                              ",
          "Ridgewood                                                                  ",
          "Rikers Island                                                              ",
          "Rosedale                                                                   ",
          "Rossville-Woodrow                                                          ",
          "Rugby-Remsen Village                                                       ",
          "Schuylerville-Throgs Neck-Edgewater Park                                   ",
          "Seagate-Coney Island                                                       ",
          "Sheepshead Bay-Gerritsen Beach-Manhattan Beach                             ",
          "SoHo-TriBeCa-Civic Center-Little Italy                                     ",
          "Soundview-Bruckner                                                         ",
          "Soundview-Castle Hill-Clason Point-Harding Park                            ",
          "South Jamaica                                                              ",
          "South Ozone Park                                                           ",
          "Springfield Gardens North                                                  ",
          "Springfield Gardens South-Brookville                                       ",
          "Spuyten Duyvil-Kingsbridge                                                 ",
          "St. Albans                                                                 ",
          "Stapleton-Rosebank                                                         ",
          "Starrett City                                                              ",
          "Steinway                                                                   ",
          "Stuyvesant Heights                                                         ",
          "Sunset Park East                                                           ",
          "Sunset Park West                                                           ",
          "Todt Hill-Emerson Hill-Heartland Village-Lighthouse Hill                   ",
          "Turtle Bay-East Midtown                                                    ",
          "University Heights-Morris Heights                                          ",
          "Upper East Side-Carnegie Hill                                              ",
          "Upper West Side                                                            ",
          "Van Cortlandt Village                                                      ",
          "Van Nest-Morris Park-Westchester Square                                    ",
          "Washington Heights North                                                   ",
          "Washington Heights South                                                   ",
          "West Brighton                                                              ",
          "West Concourse                                                             ",
          "West Farms-Bronx River                                                     ",
          "West New Brighton-New Brighton-St. George                                  ",
          "West Village                                                               ",
          "Westchester-Unionport                                                      ",
          "Westerleigh                                                                ",
          "Whitestone                                                                 ",
          "Williamsbridge-Olinville                                                   ",
          "Williamsburg                                                               ",
          "Windsor Terrace                                                            ",
          "Woodhaven                                                                  ",
          "Woodlawn-Wakefield                                                         ",
          "Woodside                                                                   ",
          "Yorkville                                                                  ",
          "park-cemetery-etc-Brooklyn                                                 "
         ],
         "xaxis": "x",
         "y": [
          11.0,
          33.0,
          1.0,
          36.0,
          24.0,
          18.0,
          2.0,
          40.0,
          32.0,
          18.0,
          34.0,
          8.0,
          19.0,
          35.0,
          10.0,
          20.0,
          23.0,
          26.0,
          54.0,
          13.0,
          22.0,
          4.0,
          77.0,
          38.0,
          72.0,
          12.0,
          45.0,
          31.0,
          72.0,
          42.0,
          4.0,
          80.0,
          51.0,
          58.0,
          20.0,
          44.0,
          0.0,
          10.0,
          43.0,
          70.0,
          46.0,
          3.0,
          72.0,
          3.0,
          6.0,
          72.0,
          8.0,
          6.0,
          1.0,
          52.0,
          57.0,
          73.0,
          29.0,
          73.0,
          16.0,
          22.0,
          18.0,
          16.0,
          5.0,
          25.0,
          22.0,
          25.0,
          4.0,
          35.0,
          13.0,
          38.0,
          39.0,
          4.0,
          3.0,
          2.0,
          5.0,
          5.0,
          56.0,
          8.0,
          37.0,
          4.0,
          13.0,
          4.0,
          5.0,
          13.0,
          4.0,
          15.0,
          4.0,
          74.0,
          34.0,
          31.0,
          7.0,
          11.0,
          0.0,
          3.0,
          1.0,
          47.0,
          6.0,
          6.0,
          15.0,
          29.0,
          2.0,
          48.0,
          62.0,
          20.0,
          53.0,
          61.0,
          4.0,
          13.0,
          36.0,
          2.0,
          24.0,
          30.0,
          22.0,
          45.0,
          66.0,
          14.0,
          7.0,
          10.0,
          17.0,
          27.0,
          4.0,
          6.0,
          6.0,
          29.0,
          10.0,
          34.0,
          2.0,
          64.0,
          1.0,
          2.0,
          3.0,
          11.0,
          40.0,
          6.0,
          4.0,
          12.0,
          5.0,
          37.0,
          6.0,
          73.0,
          6.0,
          2.0,
          11.0,
          0.0,
          26.0,
          16.0,
          0.0,
          5.0,
          0.0,
          43.0,
          38.0,
          14.0,
          47.0,
          7.0,
          12.0,
          53.0,
          10.0,
          29.0,
          31.0,
          20.0,
          6.0,
          10.0,
          26.0,
          0.0,
          3.0,
          52.0,
          14.0,
          36.0,
          41.0,
          16.0,
          32.0,
          7.0,
          51.0,
          36.0,
          8.0,
          49.0,
          23.0,
          24.0,
          12.0,
          42.0,
          66.0,
          13.0,
          4.0,
          0.0,
          3.0,
          51.0,
          25.0,
          5.0,
          5.0,
          5.0,
          5.0,
          12.0,
          13.0
         ],
         "yaxis": "y",
         "type": "scatter"
        }
       ],
       "layout": {
        "template": {
         "data": {
          "histogram2dcontour": [
           {
            "type": "histogram2dcontour",
            "colorbar": {
             "outlinewidth": 0,
             "ticks": ""
            },
            "colorscale": [
             [
              0.0,
              "#0d0887"
             ],
             [
              0.1111111111111111,
              "#46039f"
             ],
             [
              0.2222222222222222,
              "#7201a8"
             ],
             [
              0.3333333333333333,
              "#9c179e"
             ],
             [
              0.4444444444444444,
              "#bd3786"
             ],
             [
              0.5555555555555556,
              "#d8576b"
             ],
             [
              0.6666666666666666,
              "#ed7953"
             ],
             [
              0.7777777777777778,
              "#fb9f3a"
             ],
             [
              0.8888888888888888,
              "#fdca26"
             ],
             [
              1.0,
              "#f0f921"
             ]
            ]
           }
          ],
          "choropleth": [
           {
            "type": "choropleth",
            "colorbar": {
             "outlinewidth": 0,
             "ticks": ""
            }
           }
          ],
          "histogram2d": [
           {
            "type": "histogram2d",
            "colorbar": {
             "outlinewidth": 0,
             "ticks": ""
            },
            "colorscale": [
             [
              0.0,
              "#0d0887"
             ],
             [
              0.1111111111111111,
              "#46039f"
             ],
             [
              0.2222222222222222,
              "#7201a8"
             ],
             [
              0.3333333333333333,
              "#9c179e"
             ],
             [
              0.4444444444444444,
              "#bd3786"
             ],
             [
              0.5555555555555556,
              "#d8576b"
             ],
             [
              0.6666666666666666,
              "#ed7953"
             ],
             [
              0.7777777777777778,
              "#fb9f3a"
             ],
             [
              0.8888888888888888,
              "#fdca26"
             ],
             [
              1.0,
              "#f0f921"
             ]
            ]
           }
          ],
          "heatmap": [
           {
            "type": "heatmap",
            "colorbar": {
             "outlinewidth": 0,
             "ticks": ""
            },
            "colorscale": [
             [
              0.0,
              "#0d0887"
             ],
             [
              0.1111111111111111,
              "#46039f"
             ],
             [
              0.2222222222222222,
              "#7201a8"
             ],
             [
              0.3333333333333333,
              "#9c179e"
             ],
             [
              0.4444444444444444,
              "#bd3786"
             ],
             [
              0.5555555555555556,
              "#d8576b"
             ],
             [
              0.6666666666666666,
              "#ed7953"
             ],
             [
              0.7777777777777778,
              "#fb9f3a"
             ],
             [
              0.8888888888888888,
              "#fdca26"
             ],
             [
              1.0,
              "#f0f921"
             ]
            ]
           }
          ],
          "heatmapgl": [
           {
            "type": "heatmapgl",
            "colorbar": {
             "outlinewidth": 0,
             "ticks": ""
            },
            "colorscale": [
             [
              0.0,
              "#0d0887"
             ],
             [
              0.1111111111111111,
              "#46039f"
             ],
             [
              0.2222222222222222,
              "#7201a8"
             ],
             [
              0.3333333333333333,
              "#9c179e"
             ],
             [
              0.4444444444444444,
              "#bd3786"
             ],
             [
              0.5555555555555556,
              "#d8576b"
             ],
             [
              0.6666666666666666,
              "#ed7953"
             ],
             [
              0.7777777777777778,
              "#fb9f3a"
             ],
             [
              0.8888888888888888,
              "#fdca26"
             ],
             [
              1.0,
              "#f0f921"
             ]
            ]
           }
          ],
          "contourcarpet": [
           {
            "type": "contourcarpet",
            "colorbar": {
             "outlinewidth": 0,
             "ticks": ""
            }
           }
          ],
          "contour": [
           {
            "type": "contour",
            "colorbar": {
             "outlinewidth": 0,
             "ticks": ""
            },
            "colorscale": [
             [
              0.0,
              "#0d0887"
             ],
             [
              0.1111111111111111,
              "#46039f"
             ],
             [
              0.2222222222222222,
              "#7201a8"
             ],
             [
              0.3333333333333333,
              "#9c179e"
             ],
             [
              0.4444444444444444,
              "#bd3786"
             ],
             [
              0.5555555555555556,
              "#d8576b"
             ],
             [
              0.6666666666666666,
              "#ed7953"
             ],
             [
              0.7777777777777778,
              "#fb9f3a"
             ],
             [
              0.8888888888888888,
              "#fdca26"
             ],
             [
              1.0,
              "#f0f921"
             ]
            ]
           }
          ],
          "surface": [
           {
            "type": "surface",
            "colorbar": {
             "outlinewidth": 0,
             "ticks": ""
            },
            "colorscale": [
             [
              0.0,
              "#0d0887"
             ],
             [
              0.1111111111111111,
              "#46039f"
             ],
             [
              0.2222222222222222,
              "#7201a8"
             ],
             [
              0.3333333333333333,
              "#9c179e"
             ],
             [
              0.4444444444444444,
              "#bd3786"
             ],
             [
              0.5555555555555556,
              "#d8576b"
             ],
             [
              0.6666666666666666,
              "#ed7953"
             ],
             [
              0.7777777777777778,
              "#fb9f3a"
             ],
             [
              0.8888888888888888,
              "#fdca26"
             ],
             [
              1.0,
              "#f0f921"
             ]
            ]
           }
          ],
          "mesh3d": [
           {
            "type": "mesh3d",
            "colorbar": {
             "outlinewidth": 0,
             "ticks": ""
            }
           }
          ],
          "scatter": [
           {
            "marker": {
             "line": {
              "color": "#283442"
             }
            },
            "type": "scatter"
           }
          ],
          "parcoords": [
           {
            "type": "parcoords",
            "line": {
             "colorbar": {
              "outlinewidth": 0,
              "ticks": ""
             }
            }
           }
          ],
          "scatterpolargl": [
           {
            "type": "scatterpolargl",
            "marker": {
             "colorbar": {
              "outlinewidth": 0,
              "ticks": ""
             }
            }
           }
          ],
          "bar": [
           {
            "error_x": {
             "color": "#f2f5fa"
            },
            "error_y": {
             "color": "#f2f5fa"
            },
            "marker": {
             "line": {
              "color": "rgb(17,17,17)",
              "width": 0.5
             },
             "pattern": {
              "fillmode": "overlay",
              "size": 10,
              "solidity": 0.2
             }
            },
            "type": "bar"
           }
          ],
          "scattergeo": [
           {
            "type": "scattergeo",
            "marker": {
             "colorbar": {
              "outlinewidth": 0,
              "ticks": ""
             }
            }
           }
          ],
          "scatterpolar": [
           {
            "type": "scatterpolar",
            "marker": {
             "colorbar": {
              "outlinewidth": 0,
              "ticks": ""
             }
            }
           }
          ],
          "histogram": [
           {
            "marker": {
             "pattern": {
              "fillmode": "overlay",
              "size": 10,
              "solidity": 0.2
             }
            },
            "type": "histogram"
           }
          ],
          "scattergl": [
           {
            "marker": {
             "line": {
              "color": "#283442"
             }
            },
            "type": "scattergl"
           }
          ],
          "scatter3d": [
           {
            "type": "scatter3d",
            "line": {
             "colorbar": {
              "outlinewidth": 0,
              "ticks": ""
             }
            },
            "marker": {
             "colorbar": {
              "outlinewidth": 0,
              "ticks": ""
             }
            }
           }
          ],
          "scattermapbox": [
           {
            "type": "scattermapbox",
            "marker": {
             "colorbar": {
              "outlinewidth": 0,
              "ticks": ""
             }
            }
           }
          ],
          "scatterternary": [
           {
            "type": "scatterternary",
            "marker": {
             "colorbar": {
              "outlinewidth": 0,
              "ticks": ""
             }
            }
           }
          ],
          "scattercarpet": [
           {
            "type": "scattercarpet",
            "marker": {
             "colorbar": {
              "outlinewidth": 0,
              "ticks": ""
             }
            }
           }
          ],
          "carpet": [
           {
            "aaxis": {
             "endlinecolor": "#A2B1C6",
             "gridcolor": "#506784",
             "linecolor": "#506784",
             "minorgridcolor": "#506784",
             "startlinecolor": "#A2B1C6"
            },
            "baxis": {
             "endlinecolor": "#A2B1C6",
             "gridcolor": "#506784",
             "linecolor": "#506784",
             "minorgridcolor": "#506784",
             "startlinecolor": "#A2B1C6"
            },
            "type": "carpet"
           }
          ],
          "table": [
           {
            "cells": {
             "fill": {
              "color": "#506784"
             },
             "line": {
              "color": "rgb(17,17,17)"
             }
            },
            "header": {
             "fill": {
              "color": "#2a3f5f"
             },
             "line": {
              "color": "rgb(17,17,17)"
             }
            },
            "type": "table"
           }
          ],
          "barpolar": [
           {
            "marker": {
             "line": {
              "color": "rgb(17,17,17)",
              "width": 0.5
             },
             "pattern": {
              "fillmode": "overlay",
              "size": 10,
              "solidity": 0.2
             }
            },
            "type": "barpolar"
           }
          ],
          "pie": [
           {
            "automargin": true,
            "type": "pie"
           }
          ]
         },
         "layout": {
          "autotypenumbers": "strict",
          "colorway": [
           "#636efa",
           "#EF553B",
           "#00cc96",
           "#ab63fa",
           "#FFA15A",
           "#19d3f3",
           "#FF6692",
           "#B6E880",
           "#FF97FF",
           "#FECB52"
          ],
          "font": {
           "color": "#f2f5fa"
          },
          "hovermode": "closest",
          "hoverlabel": {
           "align": "left"
          },
          "paper_bgcolor": "rgb(17,17,17)",
          "plot_bgcolor": "rgb(17,17,17)",
          "polar": {
           "bgcolor": "rgb(17,17,17)",
           "angularaxis": {
            "gridcolor": "#506784",
            "linecolor": "#506784",
            "ticks": ""
           },
           "radialaxis": {
            "gridcolor": "#506784",
            "linecolor": "#506784",
            "ticks": ""
           }
          },
          "ternary": {
           "bgcolor": "rgb(17,17,17)",
           "aaxis": {
            "gridcolor": "#506784",
            "linecolor": "#506784",
            "ticks": ""
           },
           "baxis": {
            "gridcolor": "#506784",
            "linecolor": "#506784",
            "ticks": ""
           },
           "caxis": {
            "gridcolor": "#506784",
            "linecolor": "#506784",
            "ticks": ""
           }
          },
          "coloraxis": {
           "colorbar": {
            "outlinewidth": 0,
            "ticks": ""
           }
          },
          "colorscale": {
           "sequential": [
            [
             0.0,
             "#0d0887"
            ],
            [
             0.1111111111111111,
             "#46039f"
            ],
            [
             0.2222222222222222,
             "#7201a8"
            ],
            [
             0.3333333333333333,
             "#9c179e"
            ],
            [
             0.4444444444444444,
             "#bd3786"
            ],
            [
             0.5555555555555556,
             "#d8576b"
            ],
            [
             0.6666666666666666,
             "#ed7953"
            ],
            [
             0.7777777777777778,
             "#fb9f3a"
            ],
            [
             0.8888888888888888,
             "#fdca26"
            ],
            [
             1.0,
             "#f0f921"
            ]
           ],
           "sequentialminus": [
            [
             0.0,
             "#0d0887"
            ],
            [
             0.1111111111111111,
             "#46039f"
            ],
            [
             0.2222222222222222,
             "#7201a8"
            ],
            [
             0.3333333333333333,
             "#9c179e"
            ],
            [
             0.4444444444444444,
             "#bd3786"
            ],
            [
             0.5555555555555556,
             "#d8576b"
            ],
            [
             0.6666666666666666,
             "#ed7953"
            ],
            [
             0.7777777777777778,
             "#fb9f3a"
            ],
            [
             0.8888888888888888,
             "#fdca26"
            ],
            [
             1.0,
             "#f0f921"
            ]
           ],
           "diverging": [
            [
             0,
             "#8e0152"
            ],
            [
             0.1,
             "#c51b7d"
            ],
            [
             0.2,
             "#de77ae"
            ],
            [
             0.3,
             "#f1b6da"
            ],
            [
             0.4,
             "#fde0ef"
            ],
            [
             0.5,
             "#f7f7f7"
            ],
            [
             0.6,
             "#e6f5d0"
            ],
            [
             0.7,
             "#b8e186"
            ],
            [
             0.8,
             "#7fbc41"
            ],
            [
             0.9,
             "#4d9221"
            ],
            [
             1,
             "#276419"
            ]
           ]
          },
          "xaxis": {
           "gridcolor": "#283442",
           "linecolor": "#506784",
           "ticks": "",
           "title": {
            "standoff": 15
           },
           "zerolinecolor": "#283442",
           "automargin": true,
           "zerolinewidth": 2
          },
          "yaxis": {
           "gridcolor": "#283442",
           "linecolor": "#506784",
           "ticks": "",
           "title": {
            "standoff": 15
           },
           "zerolinecolor": "#283442",
           "automargin": true,
           "zerolinewidth": 2
          },
          "scene": {
           "xaxis": {
            "backgroundcolor": "rgb(17,17,17)",
            "gridcolor": "#506784",
            "linecolor": "#506784",
            "showbackground": true,
            "ticks": "",
            "zerolinecolor": "#C8D4E3",
            "gridwidth": 2
           },
           "yaxis": {
            "backgroundcolor": "rgb(17,17,17)",
            "gridcolor": "#506784",
            "linecolor": "#506784",
            "showbackground": true,
            "ticks": "",
            "zerolinecolor": "#C8D4E3",
            "gridwidth": 2
           },
           "zaxis": {
            "backgroundcolor": "rgb(17,17,17)",
            "gridcolor": "#506784",
            "linecolor": "#506784",
            "showbackground": true,
            "ticks": "",
            "zerolinecolor": "#C8D4E3",
            "gridwidth": 2
           }
          },
          "shapedefaults": {
           "line": {
            "color": "#f2f5fa"
           }
          },
          "annotationdefaults": {
           "arrowcolor": "#f2f5fa",
           "arrowhead": 0,
           "arrowwidth": 1
          },
          "geo": {
           "bgcolor": "rgb(17,17,17)",
           "landcolor": "rgb(17,17,17)",
           "subunitcolor": "#506784",
           "showland": true,
           "showlakes": true,
           "lakecolor": "rgb(17,17,17)"
          },
          "title": {
           "x": 0.05
          },
          "updatemenudefaults": {
           "bgcolor": "#506784",
           "borderwidth": 0
          },
          "sliderdefaults": {
           "bgcolor": "#C8D4E3",
           "borderwidth": 1,
           "bordercolor": "rgb(17,17,17)",
           "tickwidth": 0
          },
          "mapbox": {
           "style": "dark"
          }
         }
        },
        "xaxis": {
         "anchor": "y",
         "domain": [
          0.0,
          1.0
         ],
         "title": {
          "text": "NTA"
         }
        },
        "yaxis": {
         "anchor": "x",
         "domain": [
          0.0,
          1.0
         ],
         "title": {
          "text": "Prop N"
         }
        },
        "legend": {
         "tracegroupgap": 0
        },
        "title": {
         "text": "Showing of Property Violence in NTA"
        }
       },
       "config": {
        "plotlyServerURL": "https://plot.ly"
       }
      },
      "text/html": "<div>                            <div id=\"9134f580-fc03-4bb8-a5c1-8cdbd1cc6e4c\" class=\"plotly-graph-div\" style=\"height:525px; width:100%;\"></div>            <script type=\"text/javascript\">                require([\"plotly\"], function(Plotly) {                    window.PLOTLYENV=window.PLOTLYENV || {};                                    if (document.getElementById(\"9134f580-fc03-4bb8-a5c1-8cdbd1cc6e4c\")) {                    Plotly.newPlot(                        \"9134f580-fc03-4bb8-a5c1-8cdbd1cc6e4c\",                        [{\"hovertemplate\":\"NTA=%{x}\\u003cbr\\u003eProp N=%{y}\\u003cextra\\u003e\\u003c\\u002fextra\\u003e\",\"legendgroup\":\"\",\"line\":{\"color\":\"#636efa\",\"dash\":\"solid\"},\"marker\":{\"symbol\":\"circle\"},\"mode\":\"lines\",\"name\":\"\",\"orientation\":\"v\",\"showlegend\":false,\"x\":[\"Allerton-Pelham Gardens                                                    \",\"Annadale-Huguenot-Prince's Bay-Eltingville                                 \",\"Arden Heights                                                              \",\"Astoria                                                                    \",\"Auburndale                                                                 \",\"Baisley Park                                                               \",\"Bath Beach                                                                 \",\"Battery Park City-Lower Manhattan                                          \",\"Bay Ridge                                                                  \",\"Bayside-Bayside Hills                                                      \",\"Bedford                                                                    \",\"Bedford Park-Fordham North                                                 \",\"Bellerose                                                                  \",\"Belmont                                                                    \",\"Bensonhurst East                                                           \",\"Bensonhurst West                                                           \",\"Borough Park                                                               \",\"Breezy Point-Belle Harbor-Rockaway Park-Broad Channel                      \",\"Briarwood-Jamaica Hills                                                    \",\"Brighton Beach                                                             \",\"Bronxdale                                                                  \",\"Brooklyn Heights-Cobble Hill                                               \",\"Brownsville                                                                \",\"Bushwick North                                                             \",\"Bushwick South                                                             \",\"Cambria Heights                                                            \",\"Canarsie                                                                   \",\"Carroll Gardens-Columbia Street-Red Hook                                   \",\"Central Harlem North-Polo Grounds                                          \",\"Central Harlem South                                                       \",\"Charleston-Richmond Valley-Tottenville                                     \",\"Chinatown                                                                  \",\"Claremont-Bathgate                                                         \",\"Clinton                                                                    \",\"Clinton Hill                                                               \",\"Co-op City                                                                 \",\"College Point                                                              \",\"Corona                                                                     \",\"Crotona Park East                                                          \",\"Crown Heights North                                                        \",\"Crown Heights South                                                        \",\"Cypress Hills-City Line                                                    \",\"DUMBO-Vinegar Hill-Downtown Brooklyn-Boerum Hill                           \",\"Douglas Manor-Douglaston-Little Neck                                       \",\"Dyker Heights                                                              \",\"East Concourse-Concourse Village                                           \",\"East Elmhurst                                                              \",\"East Flatbush-Farragut                                                     \",\"East Flushing                                                              \",\"East Harlem North                                                          \",\"East Harlem South                                                          \",\"East New York                                                              \",\"East New York (Pennsylvania Ave)                                           \",\"East Tremont                                                               \",\"East Village                                                               \",\"East Williamsburg                                                          \",\"Eastchester-Edenwald-Baychester                                            \",\"Elmhurst                                                                   \",\"Elmhurst-Maspeth                                                           \",\"Erasmus                                                                    \",\"Far Rockaway-Bayswater                                                     \",\"Flatbush                                                                   \",\"Flatlands                                                                  \",\"Flushing                                                                   \",\"Fordham South                                                              \",\"Forest Hills                                                               \",\"Fort Greene                                                                \",\"Fresh Meadows-Utopia                                                       \",\"Ft. Totten-Bay Terrace-Clearview                                           \",\"Georgetown-Marine Park-Bergen Beach-Mill Basin                             \",\"Glen Oaks-Floral Park-New Hyde Park                                        \",\"Glendale                                                                   \",\"Gramercy                                                                   \",\"Grasmere-Arrochar-Ft. Wadsworth                                            \",\"Gravesend                                                                  \",\"Great Kills                                                                \",\"Greenpoint                                                                 \",\"Grymes Hill-Clifton-Fox Hills                                              \",\"Hamilton Heights                                                           \",\"Hammels-Arverne-Edgemere                                                   \",\"Highbridge                                                                 \",\"Hollis                                                                     \",\"Homecrest                                                                  \",\"Hudson Yards-Chelsea-Flatiron-Union Square                                 \",\"Hunters Point-Sunnyside-West Maspeth                                       \",\"Hunts Point                                                                \",\"Jackson Heights                                                            \",\"Jamaica                                                                    \",\"Jamaica Estates-Holliswood                                                 \",\"Kensington-Ocean Parkway                                                   \",\"Kew Gardens                                                                \",\"Kew Gardens Hills                                                          \",\"Kingsbridge Heights                                                        \",\"Laurelton                                                                  \",\"Lenox Hill-Roosevelt Island                                                \",\"Lincoln Square                                                             \",\"Lindenwood-Howard Beach                                                    \",\"Longwood                                                                   \",\"Lower East Side                                                            \",\"Madison                                                                    \",\"Manhattanville                                                             \",\"Marble Hill-Inwood                                                         \",\"Mariner's Harbor-Arlington-Port Ivory-Graniteville                         \",\"Maspeth                                                                    \",\"Melrose South-Mott Haven North                                             \",\"Middle Village                                                             \",\"Midtown-Midtown South                                                      \",\"Midwood                                                                    \",\"Morningside Heights                                                        \",\"Morrisania-Melrose                                                         \",\"Mott Haven-Port Morris                                                     \",\"Mount Hope                                                                 \",\"Murray Hill                                                                \",\"Murray Hill-Kips Bay                                                       \",\"New Brighton-Silver Lake                                                   \",\"New Dorp-Midland Beach                                                     \",\"New Springville-Bloomfield-Travis                                          \",\"North Corona                                                               \",\"North Riverdale-Fieldston-Riverdale                                        \",\"North Side-South Side                                                      \",\"Norwood                                                                    \",\"Oakland Gardens                                                            \",\"Oakwood-Oakwood Beach                                                      \",\"Ocean Hill                                                                 \",\"Ocean Parkway South                                                        \",\"Old Astoria                                                                \",\"Old Town-Dongan Hills-South Beach                                          \",\"Ozone Park                                                                 \",\"Park Slope-Gowanus                                                         \",\"Parkchester                                                                \",\"Pelham Bay-Country Club-City Island                                        \",\"Pelham Parkway                                                             \",\"Pomonok-Flushing Heights-Hillcrest                                         \",\"Port Richmond                                                              \",\"Prospect Heights                                                           \",\"Prospect Lefferts Gardens-Wingate                                          \",\"Queens Village                                                             \",\"Queensboro Hill                                                            \",\"Queensbridge-Ravenswood-Long Island City                                   \",\"Rego Park                                                                  \",\"Richmond Hill                                                              \",\"Ridgewood                                                                  \",\"Rikers Island                                                              \",\"Rosedale                                                                   \",\"Rossville-Woodrow                                                          \",\"Rugby-Remsen Village                                                       \",\"Schuylerville-Throgs Neck-Edgewater Park                                   \",\"Seagate-Coney Island                                                       \",\"Sheepshead Bay-Gerritsen Beach-Manhattan Beach                             \",\"SoHo-TriBeCa-Civic Center-Little Italy                                     \",\"Soundview-Bruckner                                                         \",\"Soundview-Castle Hill-Clason Point-Harding Park                            \",\"South Jamaica                                                              \",\"South Ozone Park                                                           \",\"Springfield Gardens North                                                  \",\"Springfield Gardens South-Brookville                                       \",\"Spuyten Duyvil-Kingsbridge                                                 \",\"St. Albans                                                                 \",\"Stapleton-Rosebank                                                         \",\"Starrett City                                                              \",\"Steinway                                                                   \",\"Stuyvesant Heights                                                         \",\"Sunset Park East                                                           \",\"Sunset Park West                                                           \",\"Todt Hill-Emerson Hill-Heartland Village-Lighthouse Hill                   \",\"Turtle Bay-East Midtown                                                    \",\"University Heights-Morris Heights                                          \",\"Upper East Side-Carnegie Hill                                              \",\"Upper West Side                                                            \",\"Van Cortlandt Village                                                      \",\"Van Nest-Morris Park-Westchester Square                                    \",\"Washington Heights North                                                   \",\"Washington Heights South                                                   \",\"West Brighton                                                              \",\"West Concourse                                                             \",\"West Farms-Bronx River                                                     \",\"West New Brighton-New Brighton-St. George                                  \",\"West Village                                                               \",\"Westchester-Unionport                                                      \",\"Westerleigh                                                                \",\"Whitestone                                                                 \",\"Williamsbridge-Olinville                                                   \",\"Williamsburg                                                               \",\"Windsor Terrace                                                            \",\"Woodhaven                                                                  \",\"Woodlawn-Wakefield                                                         \",\"Woodside                                                                   \",\"Yorkville                                                                  \",\"park-cemetery-etc-Brooklyn                                                 \"],\"xaxis\":\"x\",\"y\":[11.0,33.0,1.0,36.0,24.0,18.0,2.0,40.0,32.0,18.0,34.0,8.0,19.0,35.0,10.0,20.0,23.0,26.0,54.0,13.0,22.0,4.0,77.0,38.0,72.0,12.0,45.0,31.0,72.0,42.0,4.0,80.0,51.0,58.0,20.0,44.0,0.0,10.0,43.0,70.0,46.0,3.0,72.0,3.0,6.0,72.0,8.0,6.0,1.0,52.0,57.0,73.0,29.0,73.0,16.0,22.0,18.0,16.0,5.0,25.0,22.0,25.0,4.0,35.0,13.0,38.0,39.0,4.0,3.0,2.0,5.0,5.0,56.0,8.0,37.0,4.0,13.0,4.0,5.0,13.0,4.0,15.0,4.0,74.0,34.0,31.0,7.0,11.0,0.0,3.0,1.0,47.0,6.0,6.0,15.0,29.0,2.0,48.0,62.0,20.0,53.0,61.0,4.0,13.0,36.0,2.0,24.0,30.0,22.0,45.0,66.0,14.0,7.0,10.0,17.0,27.0,4.0,6.0,6.0,29.0,10.0,34.0,2.0,64.0,1.0,2.0,3.0,11.0,40.0,6.0,4.0,12.0,5.0,37.0,6.0,73.0,6.0,2.0,11.0,0.0,26.0,16.0,0.0,5.0,0.0,43.0,38.0,14.0,47.0,7.0,12.0,53.0,10.0,29.0,31.0,20.0,6.0,10.0,26.0,0.0,3.0,52.0,14.0,36.0,41.0,16.0,32.0,7.0,51.0,36.0,8.0,49.0,23.0,24.0,12.0,42.0,66.0,13.0,4.0,0.0,3.0,51.0,25.0,5.0,5.0,5.0,5.0,12.0,13.0],\"yaxis\":\"y\",\"type\":\"scatter\"}],                        {\"template\":{\"data\":{\"histogram2dcontour\":[{\"type\":\"histogram2dcontour\",\"colorbar\":{\"outlinewidth\":0,\"ticks\":\"\"},\"colorscale\":[[0.0,\"#0d0887\"],[0.1111111111111111,\"#46039f\"],[0.2222222222222222,\"#7201a8\"],[0.3333333333333333,\"#9c179e\"],[0.4444444444444444,\"#bd3786\"],[0.5555555555555556,\"#d8576b\"],[0.6666666666666666,\"#ed7953\"],[0.7777777777777778,\"#fb9f3a\"],[0.8888888888888888,\"#fdca26\"],[1.0,\"#f0f921\"]]}],\"choropleth\":[{\"type\":\"choropleth\",\"colorbar\":{\"outlinewidth\":0,\"ticks\":\"\"}}],\"histogram2d\":[{\"type\":\"histogram2d\",\"colorbar\":{\"outlinewidth\":0,\"ticks\":\"\"},\"colorscale\":[[0.0,\"#0d0887\"],[0.1111111111111111,\"#46039f\"],[0.2222222222222222,\"#7201a8\"],[0.3333333333333333,\"#9c179e\"],[0.4444444444444444,\"#bd3786\"],[0.5555555555555556,\"#d8576b\"],[0.6666666666666666,\"#ed7953\"],[0.7777777777777778,\"#fb9f3a\"],[0.8888888888888888,\"#fdca26\"],[1.0,\"#f0f921\"]]}],\"heatmap\":[{\"type\":\"heatmap\",\"colorbar\":{\"outlinewidth\":0,\"ticks\":\"\"},\"colorscale\":[[0.0,\"#0d0887\"],[0.1111111111111111,\"#46039f\"],[0.2222222222222222,\"#7201a8\"],[0.3333333333333333,\"#9c179e\"],[0.4444444444444444,\"#bd3786\"],[0.5555555555555556,\"#d8576b\"],[0.6666666666666666,\"#ed7953\"],[0.7777777777777778,\"#fb9f3a\"],[0.8888888888888888,\"#fdca26\"],[1.0,\"#f0f921\"]]}],\"heatmapgl\":[{\"type\":\"heatmapgl\",\"colorbar\":{\"outlinewidth\":0,\"ticks\":\"\"},\"colorscale\":[[0.0,\"#0d0887\"],[0.1111111111111111,\"#46039f\"],[0.2222222222222222,\"#7201a8\"],[0.3333333333333333,\"#9c179e\"],[0.4444444444444444,\"#bd3786\"],[0.5555555555555556,\"#d8576b\"],[0.6666666666666666,\"#ed7953\"],[0.7777777777777778,\"#fb9f3a\"],[0.8888888888888888,\"#fdca26\"],[1.0,\"#f0f921\"]]}],\"contourcarpet\":[{\"type\":\"contourcarpet\",\"colorbar\":{\"outlinewidth\":0,\"ticks\":\"\"}}],\"contour\":[{\"type\":\"contour\",\"colorbar\":{\"outlinewidth\":0,\"ticks\":\"\"},\"colorscale\":[[0.0,\"#0d0887\"],[0.1111111111111111,\"#46039f\"],[0.2222222222222222,\"#7201a8\"],[0.3333333333333333,\"#9c179e\"],[0.4444444444444444,\"#bd3786\"],[0.5555555555555556,\"#d8576b\"],[0.6666666666666666,\"#ed7953\"],[0.7777777777777778,\"#fb9f3a\"],[0.8888888888888888,\"#fdca26\"],[1.0,\"#f0f921\"]]}],\"surface\":[{\"type\":\"surface\",\"colorbar\":{\"outlinewidth\":0,\"ticks\":\"\"},\"colorscale\":[[0.0,\"#0d0887\"],[0.1111111111111111,\"#46039f\"],[0.2222222222222222,\"#7201a8\"],[0.3333333333333333,\"#9c179e\"],[0.4444444444444444,\"#bd3786\"],[0.5555555555555556,\"#d8576b\"],[0.6666666666666666,\"#ed7953\"],[0.7777777777777778,\"#fb9f3a\"],[0.8888888888888888,\"#fdca26\"],[1.0,\"#f0f921\"]]}],\"mesh3d\":[{\"type\":\"mesh3d\",\"colorbar\":{\"outlinewidth\":0,\"ticks\":\"\"}}],\"scatter\":[{\"marker\":{\"line\":{\"color\":\"#283442\"}},\"type\":\"scatter\"}],\"parcoords\":[{\"type\":\"parcoords\",\"line\":{\"colorbar\":{\"outlinewidth\":0,\"ticks\":\"\"}}}],\"scatterpolargl\":[{\"type\":\"scatterpolargl\",\"marker\":{\"colorbar\":{\"outlinewidth\":0,\"ticks\":\"\"}}}],\"bar\":[{\"error_x\":{\"color\":\"#f2f5fa\"},\"error_y\":{\"color\":\"#f2f5fa\"},\"marker\":{\"line\":{\"color\":\"rgb(17,17,17)\",\"width\":0.5},\"pattern\":{\"fillmode\":\"overlay\",\"size\":10,\"solidity\":0.2}},\"type\":\"bar\"}],\"scattergeo\":[{\"type\":\"scattergeo\",\"marker\":{\"colorbar\":{\"outlinewidth\":0,\"ticks\":\"\"}}}],\"scatterpolar\":[{\"type\":\"scatterpolar\",\"marker\":{\"colorbar\":{\"outlinewidth\":0,\"ticks\":\"\"}}}],\"histogram\":[{\"marker\":{\"pattern\":{\"fillmode\":\"overlay\",\"size\":10,\"solidity\":0.2}},\"type\":\"histogram\"}],\"scattergl\":[{\"marker\":{\"line\":{\"color\":\"#283442\"}},\"type\":\"scattergl\"}],\"scatter3d\":[{\"type\":\"scatter3d\",\"line\":{\"colorbar\":{\"outlinewidth\":0,\"ticks\":\"\"}},\"marker\":{\"colorbar\":{\"outlinewidth\":0,\"ticks\":\"\"}}}],\"scattermapbox\":[{\"type\":\"scattermapbox\",\"marker\":{\"colorbar\":{\"outlinewidth\":0,\"ticks\":\"\"}}}],\"scatterternary\":[{\"type\":\"scatterternary\",\"marker\":{\"colorbar\":{\"outlinewidth\":0,\"ticks\":\"\"}}}],\"scattercarpet\":[{\"type\":\"scattercarpet\",\"marker\":{\"colorbar\":{\"outlinewidth\":0,\"ticks\":\"\"}}}],\"carpet\":[{\"aaxis\":{\"endlinecolor\":\"#A2B1C6\",\"gridcolor\":\"#506784\",\"linecolor\":\"#506784\",\"minorgridcolor\":\"#506784\",\"startlinecolor\":\"#A2B1C6\"},\"baxis\":{\"endlinecolor\":\"#A2B1C6\",\"gridcolor\":\"#506784\",\"linecolor\":\"#506784\",\"minorgridcolor\":\"#506784\",\"startlinecolor\":\"#A2B1C6\"},\"type\":\"carpet\"}],\"table\":[{\"cells\":{\"fill\":{\"color\":\"#506784\"},\"line\":{\"color\":\"rgb(17,17,17)\"}},\"header\":{\"fill\":{\"color\":\"#2a3f5f\"},\"line\":{\"color\":\"rgb(17,17,17)\"}},\"type\":\"table\"}],\"barpolar\":[{\"marker\":{\"line\":{\"color\":\"rgb(17,17,17)\",\"width\":0.5},\"pattern\":{\"fillmode\":\"overlay\",\"size\":10,\"solidity\":0.2}},\"type\":\"barpolar\"}],\"pie\":[{\"automargin\":true,\"type\":\"pie\"}]},\"layout\":{\"autotypenumbers\":\"strict\",\"colorway\":[\"#636efa\",\"#EF553B\",\"#00cc96\",\"#ab63fa\",\"#FFA15A\",\"#19d3f3\",\"#FF6692\",\"#B6E880\",\"#FF97FF\",\"#FECB52\"],\"font\":{\"color\":\"#f2f5fa\"},\"hovermode\":\"closest\",\"hoverlabel\":{\"align\":\"left\"},\"paper_bgcolor\":\"rgb(17,17,17)\",\"plot_bgcolor\":\"rgb(17,17,17)\",\"polar\":{\"bgcolor\":\"rgb(17,17,17)\",\"angularaxis\":{\"gridcolor\":\"#506784\",\"linecolor\":\"#506784\",\"ticks\":\"\"},\"radialaxis\":{\"gridcolor\":\"#506784\",\"linecolor\":\"#506784\",\"ticks\":\"\"}},\"ternary\":{\"bgcolor\":\"rgb(17,17,17)\",\"aaxis\":{\"gridcolor\":\"#506784\",\"linecolor\":\"#506784\",\"ticks\":\"\"},\"baxis\":{\"gridcolor\":\"#506784\",\"linecolor\":\"#506784\",\"ticks\":\"\"},\"caxis\":{\"gridcolor\":\"#506784\",\"linecolor\":\"#506784\",\"ticks\":\"\"}},\"coloraxis\":{\"colorbar\":{\"outlinewidth\":0,\"ticks\":\"\"}},\"colorscale\":{\"sequential\":[[0.0,\"#0d0887\"],[0.1111111111111111,\"#46039f\"],[0.2222222222222222,\"#7201a8\"],[0.3333333333333333,\"#9c179e\"],[0.4444444444444444,\"#bd3786\"],[0.5555555555555556,\"#d8576b\"],[0.6666666666666666,\"#ed7953\"],[0.7777777777777778,\"#fb9f3a\"],[0.8888888888888888,\"#fdca26\"],[1.0,\"#f0f921\"]],\"sequentialminus\":[[0.0,\"#0d0887\"],[0.1111111111111111,\"#46039f\"],[0.2222222222222222,\"#7201a8\"],[0.3333333333333333,\"#9c179e\"],[0.4444444444444444,\"#bd3786\"],[0.5555555555555556,\"#d8576b\"],[0.6666666666666666,\"#ed7953\"],[0.7777777777777778,\"#fb9f3a\"],[0.8888888888888888,\"#fdca26\"],[1.0,\"#f0f921\"]],\"diverging\":[[0,\"#8e0152\"],[0.1,\"#c51b7d\"],[0.2,\"#de77ae\"],[0.3,\"#f1b6da\"],[0.4,\"#fde0ef\"],[0.5,\"#f7f7f7\"],[0.6,\"#e6f5d0\"],[0.7,\"#b8e186\"],[0.8,\"#7fbc41\"],[0.9,\"#4d9221\"],[1,\"#276419\"]]},\"xaxis\":{\"gridcolor\":\"#283442\",\"linecolor\":\"#506784\",\"ticks\":\"\",\"title\":{\"standoff\":15},\"zerolinecolor\":\"#283442\",\"automargin\":true,\"zerolinewidth\":2},\"yaxis\":{\"gridcolor\":\"#283442\",\"linecolor\":\"#506784\",\"ticks\":\"\",\"title\":{\"standoff\":15},\"zerolinecolor\":\"#283442\",\"automargin\":true,\"zerolinewidth\":2},\"scene\":{\"xaxis\":{\"backgroundcolor\":\"rgb(17,17,17)\",\"gridcolor\":\"#506784\",\"linecolor\":\"#506784\",\"showbackground\":true,\"ticks\":\"\",\"zerolinecolor\":\"#C8D4E3\",\"gridwidth\":2},\"yaxis\":{\"backgroundcolor\":\"rgb(17,17,17)\",\"gridcolor\":\"#506784\",\"linecolor\":\"#506784\",\"showbackground\":true,\"ticks\":\"\",\"zerolinecolor\":\"#C8D4E3\",\"gridwidth\":2},\"zaxis\":{\"backgroundcolor\":\"rgb(17,17,17)\",\"gridcolor\":\"#506784\",\"linecolor\":\"#506784\",\"showbackground\":true,\"ticks\":\"\",\"zerolinecolor\":\"#C8D4E3\",\"gridwidth\":2}},\"shapedefaults\":{\"line\":{\"color\":\"#f2f5fa\"}},\"annotationdefaults\":{\"arrowcolor\":\"#f2f5fa\",\"arrowhead\":0,\"arrowwidth\":1},\"geo\":{\"bgcolor\":\"rgb(17,17,17)\",\"landcolor\":\"rgb(17,17,17)\",\"subunitcolor\":\"#506784\",\"showland\":true,\"showlakes\":true,\"lakecolor\":\"rgb(17,17,17)\"},\"title\":{\"x\":0.05},\"updatemenudefaults\":{\"bgcolor\":\"#506784\",\"borderwidth\":0},\"sliderdefaults\":{\"bgcolor\":\"#C8D4E3\",\"borderwidth\":1,\"bordercolor\":\"rgb(17,17,17)\",\"tickwidth\":0},\"mapbox\":{\"style\":\"dark\"}}},\"xaxis\":{\"anchor\":\"y\",\"domain\":[0.0,1.0],\"title\":{\"text\":\"NTA\"}},\"yaxis\":{\"anchor\":\"x\",\"domain\":[0.0,1.0],\"title\":{\"text\":\"Prop N\"}},\"legend\":{\"tracegroupgap\":0},\"title\":{\"text\":\"Showing of Property Violence in NTA\"}},                        {\"responsive\": true}                    ).then(function(){\n                            \nvar gd = document.getElementById('9134f580-fc03-4bb8-a5c1-8cdbd1cc6e4c');\nvar x = new MutationObserver(function (mutations, observer) {{\n        var display = window.getComputedStyle(gd).display;\n        if (!display || display === 'none') {{\n            console.log([gd, 'removed!']);\n            Plotly.purge(gd);\n            observer.disconnect();\n        }}\n}});\n\n// Listen for the removal of the full notebook cells\nvar notebookContainer = gd.closest('#notebook-container');\nif (notebookContainer) {{\n    x.observe(notebookContainer, {childList: true});\n}}\n\n// Listen for the clearing of the current output cell\nvar outputEl = gd.closest('.output');\nif (outputEl) {{\n    x.observe(outputEl, {childList: true});\n}}\n\n                        })                };                });            </script>        </div>"
     },
     "metadata": {},
     "output_type": "display_data"
    }
   ],
   "source": [
    "fig = px.line(nta_propn_df, x=\"NTA\", y=\"Prop N\", title=\"Showing of Property Violence in NTA\")\n",
    "fig.show()"
   ],
   "metadata": {
    "collapsed": false,
    "ExecuteTime": {
     "end_time": "2024-01-20T20:13:54.145016900Z",
     "start_time": "2024-01-20T20:13:54.112890Z"
    }
   },
   "id": "6da67f38e98c40dc"
  },
  {
   "cell_type": "code",
   "execution_count": 49,
   "outputs": [
    {
     "data": {
      "application/vnd.plotly.v1+json": {
       "data": [
        {
         "domain": {
          "x": [
           0.0,
           1.0
          ],
          "y": [
           0.0,
           1.0
          ]
         },
         "hovertemplate": "NTA=%{label}<br>Prop N=%{value}<extra></extra>",
         "labels": [
          "Allerton-Pelham Gardens                                                    ",
          "Annadale-Huguenot-Prince's Bay-Eltingville                                 ",
          "Arden Heights                                                              ",
          "Astoria                                                                    ",
          "Auburndale                                                                 ",
          "Baisley Park                                                               ",
          "Bath Beach                                                                 ",
          "Battery Park City-Lower Manhattan                                          ",
          "Bay Ridge                                                                  ",
          "Bayside-Bayside Hills                                                      ",
          "Bedford                                                                    ",
          "Bedford Park-Fordham North                                                 ",
          "Bellerose                                                                  ",
          "Belmont                                                                    ",
          "Bensonhurst East                                                           ",
          "Bensonhurst West                                                           ",
          "Borough Park                                                               ",
          "Breezy Point-Belle Harbor-Rockaway Park-Broad Channel                      ",
          "Briarwood-Jamaica Hills                                                    ",
          "Brighton Beach                                                             ",
          "Bronxdale                                                                  ",
          "Brooklyn Heights-Cobble Hill                                               ",
          "Brownsville                                                                ",
          "Bushwick North                                                             ",
          "Bushwick South                                                             ",
          "Cambria Heights                                                            ",
          "Canarsie                                                                   ",
          "Carroll Gardens-Columbia Street-Red Hook                                   ",
          "Central Harlem North-Polo Grounds                                          ",
          "Central Harlem South                                                       ",
          "Charleston-Richmond Valley-Tottenville                                     ",
          "Chinatown                                                                  ",
          "Claremont-Bathgate                                                         ",
          "Clinton                                                                    ",
          "Clinton Hill                                                               ",
          "Co-op City                                                                 ",
          "College Point                                                              ",
          "Corona                                                                     ",
          "Crotona Park East                                                          ",
          "Crown Heights North                                                        ",
          "Crown Heights South                                                        ",
          "Cypress Hills-City Line                                                    ",
          "DUMBO-Vinegar Hill-Downtown Brooklyn-Boerum Hill                           ",
          "Douglas Manor-Douglaston-Little Neck                                       ",
          "Dyker Heights                                                              ",
          "East Concourse-Concourse Village                                           ",
          "East Elmhurst                                                              ",
          "East Flatbush-Farragut                                                     ",
          "East Flushing                                                              ",
          "East Harlem North                                                          ",
          "East Harlem South                                                          ",
          "East New York                                                              ",
          "East New York (Pennsylvania Ave)                                           ",
          "East Tremont                                                               ",
          "East Village                                                               ",
          "East Williamsburg                                                          ",
          "Eastchester-Edenwald-Baychester                                            ",
          "Elmhurst                                                                   ",
          "Elmhurst-Maspeth                                                           ",
          "Erasmus                                                                    ",
          "Far Rockaway-Bayswater                                                     ",
          "Flatbush                                                                   ",
          "Flatlands                                                                  ",
          "Flushing                                                                   ",
          "Fordham South                                                              ",
          "Forest Hills                                                               ",
          "Fort Greene                                                                ",
          "Fresh Meadows-Utopia                                                       ",
          "Ft. Totten-Bay Terrace-Clearview                                           ",
          "Georgetown-Marine Park-Bergen Beach-Mill Basin                             ",
          "Glen Oaks-Floral Park-New Hyde Park                                        ",
          "Glendale                                                                   ",
          "Gramercy                                                                   ",
          "Grasmere-Arrochar-Ft. Wadsworth                                            ",
          "Gravesend                                                                  ",
          "Great Kills                                                                ",
          "Greenpoint                                                                 ",
          "Grymes Hill-Clifton-Fox Hills                                              ",
          "Hamilton Heights                                                           ",
          "Hammels-Arverne-Edgemere                                                   ",
          "Highbridge                                                                 ",
          "Hollis                                                                     ",
          "Homecrest                                                                  ",
          "Hudson Yards-Chelsea-Flatiron-Union Square                                 ",
          "Hunters Point-Sunnyside-West Maspeth                                       ",
          "Hunts Point                                                                ",
          "Jackson Heights                                                            ",
          "Jamaica                                                                    ",
          "Jamaica Estates-Holliswood                                                 ",
          "Kensington-Ocean Parkway                                                   ",
          "Kew Gardens                                                                ",
          "Kew Gardens Hills                                                          ",
          "Kingsbridge Heights                                                        ",
          "Laurelton                                                                  ",
          "Lenox Hill-Roosevelt Island                                                ",
          "Lincoln Square                                                             ",
          "Lindenwood-Howard Beach                                                    ",
          "Longwood                                                                   ",
          "Lower East Side                                                            ",
          "Madison                                                                    ",
          "Manhattanville                                                             ",
          "Marble Hill-Inwood                                                         ",
          "Mariner's Harbor-Arlington-Port Ivory-Graniteville                         ",
          "Maspeth                                                                    ",
          "Melrose South-Mott Haven North                                             ",
          "Middle Village                                                             ",
          "Midtown-Midtown South                                                      ",
          "Midwood                                                                    ",
          "Morningside Heights                                                        ",
          "Morrisania-Melrose                                                         ",
          "Mott Haven-Port Morris                                                     ",
          "Mount Hope                                                                 ",
          "Murray Hill                                                                ",
          "Murray Hill-Kips Bay                                                       ",
          "New Brighton-Silver Lake                                                   ",
          "New Dorp-Midland Beach                                                     ",
          "New Springville-Bloomfield-Travis                                          ",
          "North Corona                                                               ",
          "North Riverdale-Fieldston-Riverdale                                        ",
          "North Side-South Side                                                      ",
          "Norwood                                                                    ",
          "Oakland Gardens                                                            ",
          "Oakwood-Oakwood Beach                                                      ",
          "Ocean Hill                                                                 ",
          "Ocean Parkway South                                                        ",
          "Old Astoria                                                                ",
          "Old Town-Dongan Hills-South Beach                                          ",
          "Ozone Park                                                                 ",
          "Park Slope-Gowanus                                                         ",
          "Parkchester                                                                ",
          "Pelham Bay-Country Club-City Island                                        ",
          "Pelham Parkway                                                             ",
          "Pomonok-Flushing Heights-Hillcrest                                         ",
          "Port Richmond                                                              ",
          "Prospect Heights                                                           ",
          "Prospect Lefferts Gardens-Wingate                                          ",
          "Queens Village                                                             ",
          "Queensboro Hill                                                            ",
          "Queensbridge-Ravenswood-Long Island City                                   ",
          "Rego Park                                                                  ",
          "Richmond Hill                                                              ",
          "Ridgewood                                                                  ",
          "Rikers Island                                                              ",
          "Rosedale                                                                   ",
          "Rossville-Woodrow                                                          ",
          "Rugby-Remsen Village                                                       ",
          "Schuylerville-Throgs Neck-Edgewater Park                                   ",
          "Seagate-Coney Island                                                       ",
          "Sheepshead Bay-Gerritsen Beach-Manhattan Beach                             ",
          "SoHo-TriBeCa-Civic Center-Little Italy                                     ",
          "Soundview-Bruckner                                                         ",
          "Soundview-Castle Hill-Clason Point-Harding Park                            ",
          "South Jamaica                                                              ",
          "South Ozone Park                                                           ",
          "Springfield Gardens North                                                  ",
          "Springfield Gardens South-Brookville                                       ",
          "Spuyten Duyvil-Kingsbridge                                                 ",
          "St. Albans                                                                 ",
          "Stapleton-Rosebank                                                         ",
          "Starrett City                                                              ",
          "Steinway                                                                   ",
          "Stuyvesant Heights                                                         ",
          "Sunset Park East                                                           ",
          "Sunset Park West                                                           ",
          "Todt Hill-Emerson Hill-Heartland Village-Lighthouse Hill                   ",
          "Turtle Bay-East Midtown                                                    ",
          "University Heights-Morris Heights                                          ",
          "Upper East Side-Carnegie Hill                                              ",
          "Upper West Side                                                            ",
          "Van Cortlandt Village                                                      ",
          "Van Nest-Morris Park-Westchester Square                                    ",
          "Washington Heights North                                                   ",
          "Washington Heights South                                                   ",
          "West Brighton                                                              ",
          "West Concourse                                                             ",
          "West Farms-Bronx River                                                     ",
          "West New Brighton-New Brighton-St. George                                  ",
          "West Village                                                               ",
          "Westchester-Unionport                                                      ",
          "Westerleigh                                                                ",
          "Whitestone                                                                 ",
          "Williamsbridge-Olinville                                                   ",
          "Williamsburg                                                               ",
          "Windsor Terrace                                                            ",
          "Woodhaven                                                                  ",
          "Woodlawn-Wakefield                                                         ",
          "Woodside                                                                   ",
          "Yorkville                                                                  ",
          "park-cemetery-etc-Brooklyn                                                 "
         ],
         "legendgroup": "",
         "name": "",
         "showlegend": true,
         "values": [
          11.0,
          33.0,
          1.0,
          36.0,
          24.0,
          18.0,
          2.0,
          40.0,
          32.0,
          18.0,
          34.0,
          8.0,
          19.0,
          35.0,
          10.0,
          20.0,
          23.0,
          26.0,
          54.0,
          13.0,
          22.0,
          4.0,
          77.0,
          38.0,
          72.0,
          12.0,
          45.0,
          31.0,
          72.0,
          42.0,
          4.0,
          80.0,
          51.0,
          58.0,
          20.0,
          44.0,
          0.0,
          10.0,
          43.0,
          70.0,
          46.0,
          3.0,
          72.0,
          3.0,
          6.0,
          72.0,
          8.0,
          6.0,
          1.0,
          52.0,
          57.0,
          73.0,
          29.0,
          73.0,
          16.0,
          22.0,
          18.0,
          16.0,
          5.0,
          25.0,
          22.0,
          25.0,
          4.0,
          35.0,
          13.0,
          38.0,
          39.0,
          4.0,
          3.0,
          2.0,
          5.0,
          5.0,
          56.0,
          8.0,
          37.0,
          4.0,
          13.0,
          4.0,
          5.0,
          13.0,
          4.0,
          15.0,
          4.0,
          74.0,
          34.0,
          31.0,
          7.0,
          11.0,
          0.0,
          3.0,
          1.0,
          47.0,
          6.0,
          6.0,
          15.0,
          29.0,
          2.0,
          48.0,
          62.0,
          20.0,
          53.0,
          61.0,
          4.0,
          13.0,
          36.0,
          2.0,
          24.0,
          30.0,
          22.0,
          45.0,
          66.0,
          14.0,
          7.0,
          10.0,
          17.0,
          27.0,
          4.0,
          6.0,
          6.0,
          29.0,
          10.0,
          34.0,
          2.0,
          64.0,
          1.0,
          2.0,
          3.0,
          11.0,
          40.0,
          6.0,
          4.0,
          12.0,
          5.0,
          37.0,
          6.0,
          73.0,
          6.0,
          2.0,
          11.0,
          0.0,
          26.0,
          16.0,
          0.0,
          5.0,
          0.0,
          43.0,
          38.0,
          14.0,
          47.0,
          7.0,
          12.0,
          53.0,
          10.0,
          29.0,
          31.0,
          20.0,
          6.0,
          10.0,
          26.0,
          0.0,
          3.0,
          52.0,
          14.0,
          36.0,
          41.0,
          16.0,
          32.0,
          7.0,
          51.0,
          36.0,
          8.0,
          49.0,
          23.0,
          24.0,
          12.0,
          42.0,
          66.0,
          13.0,
          4.0,
          0.0,
          3.0,
          51.0,
          25.0,
          5.0,
          5.0,
          5.0,
          5.0,
          12.0,
          13.0
         ],
         "type": "pie"
        }
       ],
       "layout": {
        "template": {
         "data": {
          "histogram2dcontour": [
           {
            "type": "histogram2dcontour",
            "colorbar": {
             "outlinewidth": 0,
             "ticks": ""
            },
            "colorscale": [
             [
              0.0,
              "#0d0887"
             ],
             [
              0.1111111111111111,
              "#46039f"
             ],
             [
              0.2222222222222222,
              "#7201a8"
             ],
             [
              0.3333333333333333,
              "#9c179e"
             ],
             [
              0.4444444444444444,
              "#bd3786"
             ],
             [
              0.5555555555555556,
              "#d8576b"
             ],
             [
              0.6666666666666666,
              "#ed7953"
             ],
             [
              0.7777777777777778,
              "#fb9f3a"
             ],
             [
              0.8888888888888888,
              "#fdca26"
             ],
             [
              1.0,
              "#f0f921"
             ]
            ]
           }
          ],
          "choropleth": [
           {
            "type": "choropleth",
            "colorbar": {
             "outlinewidth": 0,
             "ticks": ""
            }
           }
          ],
          "histogram2d": [
           {
            "type": "histogram2d",
            "colorbar": {
             "outlinewidth": 0,
             "ticks": ""
            },
            "colorscale": [
             [
              0.0,
              "#0d0887"
             ],
             [
              0.1111111111111111,
              "#46039f"
             ],
             [
              0.2222222222222222,
              "#7201a8"
             ],
             [
              0.3333333333333333,
              "#9c179e"
             ],
             [
              0.4444444444444444,
              "#bd3786"
             ],
             [
              0.5555555555555556,
              "#d8576b"
             ],
             [
              0.6666666666666666,
              "#ed7953"
             ],
             [
              0.7777777777777778,
              "#fb9f3a"
             ],
             [
              0.8888888888888888,
              "#fdca26"
             ],
             [
              1.0,
              "#f0f921"
             ]
            ]
           }
          ],
          "heatmap": [
           {
            "type": "heatmap",
            "colorbar": {
             "outlinewidth": 0,
             "ticks": ""
            },
            "colorscale": [
             [
              0.0,
              "#0d0887"
             ],
             [
              0.1111111111111111,
              "#46039f"
             ],
             [
              0.2222222222222222,
              "#7201a8"
             ],
             [
              0.3333333333333333,
              "#9c179e"
             ],
             [
              0.4444444444444444,
              "#bd3786"
             ],
             [
              0.5555555555555556,
              "#d8576b"
             ],
             [
              0.6666666666666666,
              "#ed7953"
             ],
             [
              0.7777777777777778,
              "#fb9f3a"
             ],
             [
              0.8888888888888888,
              "#fdca26"
             ],
             [
              1.0,
              "#f0f921"
             ]
            ]
           }
          ],
          "heatmapgl": [
           {
            "type": "heatmapgl",
            "colorbar": {
             "outlinewidth": 0,
             "ticks": ""
            },
            "colorscale": [
             [
              0.0,
              "#0d0887"
             ],
             [
              0.1111111111111111,
              "#46039f"
             ],
             [
              0.2222222222222222,
              "#7201a8"
             ],
             [
              0.3333333333333333,
              "#9c179e"
             ],
             [
              0.4444444444444444,
              "#bd3786"
             ],
             [
              0.5555555555555556,
              "#d8576b"
             ],
             [
              0.6666666666666666,
              "#ed7953"
             ],
             [
              0.7777777777777778,
              "#fb9f3a"
             ],
             [
              0.8888888888888888,
              "#fdca26"
             ],
             [
              1.0,
              "#f0f921"
             ]
            ]
           }
          ],
          "contourcarpet": [
           {
            "type": "contourcarpet",
            "colorbar": {
             "outlinewidth": 0,
             "ticks": ""
            }
           }
          ],
          "contour": [
           {
            "type": "contour",
            "colorbar": {
             "outlinewidth": 0,
             "ticks": ""
            },
            "colorscale": [
             [
              0.0,
              "#0d0887"
             ],
             [
              0.1111111111111111,
              "#46039f"
             ],
             [
              0.2222222222222222,
              "#7201a8"
             ],
             [
              0.3333333333333333,
              "#9c179e"
             ],
             [
              0.4444444444444444,
              "#bd3786"
             ],
             [
              0.5555555555555556,
              "#d8576b"
             ],
             [
              0.6666666666666666,
              "#ed7953"
             ],
             [
              0.7777777777777778,
              "#fb9f3a"
             ],
             [
              0.8888888888888888,
              "#fdca26"
             ],
             [
              1.0,
              "#f0f921"
             ]
            ]
           }
          ],
          "surface": [
           {
            "type": "surface",
            "colorbar": {
             "outlinewidth": 0,
             "ticks": ""
            },
            "colorscale": [
             [
              0.0,
              "#0d0887"
             ],
             [
              0.1111111111111111,
              "#46039f"
             ],
             [
              0.2222222222222222,
              "#7201a8"
             ],
             [
              0.3333333333333333,
              "#9c179e"
             ],
             [
              0.4444444444444444,
              "#bd3786"
             ],
             [
              0.5555555555555556,
              "#d8576b"
             ],
             [
              0.6666666666666666,
              "#ed7953"
             ],
             [
              0.7777777777777778,
              "#fb9f3a"
             ],
             [
              0.8888888888888888,
              "#fdca26"
             ],
             [
              1.0,
              "#f0f921"
             ]
            ]
           }
          ],
          "mesh3d": [
           {
            "type": "mesh3d",
            "colorbar": {
             "outlinewidth": 0,
             "ticks": ""
            }
           }
          ],
          "scatter": [
           {
            "marker": {
             "line": {
              "color": "#283442"
             }
            },
            "type": "scatter"
           }
          ],
          "parcoords": [
           {
            "type": "parcoords",
            "line": {
             "colorbar": {
              "outlinewidth": 0,
              "ticks": ""
             }
            }
           }
          ],
          "scatterpolargl": [
           {
            "type": "scatterpolargl",
            "marker": {
             "colorbar": {
              "outlinewidth": 0,
              "ticks": ""
             }
            }
           }
          ],
          "bar": [
           {
            "error_x": {
             "color": "#f2f5fa"
            },
            "error_y": {
             "color": "#f2f5fa"
            },
            "marker": {
             "line": {
              "color": "rgb(17,17,17)",
              "width": 0.5
             },
             "pattern": {
              "fillmode": "overlay",
              "size": 10,
              "solidity": 0.2
             }
            },
            "type": "bar"
           }
          ],
          "scattergeo": [
           {
            "type": "scattergeo",
            "marker": {
             "colorbar": {
              "outlinewidth": 0,
              "ticks": ""
             }
            }
           }
          ],
          "scatterpolar": [
           {
            "type": "scatterpolar",
            "marker": {
             "colorbar": {
              "outlinewidth": 0,
              "ticks": ""
             }
            }
           }
          ],
          "histogram": [
           {
            "marker": {
             "pattern": {
              "fillmode": "overlay",
              "size": 10,
              "solidity": 0.2
             }
            },
            "type": "histogram"
           }
          ],
          "scattergl": [
           {
            "marker": {
             "line": {
              "color": "#283442"
             }
            },
            "type": "scattergl"
           }
          ],
          "scatter3d": [
           {
            "type": "scatter3d",
            "line": {
             "colorbar": {
              "outlinewidth": 0,
              "ticks": ""
             }
            },
            "marker": {
             "colorbar": {
              "outlinewidth": 0,
              "ticks": ""
             }
            }
           }
          ],
          "scattermapbox": [
           {
            "type": "scattermapbox",
            "marker": {
             "colorbar": {
              "outlinewidth": 0,
              "ticks": ""
             }
            }
           }
          ],
          "scatterternary": [
           {
            "type": "scatterternary",
            "marker": {
             "colorbar": {
              "outlinewidth": 0,
              "ticks": ""
             }
            }
           }
          ],
          "scattercarpet": [
           {
            "type": "scattercarpet",
            "marker": {
             "colorbar": {
              "outlinewidth": 0,
              "ticks": ""
             }
            }
           }
          ],
          "carpet": [
           {
            "aaxis": {
             "endlinecolor": "#A2B1C6",
             "gridcolor": "#506784",
             "linecolor": "#506784",
             "minorgridcolor": "#506784",
             "startlinecolor": "#A2B1C6"
            },
            "baxis": {
             "endlinecolor": "#A2B1C6",
             "gridcolor": "#506784",
             "linecolor": "#506784",
             "minorgridcolor": "#506784",
             "startlinecolor": "#A2B1C6"
            },
            "type": "carpet"
           }
          ],
          "table": [
           {
            "cells": {
             "fill": {
              "color": "#506784"
             },
             "line": {
              "color": "rgb(17,17,17)"
             }
            },
            "header": {
             "fill": {
              "color": "#2a3f5f"
             },
             "line": {
              "color": "rgb(17,17,17)"
             }
            },
            "type": "table"
           }
          ],
          "barpolar": [
           {
            "marker": {
             "line": {
              "color": "rgb(17,17,17)",
              "width": 0.5
             },
             "pattern": {
              "fillmode": "overlay",
              "size": 10,
              "solidity": 0.2
             }
            },
            "type": "barpolar"
           }
          ],
          "pie": [
           {
            "automargin": true,
            "type": "pie"
           }
          ]
         },
         "layout": {
          "autotypenumbers": "strict",
          "colorway": [
           "#636efa",
           "#EF553B",
           "#00cc96",
           "#ab63fa",
           "#FFA15A",
           "#19d3f3",
           "#FF6692",
           "#B6E880",
           "#FF97FF",
           "#FECB52"
          ],
          "font": {
           "color": "#f2f5fa"
          },
          "hovermode": "closest",
          "hoverlabel": {
           "align": "left"
          },
          "paper_bgcolor": "rgb(17,17,17)",
          "plot_bgcolor": "rgb(17,17,17)",
          "polar": {
           "bgcolor": "rgb(17,17,17)",
           "angularaxis": {
            "gridcolor": "#506784",
            "linecolor": "#506784",
            "ticks": ""
           },
           "radialaxis": {
            "gridcolor": "#506784",
            "linecolor": "#506784",
            "ticks": ""
           }
          },
          "ternary": {
           "bgcolor": "rgb(17,17,17)",
           "aaxis": {
            "gridcolor": "#506784",
            "linecolor": "#506784",
            "ticks": ""
           },
           "baxis": {
            "gridcolor": "#506784",
            "linecolor": "#506784",
            "ticks": ""
           },
           "caxis": {
            "gridcolor": "#506784",
            "linecolor": "#506784",
            "ticks": ""
           }
          },
          "coloraxis": {
           "colorbar": {
            "outlinewidth": 0,
            "ticks": ""
           }
          },
          "colorscale": {
           "sequential": [
            [
             0.0,
             "#0d0887"
            ],
            [
             0.1111111111111111,
             "#46039f"
            ],
            [
             0.2222222222222222,
             "#7201a8"
            ],
            [
             0.3333333333333333,
             "#9c179e"
            ],
            [
             0.4444444444444444,
             "#bd3786"
            ],
            [
             0.5555555555555556,
             "#d8576b"
            ],
            [
             0.6666666666666666,
             "#ed7953"
            ],
            [
             0.7777777777777778,
             "#fb9f3a"
            ],
            [
             0.8888888888888888,
             "#fdca26"
            ],
            [
             1.0,
             "#f0f921"
            ]
           ],
           "sequentialminus": [
            [
             0.0,
             "#0d0887"
            ],
            [
             0.1111111111111111,
             "#46039f"
            ],
            [
             0.2222222222222222,
             "#7201a8"
            ],
            [
             0.3333333333333333,
             "#9c179e"
            ],
            [
             0.4444444444444444,
             "#bd3786"
            ],
            [
             0.5555555555555556,
             "#d8576b"
            ],
            [
             0.6666666666666666,
             "#ed7953"
            ],
            [
             0.7777777777777778,
             "#fb9f3a"
            ],
            [
             0.8888888888888888,
             "#fdca26"
            ],
            [
             1.0,
             "#f0f921"
            ]
           ],
           "diverging": [
            [
             0,
             "#8e0152"
            ],
            [
             0.1,
             "#c51b7d"
            ],
            [
             0.2,
             "#de77ae"
            ],
            [
             0.3,
             "#f1b6da"
            ],
            [
             0.4,
             "#fde0ef"
            ],
            [
             0.5,
             "#f7f7f7"
            ],
            [
             0.6,
             "#e6f5d0"
            ],
            [
             0.7,
             "#b8e186"
            ],
            [
             0.8,
             "#7fbc41"
            ],
            [
             0.9,
             "#4d9221"
            ],
            [
             1,
             "#276419"
            ]
           ]
          },
          "xaxis": {
           "gridcolor": "#283442",
           "linecolor": "#506784",
           "ticks": "",
           "title": {
            "standoff": 15
           },
           "zerolinecolor": "#283442",
           "automargin": true,
           "zerolinewidth": 2
          },
          "yaxis": {
           "gridcolor": "#283442",
           "linecolor": "#506784",
           "ticks": "",
           "title": {
            "standoff": 15
           },
           "zerolinecolor": "#283442",
           "automargin": true,
           "zerolinewidth": 2
          },
          "scene": {
           "xaxis": {
            "backgroundcolor": "rgb(17,17,17)",
            "gridcolor": "#506784",
            "linecolor": "#506784",
            "showbackground": true,
            "ticks": "",
            "zerolinecolor": "#C8D4E3",
            "gridwidth": 2
           },
           "yaxis": {
            "backgroundcolor": "rgb(17,17,17)",
            "gridcolor": "#506784",
            "linecolor": "#506784",
            "showbackground": true,
            "ticks": "",
            "zerolinecolor": "#C8D4E3",
            "gridwidth": 2
           },
           "zaxis": {
            "backgroundcolor": "rgb(17,17,17)",
            "gridcolor": "#506784",
            "linecolor": "#506784",
            "showbackground": true,
            "ticks": "",
            "zerolinecolor": "#C8D4E3",
            "gridwidth": 2
           }
          },
          "shapedefaults": {
           "line": {
            "color": "#f2f5fa"
           }
          },
          "annotationdefaults": {
           "arrowcolor": "#f2f5fa",
           "arrowhead": 0,
           "arrowwidth": 1
          },
          "geo": {
           "bgcolor": "rgb(17,17,17)",
           "landcolor": "rgb(17,17,17)",
           "subunitcolor": "#506784",
           "showland": true,
           "showlakes": true,
           "lakecolor": "rgb(17,17,17)"
          },
          "title": {
           "x": 0.05
          },
          "updatemenudefaults": {
           "bgcolor": "#506784",
           "borderwidth": 0
          },
          "sliderdefaults": {
           "bgcolor": "#C8D4E3",
           "borderwidth": 1,
           "bordercolor": "rgb(17,17,17)",
           "tickwidth": 0
          },
          "mapbox": {
           "style": "dark"
          }
         }
        },
        "legend": {
         "tracegroupgap": 0
        },
        "title": {
         "text": "Showing of Property Violence in NTA"
        }
       },
       "config": {
        "plotlyServerURL": "https://plot.ly"
       }
      },
      "text/html": "<div>                            <div id=\"db1d23da-0896-4d2e-897a-665765080ef0\" class=\"plotly-graph-div\" style=\"height:525px; width:100%;\"></div>            <script type=\"text/javascript\">                require([\"plotly\"], function(Plotly) {                    window.PLOTLYENV=window.PLOTLYENV || {};                                    if (document.getElementById(\"db1d23da-0896-4d2e-897a-665765080ef0\")) {                    Plotly.newPlot(                        \"db1d23da-0896-4d2e-897a-665765080ef0\",                        [{\"domain\":{\"x\":[0.0,1.0],\"y\":[0.0,1.0]},\"hovertemplate\":\"NTA=%{label}\\u003cbr\\u003eProp N=%{value}\\u003cextra\\u003e\\u003c\\u002fextra\\u003e\",\"labels\":[\"Allerton-Pelham Gardens                                                    \",\"Annadale-Huguenot-Prince's Bay-Eltingville                                 \",\"Arden Heights                                                              \",\"Astoria                                                                    \",\"Auburndale                                                                 \",\"Baisley Park                                                               \",\"Bath Beach                                                                 \",\"Battery Park City-Lower Manhattan                                          \",\"Bay Ridge                                                                  \",\"Bayside-Bayside Hills                                                      \",\"Bedford                                                                    \",\"Bedford Park-Fordham North                                                 \",\"Bellerose                                                                  \",\"Belmont                                                                    \",\"Bensonhurst East                                                           \",\"Bensonhurst West                                                           \",\"Borough Park                                                               \",\"Breezy Point-Belle Harbor-Rockaway Park-Broad Channel                      \",\"Briarwood-Jamaica Hills                                                    \",\"Brighton Beach                                                             \",\"Bronxdale                                                                  \",\"Brooklyn Heights-Cobble Hill                                               \",\"Brownsville                                                                \",\"Bushwick North                                                             \",\"Bushwick South                                                             \",\"Cambria Heights                                                            \",\"Canarsie                                                                   \",\"Carroll Gardens-Columbia Street-Red Hook                                   \",\"Central Harlem North-Polo Grounds                                          \",\"Central Harlem South                                                       \",\"Charleston-Richmond Valley-Tottenville                                     \",\"Chinatown                                                                  \",\"Claremont-Bathgate                                                         \",\"Clinton                                                                    \",\"Clinton Hill                                                               \",\"Co-op City                                                                 \",\"College Point                                                              \",\"Corona                                                                     \",\"Crotona Park East                                                          \",\"Crown Heights North                                                        \",\"Crown Heights South                                                        \",\"Cypress Hills-City Line                                                    \",\"DUMBO-Vinegar Hill-Downtown Brooklyn-Boerum Hill                           \",\"Douglas Manor-Douglaston-Little Neck                                       \",\"Dyker Heights                                                              \",\"East Concourse-Concourse Village                                           \",\"East Elmhurst                                                              \",\"East Flatbush-Farragut                                                     \",\"East Flushing                                                              \",\"East Harlem North                                                          \",\"East Harlem South                                                          \",\"East New York                                                              \",\"East New York (Pennsylvania Ave)                                           \",\"East Tremont                                                               \",\"East Village                                                               \",\"East Williamsburg                                                          \",\"Eastchester-Edenwald-Baychester                                            \",\"Elmhurst                                                                   \",\"Elmhurst-Maspeth                                                           \",\"Erasmus                                                                    \",\"Far Rockaway-Bayswater                                                     \",\"Flatbush                                                                   \",\"Flatlands                                                                  \",\"Flushing                                                                   \",\"Fordham South                                                              \",\"Forest Hills                                                               \",\"Fort Greene                                                                \",\"Fresh Meadows-Utopia                                                       \",\"Ft. Totten-Bay Terrace-Clearview                                           \",\"Georgetown-Marine Park-Bergen Beach-Mill Basin                             \",\"Glen Oaks-Floral Park-New Hyde Park                                        \",\"Glendale                                                                   \",\"Gramercy                                                                   \",\"Grasmere-Arrochar-Ft. Wadsworth                                            \",\"Gravesend                                                                  \",\"Great Kills                                                                \",\"Greenpoint                                                                 \",\"Grymes Hill-Clifton-Fox Hills                                              \",\"Hamilton Heights                                                           \",\"Hammels-Arverne-Edgemere                                                   \",\"Highbridge                                                                 \",\"Hollis                                                                     \",\"Homecrest                                                                  \",\"Hudson Yards-Chelsea-Flatiron-Union Square                                 \",\"Hunters Point-Sunnyside-West Maspeth                                       \",\"Hunts Point                                                                \",\"Jackson Heights                                                            \",\"Jamaica                                                                    \",\"Jamaica Estates-Holliswood                                                 \",\"Kensington-Ocean Parkway                                                   \",\"Kew Gardens                                                                \",\"Kew Gardens Hills                                                          \",\"Kingsbridge Heights                                                        \",\"Laurelton                                                                  \",\"Lenox Hill-Roosevelt Island                                                \",\"Lincoln Square                                                             \",\"Lindenwood-Howard Beach                                                    \",\"Longwood                                                                   \",\"Lower East Side                                                            \",\"Madison                                                                    \",\"Manhattanville                                                             \",\"Marble Hill-Inwood                                                         \",\"Mariner's Harbor-Arlington-Port Ivory-Graniteville                         \",\"Maspeth                                                                    \",\"Melrose South-Mott Haven North                                             \",\"Middle Village                                                             \",\"Midtown-Midtown South                                                      \",\"Midwood                                                                    \",\"Morningside Heights                                                        \",\"Morrisania-Melrose                                                         \",\"Mott Haven-Port Morris                                                     \",\"Mount Hope                                                                 \",\"Murray Hill                                                                \",\"Murray Hill-Kips Bay                                                       \",\"New Brighton-Silver Lake                                                   \",\"New Dorp-Midland Beach                                                     \",\"New Springville-Bloomfield-Travis                                          \",\"North Corona                                                               \",\"North Riverdale-Fieldston-Riverdale                                        \",\"North Side-South Side                                                      \",\"Norwood                                                                    \",\"Oakland Gardens                                                            \",\"Oakwood-Oakwood Beach                                                      \",\"Ocean Hill                                                                 \",\"Ocean Parkway South                                                        \",\"Old Astoria                                                                \",\"Old Town-Dongan Hills-South Beach                                          \",\"Ozone Park                                                                 \",\"Park Slope-Gowanus                                                         \",\"Parkchester                                                                \",\"Pelham Bay-Country Club-City Island                                        \",\"Pelham Parkway                                                             \",\"Pomonok-Flushing Heights-Hillcrest                                         \",\"Port Richmond                                                              \",\"Prospect Heights                                                           \",\"Prospect Lefferts Gardens-Wingate                                          \",\"Queens Village                                                             \",\"Queensboro Hill                                                            \",\"Queensbridge-Ravenswood-Long Island City                                   \",\"Rego Park                                                                  \",\"Richmond Hill                                                              \",\"Ridgewood                                                                  \",\"Rikers Island                                                              \",\"Rosedale                                                                   \",\"Rossville-Woodrow                                                          \",\"Rugby-Remsen Village                                                       \",\"Schuylerville-Throgs Neck-Edgewater Park                                   \",\"Seagate-Coney Island                                                       \",\"Sheepshead Bay-Gerritsen Beach-Manhattan Beach                             \",\"SoHo-TriBeCa-Civic Center-Little Italy                                     \",\"Soundview-Bruckner                                                         \",\"Soundview-Castle Hill-Clason Point-Harding Park                            \",\"South Jamaica                                                              \",\"South Ozone Park                                                           \",\"Springfield Gardens North                                                  \",\"Springfield Gardens South-Brookville                                       \",\"Spuyten Duyvil-Kingsbridge                                                 \",\"St. Albans                                                                 \",\"Stapleton-Rosebank                                                         \",\"Starrett City                                                              \",\"Steinway                                                                   \",\"Stuyvesant Heights                                                         \",\"Sunset Park East                                                           \",\"Sunset Park West                                                           \",\"Todt Hill-Emerson Hill-Heartland Village-Lighthouse Hill                   \",\"Turtle Bay-East Midtown                                                    \",\"University Heights-Morris Heights                                          \",\"Upper East Side-Carnegie Hill                                              \",\"Upper West Side                                                            \",\"Van Cortlandt Village                                                      \",\"Van Nest-Morris Park-Westchester Square                                    \",\"Washington Heights North                                                   \",\"Washington Heights South                                                   \",\"West Brighton                                                              \",\"West Concourse                                                             \",\"West Farms-Bronx River                                                     \",\"West New Brighton-New Brighton-St. George                                  \",\"West Village                                                               \",\"Westchester-Unionport                                                      \",\"Westerleigh                                                                \",\"Whitestone                                                                 \",\"Williamsbridge-Olinville                                                   \",\"Williamsburg                                                               \",\"Windsor Terrace                                                            \",\"Woodhaven                                                                  \",\"Woodlawn-Wakefield                                                         \",\"Woodside                                                                   \",\"Yorkville                                                                  \",\"park-cemetery-etc-Brooklyn                                                 \"],\"legendgroup\":\"\",\"name\":\"\",\"showlegend\":true,\"values\":[11.0,33.0,1.0,36.0,24.0,18.0,2.0,40.0,32.0,18.0,34.0,8.0,19.0,35.0,10.0,20.0,23.0,26.0,54.0,13.0,22.0,4.0,77.0,38.0,72.0,12.0,45.0,31.0,72.0,42.0,4.0,80.0,51.0,58.0,20.0,44.0,0.0,10.0,43.0,70.0,46.0,3.0,72.0,3.0,6.0,72.0,8.0,6.0,1.0,52.0,57.0,73.0,29.0,73.0,16.0,22.0,18.0,16.0,5.0,25.0,22.0,25.0,4.0,35.0,13.0,38.0,39.0,4.0,3.0,2.0,5.0,5.0,56.0,8.0,37.0,4.0,13.0,4.0,5.0,13.0,4.0,15.0,4.0,74.0,34.0,31.0,7.0,11.0,0.0,3.0,1.0,47.0,6.0,6.0,15.0,29.0,2.0,48.0,62.0,20.0,53.0,61.0,4.0,13.0,36.0,2.0,24.0,30.0,22.0,45.0,66.0,14.0,7.0,10.0,17.0,27.0,4.0,6.0,6.0,29.0,10.0,34.0,2.0,64.0,1.0,2.0,3.0,11.0,40.0,6.0,4.0,12.0,5.0,37.0,6.0,73.0,6.0,2.0,11.0,0.0,26.0,16.0,0.0,5.0,0.0,43.0,38.0,14.0,47.0,7.0,12.0,53.0,10.0,29.0,31.0,20.0,6.0,10.0,26.0,0.0,3.0,52.0,14.0,36.0,41.0,16.0,32.0,7.0,51.0,36.0,8.0,49.0,23.0,24.0,12.0,42.0,66.0,13.0,4.0,0.0,3.0,51.0,25.0,5.0,5.0,5.0,5.0,12.0,13.0],\"type\":\"pie\"}],                        {\"template\":{\"data\":{\"histogram2dcontour\":[{\"type\":\"histogram2dcontour\",\"colorbar\":{\"outlinewidth\":0,\"ticks\":\"\"},\"colorscale\":[[0.0,\"#0d0887\"],[0.1111111111111111,\"#46039f\"],[0.2222222222222222,\"#7201a8\"],[0.3333333333333333,\"#9c179e\"],[0.4444444444444444,\"#bd3786\"],[0.5555555555555556,\"#d8576b\"],[0.6666666666666666,\"#ed7953\"],[0.7777777777777778,\"#fb9f3a\"],[0.8888888888888888,\"#fdca26\"],[1.0,\"#f0f921\"]]}],\"choropleth\":[{\"type\":\"choropleth\",\"colorbar\":{\"outlinewidth\":0,\"ticks\":\"\"}}],\"histogram2d\":[{\"type\":\"histogram2d\",\"colorbar\":{\"outlinewidth\":0,\"ticks\":\"\"},\"colorscale\":[[0.0,\"#0d0887\"],[0.1111111111111111,\"#46039f\"],[0.2222222222222222,\"#7201a8\"],[0.3333333333333333,\"#9c179e\"],[0.4444444444444444,\"#bd3786\"],[0.5555555555555556,\"#d8576b\"],[0.6666666666666666,\"#ed7953\"],[0.7777777777777778,\"#fb9f3a\"],[0.8888888888888888,\"#fdca26\"],[1.0,\"#f0f921\"]]}],\"heatmap\":[{\"type\":\"heatmap\",\"colorbar\":{\"outlinewidth\":0,\"ticks\":\"\"},\"colorscale\":[[0.0,\"#0d0887\"],[0.1111111111111111,\"#46039f\"],[0.2222222222222222,\"#7201a8\"],[0.3333333333333333,\"#9c179e\"],[0.4444444444444444,\"#bd3786\"],[0.5555555555555556,\"#d8576b\"],[0.6666666666666666,\"#ed7953\"],[0.7777777777777778,\"#fb9f3a\"],[0.8888888888888888,\"#fdca26\"],[1.0,\"#f0f921\"]]}],\"heatmapgl\":[{\"type\":\"heatmapgl\",\"colorbar\":{\"outlinewidth\":0,\"ticks\":\"\"},\"colorscale\":[[0.0,\"#0d0887\"],[0.1111111111111111,\"#46039f\"],[0.2222222222222222,\"#7201a8\"],[0.3333333333333333,\"#9c179e\"],[0.4444444444444444,\"#bd3786\"],[0.5555555555555556,\"#d8576b\"],[0.6666666666666666,\"#ed7953\"],[0.7777777777777778,\"#fb9f3a\"],[0.8888888888888888,\"#fdca26\"],[1.0,\"#f0f921\"]]}],\"contourcarpet\":[{\"type\":\"contourcarpet\",\"colorbar\":{\"outlinewidth\":0,\"ticks\":\"\"}}],\"contour\":[{\"type\":\"contour\",\"colorbar\":{\"outlinewidth\":0,\"ticks\":\"\"},\"colorscale\":[[0.0,\"#0d0887\"],[0.1111111111111111,\"#46039f\"],[0.2222222222222222,\"#7201a8\"],[0.3333333333333333,\"#9c179e\"],[0.4444444444444444,\"#bd3786\"],[0.5555555555555556,\"#d8576b\"],[0.6666666666666666,\"#ed7953\"],[0.7777777777777778,\"#fb9f3a\"],[0.8888888888888888,\"#fdca26\"],[1.0,\"#f0f921\"]]}],\"surface\":[{\"type\":\"surface\",\"colorbar\":{\"outlinewidth\":0,\"ticks\":\"\"},\"colorscale\":[[0.0,\"#0d0887\"],[0.1111111111111111,\"#46039f\"],[0.2222222222222222,\"#7201a8\"],[0.3333333333333333,\"#9c179e\"],[0.4444444444444444,\"#bd3786\"],[0.5555555555555556,\"#d8576b\"],[0.6666666666666666,\"#ed7953\"],[0.7777777777777778,\"#fb9f3a\"],[0.8888888888888888,\"#fdca26\"],[1.0,\"#f0f921\"]]}],\"mesh3d\":[{\"type\":\"mesh3d\",\"colorbar\":{\"outlinewidth\":0,\"ticks\":\"\"}}],\"scatter\":[{\"marker\":{\"line\":{\"color\":\"#283442\"}},\"type\":\"scatter\"}],\"parcoords\":[{\"type\":\"parcoords\",\"line\":{\"colorbar\":{\"outlinewidth\":0,\"ticks\":\"\"}}}],\"scatterpolargl\":[{\"type\":\"scatterpolargl\",\"marker\":{\"colorbar\":{\"outlinewidth\":0,\"ticks\":\"\"}}}],\"bar\":[{\"error_x\":{\"color\":\"#f2f5fa\"},\"error_y\":{\"color\":\"#f2f5fa\"},\"marker\":{\"line\":{\"color\":\"rgb(17,17,17)\",\"width\":0.5},\"pattern\":{\"fillmode\":\"overlay\",\"size\":10,\"solidity\":0.2}},\"type\":\"bar\"}],\"scattergeo\":[{\"type\":\"scattergeo\",\"marker\":{\"colorbar\":{\"outlinewidth\":0,\"ticks\":\"\"}}}],\"scatterpolar\":[{\"type\":\"scatterpolar\",\"marker\":{\"colorbar\":{\"outlinewidth\":0,\"ticks\":\"\"}}}],\"histogram\":[{\"marker\":{\"pattern\":{\"fillmode\":\"overlay\",\"size\":10,\"solidity\":0.2}},\"type\":\"histogram\"}],\"scattergl\":[{\"marker\":{\"line\":{\"color\":\"#283442\"}},\"type\":\"scattergl\"}],\"scatter3d\":[{\"type\":\"scatter3d\",\"line\":{\"colorbar\":{\"outlinewidth\":0,\"ticks\":\"\"}},\"marker\":{\"colorbar\":{\"outlinewidth\":0,\"ticks\":\"\"}}}],\"scattermapbox\":[{\"type\":\"scattermapbox\",\"marker\":{\"colorbar\":{\"outlinewidth\":0,\"ticks\":\"\"}}}],\"scatterternary\":[{\"type\":\"scatterternary\",\"marker\":{\"colorbar\":{\"outlinewidth\":0,\"ticks\":\"\"}}}],\"scattercarpet\":[{\"type\":\"scattercarpet\",\"marker\":{\"colorbar\":{\"outlinewidth\":0,\"ticks\":\"\"}}}],\"carpet\":[{\"aaxis\":{\"endlinecolor\":\"#A2B1C6\",\"gridcolor\":\"#506784\",\"linecolor\":\"#506784\",\"minorgridcolor\":\"#506784\",\"startlinecolor\":\"#A2B1C6\"},\"baxis\":{\"endlinecolor\":\"#A2B1C6\",\"gridcolor\":\"#506784\",\"linecolor\":\"#506784\",\"minorgridcolor\":\"#506784\",\"startlinecolor\":\"#A2B1C6\"},\"type\":\"carpet\"}],\"table\":[{\"cells\":{\"fill\":{\"color\":\"#506784\"},\"line\":{\"color\":\"rgb(17,17,17)\"}},\"header\":{\"fill\":{\"color\":\"#2a3f5f\"},\"line\":{\"color\":\"rgb(17,17,17)\"}},\"type\":\"table\"}],\"barpolar\":[{\"marker\":{\"line\":{\"color\":\"rgb(17,17,17)\",\"width\":0.5},\"pattern\":{\"fillmode\":\"overlay\",\"size\":10,\"solidity\":0.2}},\"type\":\"barpolar\"}],\"pie\":[{\"automargin\":true,\"type\":\"pie\"}]},\"layout\":{\"autotypenumbers\":\"strict\",\"colorway\":[\"#636efa\",\"#EF553B\",\"#00cc96\",\"#ab63fa\",\"#FFA15A\",\"#19d3f3\",\"#FF6692\",\"#B6E880\",\"#FF97FF\",\"#FECB52\"],\"font\":{\"color\":\"#f2f5fa\"},\"hovermode\":\"closest\",\"hoverlabel\":{\"align\":\"left\"},\"paper_bgcolor\":\"rgb(17,17,17)\",\"plot_bgcolor\":\"rgb(17,17,17)\",\"polar\":{\"bgcolor\":\"rgb(17,17,17)\",\"angularaxis\":{\"gridcolor\":\"#506784\",\"linecolor\":\"#506784\",\"ticks\":\"\"},\"radialaxis\":{\"gridcolor\":\"#506784\",\"linecolor\":\"#506784\",\"ticks\":\"\"}},\"ternary\":{\"bgcolor\":\"rgb(17,17,17)\",\"aaxis\":{\"gridcolor\":\"#506784\",\"linecolor\":\"#506784\",\"ticks\":\"\"},\"baxis\":{\"gridcolor\":\"#506784\",\"linecolor\":\"#506784\",\"ticks\":\"\"},\"caxis\":{\"gridcolor\":\"#506784\",\"linecolor\":\"#506784\",\"ticks\":\"\"}},\"coloraxis\":{\"colorbar\":{\"outlinewidth\":0,\"ticks\":\"\"}},\"colorscale\":{\"sequential\":[[0.0,\"#0d0887\"],[0.1111111111111111,\"#46039f\"],[0.2222222222222222,\"#7201a8\"],[0.3333333333333333,\"#9c179e\"],[0.4444444444444444,\"#bd3786\"],[0.5555555555555556,\"#d8576b\"],[0.6666666666666666,\"#ed7953\"],[0.7777777777777778,\"#fb9f3a\"],[0.8888888888888888,\"#fdca26\"],[1.0,\"#f0f921\"]],\"sequentialminus\":[[0.0,\"#0d0887\"],[0.1111111111111111,\"#46039f\"],[0.2222222222222222,\"#7201a8\"],[0.3333333333333333,\"#9c179e\"],[0.4444444444444444,\"#bd3786\"],[0.5555555555555556,\"#d8576b\"],[0.6666666666666666,\"#ed7953\"],[0.7777777777777778,\"#fb9f3a\"],[0.8888888888888888,\"#fdca26\"],[1.0,\"#f0f921\"]],\"diverging\":[[0,\"#8e0152\"],[0.1,\"#c51b7d\"],[0.2,\"#de77ae\"],[0.3,\"#f1b6da\"],[0.4,\"#fde0ef\"],[0.5,\"#f7f7f7\"],[0.6,\"#e6f5d0\"],[0.7,\"#b8e186\"],[0.8,\"#7fbc41\"],[0.9,\"#4d9221\"],[1,\"#276419\"]]},\"xaxis\":{\"gridcolor\":\"#283442\",\"linecolor\":\"#506784\",\"ticks\":\"\",\"title\":{\"standoff\":15},\"zerolinecolor\":\"#283442\",\"automargin\":true,\"zerolinewidth\":2},\"yaxis\":{\"gridcolor\":\"#283442\",\"linecolor\":\"#506784\",\"ticks\":\"\",\"title\":{\"standoff\":15},\"zerolinecolor\":\"#283442\",\"automargin\":true,\"zerolinewidth\":2},\"scene\":{\"xaxis\":{\"backgroundcolor\":\"rgb(17,17,17)\",\"gridcolor\":\"#506784\",\"linecolor\":\"#506784\",\"showbackground\":true,\"ticks\":\"\",\"zerolinecolor\":\"#C8D4E3\",\"gridwidth\":2},\"yaxis\":{\"backgroundcolor\":\"rgb(17,17,17)\",\"gridcolor\":\"#506784\",\"linecolor\":\"#506784\",\"showbackground\":true,\"ticks\":\"\",\"zerolinecolor\":\"#C8D4E3\",\"gridwidth\":2},\"zaxis\":{\"backgroundcolor\":\"rgb(17,17,17)\",\"gridcolor\":\"#506784\",\"linecolor\":\"#506784\",\"showbackground\":true,\"ticks\":\"\",\"zerolinecolor\":\"#C8D4E3\",\"gridwidth\":2}},\"shapedefaults\":{\"line\":{\"color\":\"#f2f5fa\"}},\"annotationdefaults\":{\"arrowcolor\":\"#f2f5fa\",\"arrowhead\":0,\"arrowwidth\":1},\"geo\":{\"bgcolor\":\"rgb(17,17,17)\",\"landcolor\":\"rgb(17,17,17)\",\"subunitcolor\":\"#506784\",\"showland\":true,\"showlakes\":true,\"lakecolor\":\"rgb(17,17,17)\"},\"title\":{\"x\":0.05},\"updatemenudefaults\":{\"bgcolor\":\"#506784\",\"borderwidth\":0},\"sliderdefaults\":{\"bgcolor\":\"#C8D4E3\",\"borderwidth\":1,\"bordercolor\":\"rgb(17,17,17)\",\"tickwidth\":0},\"mapbox\":{\"style\":\"dark\"}}},\"legend\":{\"tracegroupgap\":0},\"title\":{\"text\":\"Showing of Property Violence in NTA\"}},                        {\"responsive\": true}                    ).then(function(){\n                            \nvar gd = document.getElementById('db1d23da-0896-4d2e-897a-665765080ef0');\nvar x = new MutationObserver(function (mutations, observer) {{\n        var display = window.getComputedStyle(gd).display;\n        if (!display || display === 'none') {{\n            console.log([gd, 'removed!']);\n            Plotly.purge(gd);\n            observer.disconnect();\n        }}\n}});\n\n// Listen for the removal of the full notebook cells\nvar notebookContainer = gd.closest('#notebook-container');\nif (notebookContainer) {{\n    x.observe(notebookContainer, {childList: true});\n}}\n\n// Listen for the clearing of the current output cell\nvar outputEl = gd.closest('.output');\nif (outputEl) {{\n    x.observe(outputEl, {childList: true});\n}}\n\n                        })                };                });            </script>        </div>"
     },
     "metadata": {},
     "output_type": "display_data"
    }
   ],
   "source": [
    "fig = px.pie(nta_propn_df, names='NTA', values='Prop N', title='Showing of Property Violence in NTA')\n",
    "fig.show()"
   ],
   "metadata": {
    "collapsed": false,
    "ExecuteTime": {
     "end_time": "2024-01-20T20:19:27.536281400Z",
     "start_time": "2024-01-20T20:19:27.471484Z"
    }
   },
   "id": "383ef07c073f9671"
  },
  {
   "cell_type": "code",
   "execution_count": 50,
   "outputs": [
    {
     "data": {
      "text/plain": "       Latitude  Longitude  Prop N\n0     40.508284 -74.243428     1.0\n1     40.508809 -74.222403     2.0\n2     40.509037 -74.244118     2.0\n3     40.510735 -74.231109     1.0\n4     40.520699 -74.211264     1.0\n...         ...        ...     ...\n1189  40.892151 -73.861466     1.0\n1190  40.895104 -73.845968     0.0\n1191  40.899295 -73.867500     0.0\n1192  40.902205 -73.854829     0.0\n1193  40.903553 -73.905229     1.0\n\n[1194 rows x 3 columns]",
      "text/html": "<div>\n<style scoped>\n    .dataframe tbody tr th:only-of-type {\n        vertical-align: middle;\n    }\n\n    .dataframe tbody tr th {\n        vertical-align: top;\n    }\n\n    .dataframe thead th {\n        text-align: right;\n    }\n</style>\n<table border=\"1\" class=\"dataframe\">\n  <thead>\n    <tr style=\"text-align: right;\">\n      <th></th>\n      <th>Latitude</th>\n      <th>Longitude</th>\n      <th>Prop N</th>\n    </tr>\n  </thead>\n  <tbody>\n    <tr>\n      <th>0</th>\n      <td>40.508284</td>\n      <td>-74.243428</td>\n      <td>1.0</td>\n    </tr>\n    <tr>\n      <th>1</th>\n      <td>40.508809</td>\n      <td>-74.222403</td>\n      <td>2.0</td>\n    </tr>\n    <tr>\n      <th>2</th>\n      <td>40.509037</td>\n      <td>-74.244118</td>\n      <td>2.0</td>\n    </tr>\n    <tr>\n      <th>3</th>\n      <td>40.510735</td>\n      <td>-74.231109</td>\n      <td>1.0</td>\n    </tr>\n    <tr>\n      <th>4</th>\n      <td>40.520699</td>\n      <td>-74.211264</td>\n      <td>1.0</td>\n    </tr>\n    <tr>\n      <th>...</th>\n      <td>...</td>\n      <td>...</td>\n      <td>...</td>\n    </tr>\n    <tr>\n      <th>1189</th>\n      <td>40.892151</td>\n      <td>-73.861466</td>\n      <td>1.0</td>\n    </tr>\n    <tr>\n      <th>1190</th>\n      <td>40.895104</td>\n      <td>-73.845968</td>\n      <td>0.0</td>\n    </tr>\n    <tr>\n      <th>1191</th>\n      <td>40.899295</td>\n      <td>-73.867500</td>\n      <td>0.0</td>\n    </tr>\n    <tr>\n      <th>1192</th>\n      <td>40.902205</td>\n      <td>-73.854829</td>\n      <td>0.0</td>\n    </tr>\n    <tr>\n      <th>1193</th>\n      <td>40.903553</td>\n      <td>-73.905229</td>\n      <td>1.0</td>\n    </tr>\n  </tbody>\n</table>\n<p>1194 rows × 3 columns</p>\n</div>"
     },
     "execution_count": 50,
     "metadata": {},
     "output_type": "execute_result"
    }
   ],
   "source": [
    "map_df = data[[\"Latitude\", \"Longitude\", \"Prop N\"]].groupby([\"Latitude\", \"Longitude\"]).sum().reset_index()\n",
    "map_df"
   ],
   "metadata": {
    "collapsed": false,
    "ExecuteTime": {
     "end_time": "2024-01-20T22:08:14.674088200Z",
     "start_time": "2024-01-20T22:08:14.650352800Z"
    }
   },
   "id": "8248db871e28fbc8"
  },
  {
   "cell_type": "code",
   "execution_count": 54,
   "outputs": [
    {
     "data": {
      "application/vnd.plotly.v1+json": {
       "data": [
        {
         "coloraxis": "coloraxis",
         "hovertemplate": "Prop N=%{z}<br>Latitude=%{lat}<br>Longitude=%{lon}<extra></extra>",
         "lat": [
          40.508284,
          40.508809,
          40.509037,
          40.510735,
          40.520699,
          40.523757,
          40.528092,
          40.530169,
          40.536639,
          40.542246,
          40.543083,
          40.54438,
          40.545281,
          40.547692,
          40.552523,
          40.55258,
          40.552975,
          40.557876,
          40.561691,
          40.56397,
          40.567873,
          40.569393,
          40.571187,
          40.574044,
          40.574411,
          40.574607,
          40.575665,
          40.576725,
          40.577208,
          40.577217,
          40.57732,
          40.57752,
          40.578188,
          40.578255,
          40.578261,
          40.579451,
          40.579607,
          40.579737,
          40.580894,
          40.580928,
          40.581315,
          40.581681,
          40.5825,
          40.582533,
          40.582585,
          40.582744,
          40.583125,
          40.583139,
          40.584109,
          40.586066,
          40.586845,
          40.587616,
          40.58792,
          40.589268,
          40.589317,
          40.589508,
          40.590423,
          40.590564,
          40.59057,
          40.591109,
          40.591468,
          40.591702,
          40.593005,
          40.593521,
          40.59377,
          40.593779,
          40.593834,
          40.593967,
          40.594124,
          40.594291,
          40.594538,
          40.595341,
          40.595698,
          40.595779,
          40.596145,
          40.596757,
          40.596803,
          40.597369,
          40.597679,
          40.597863,
          40.5993,
          40.600199,
          40.6013,
          40.601433,
          40.601617,
          40.60201,
          40.602084,
          40.60223,
          40.603188,
          40.603232,
          40.603484,
          40.603622,
          40.60422,
          40.604349,
          40.604871,
          40.604879,
          40.606353,
          40.60665,
          40.606792,
          40.607234,
          40.60729,
          40.60731,
          40.60754,
          40.608467,
          40.608517,
          40.608604,
          40.608862,
          40.609912,
          40.610087,
          40.610868,
          40.610963,
          40.611483,
          40.611508,
          40.612273,
          40.612623,
          40.613216,
          40.613262,
          40.613317,
          40.613353,
          40.613604,
          40.613721,
          40.613881,
          40.614159,
          40.615252,
          40.61527,
          40.615998,
          40.616632,
          40.618415,
          40.618439,
          40.618676,
          40.61978,
          40.620347,
          40.620446,
          40.620525,
          40.620534,
          40.620676,
          40.620957,
          40.621224,
          40.621413,
          40.621436,
          40.621507,
          40.621565,
          40.621871,
          40.62191,
          40.622455,
          40.622596,
          40.623273,
          40.623561,
          40.623986,
          40.624132,
          40.624611,
          40.625369,
          40.625662,
          40.62668,
          40.627029,
          40.627784,
          40.627835,
          40.628169,
          40.628558,
          40.628659,
          40.629303,
          40.630843,
          40.631214,
          40.631523,
          40.63179,
          40.63228,
          40.632379,
          40.632478,
          40.632524,
          40.632562,
          40.632936,
          40.633232,
          40.633237,
          40.633285,
          40.63359,
          40.63398,
          40.634009,
          40.63402,
          40.634032,
          40.634085,
          40.634573,
          40.634875,
          40.635015,
          40.635553,
          40.635916,
          40.636455,
          40.636587,
          40.636598,
          40.63694,
          40.637282,
          40.637322,
          40.637486,
          40.637711,
          40.638686,
          40.639087,
          40.639571,
          40.6397,
          40.640066,
          40.640463,
          40.640545,
          40.640686,
          40.641157,
          40.641474,
          40.641595,
          40.641937,
          40.642031,
          40.642121,
          40.642792,
          40.642793,
          40.642834,
          40.643278,
          40.64366,
          40.643889,
          40.644203,
          40.644735,
          40.645016,
          40.645017,
          40.645685,
          40.645806,
          40.64629,
          40.646599,
          40.646877,
          40.64726,
          40.647323,
          40.64789,
          40.648044,
          40.648215,
          40.648423,
          40.64859,
          40.648608,
          40.648657,
          40.64883,
          40.648884,
          40.649042,
          40.649404,
          40.64971,
          40.649787,
          40.650785,
          40.651022,
          40.651977,
          40.652701,
          40.653006,
          40.65364,
          40.654031,
          40.654293,
          40.654704,
          40.65571,
          40.655997,
          40.656046,
          40.656068,
          40.656126,
          40.656183,
          40.656944,
          40.657131,
          40.657212,
          40.65744,
          40.657459,
          40.657472,
          40.657914,
          40.657922,
          40.658089,
          40.658295,
          40.65843,
          40.658893,
          40.658939,
          40.65911,
          40.659288,
          40.659728,
          40.659873,
          40.659966,
          40.660024,
          40.66011,
          40.660134,
          40.660204,
          40.660306,
          40.66051,
          40.660976,
          40.661061,
          40.661072,
          40.661122,
          40.661886,
          40.662326,
          40.662447,
          40.663251,
          40.663559,
          40.663673,
          40.663701,
          40.664007,
          40.664075,
          40.664218,
          40.664597,
          40.665035,
          40.665058,
          40.665565,
          40.665798,
          40.665878,
          40.665909,
          40.665965,
          40.666181,
          40.666417,
          40.666518,
          40.666545,
          40.667195,
          40.667377,
          40.667456,
          40.667545,
          40.668167,
          40.668235,
          40.668475,
          40.668856,
          40.668916,
          40.66896,
          40.669001,
          40.669339,
          40.669387,
          40.669567,
          40.669629,
          40.669719,
          40.6701,
          40.670349,
          40.670724,
          40.670764,
          40.670986,
          40.67124,
          40.67146,
          40.671544,
          40.671561,
          40.671987,
          40.672005,
          40.672015,
          40.672462,
          40.672579,
          40.672713,
          40.672727,
          40.672762,
          40.67282,
          40.673069,
          40.673073,
          40.673769,
          40.674103,
          40.674135,
          40.67438,
          40.674406,
          40.674519,
          40.674656,
          40.674794,
          40.674831,
          40.674991,
          40.675024,
          40.675612,
          40.675633,
          40.675766,
          40.675771,
          40.67588,
          40.676094,
          40.676094,
          40.676129,
          40.67634,
          40.67641,
          40.676513,
          40.676668,
          40.676774,
          40.677104,
          40.67715,
          40.677343,
          40.677415,
          40.677564,
          40.677697,
          40.677805,
          40.67789,
          40.677969,
          40.678049,
          40.6781,
          40.678276,
          40.678296,
          40.678297,
          40.678488,
          40.678983,
          40.679097,
          40.67944,
          40.67956,
          40.679584,
          40.679639,
          40.679984,
          40.68007,
          40.680149,
          40.68031,
          40.680318,
          40.680428,
          40.680445,
          40.680463,
          40.680727,
          40.681172,
          40.681268,
          40.681572,
          40.68173,
          40.681896,
          40.682114,
          40.682458,
          40.682533,
          40.68259,
          40.682663,
          40.683104,
          40.683241,
          40.683559,
          40.683858,
          40.68405,
          40.684142,
          40.684524,
          40.685004,
          40.68505,
          40.685264,
          40.68538,
          40.685419,
          40.685491,
          40.685492,
          40.685695,
          40.68588,
          40.686076,
          40.68618,
          40.686208,
          40.686499,
          40.686592,
          40.686746,
          40.686798,
          40.686951,
          40.687145,
          40.687257,
          40.687466,
          40.688103,
          40.68832,
          40.688387,
          40.688419,
          40.68867,
          40.688695,
          40.688811,
          40.688831,
          40.688834,
          40.689591,
          40.689697,
          40.689842,
          40.690145,
          40.690202,
          40.690353,
          40.690725,
          40.690765,
          40.690798,
          40.690828,
          40.691037,
          40.691077,
          40.691146,
          40.691274,
          40.691712,
          40.691765,
          40.692126,
          40.692179,
          40.692642,
          40.693006,
          40.693018,
          40.693161,
          40.693293,
          40.693313,
          40.693518,
          40.693606,
          40.693879,
          40.694004,
          40.694018,
          40.69407,
          40.694086,
          40.694125,
          40.694507,
          40.694518,
          40.694633,
          40.694682,
          40.694921,
          40.694926,
          40.695056,
          40.695238,
          40.695332,
          40.695362,
          40.695417,
          40.695633,
          40.695888,
          40.696324,
          40.696556,
          40.696733,
          40.69697,
          40.697033,
          40.697152,
          40.69719,
          40.697309,
          40.697339,
          40.69737,
          40.697779,
          40.697781,
          40.697781,
          40.697819,
          40.697836,
          40.697901,
          40.697961,
          40.698021,
          40.698279,
          40.698476,
          40.698869,
          40.699015,
          40.699149,
          40.69919,
          40.699516,
          40.700606,
          40.70069,
          40.70071,
          40.700774,
          40.700911,
          40.701049,
          40.701343,
          40.701692,
          40.701695,
          40.702392,
          40.702427,
          40.7025,
          40.70284,
          40.70292,
          40.703585,
          40.703624,
          40.703661,
          40.703765,
          40.703767,
          40.703779,
          40.704072,
          40.704406,
          40.704487,
          40.705204,
          40.705516,
          40.70568,
          40.705898,
          40.706023,
          40.706041,
          40.70643,
          40.70644,
          40.70646,
          40.707104,
          40.707121,
          40.707229,
          40.707527,
          40.707537,
          40.70799,
          40.70848,
          40.708723,
          40.70873,
          40.708898,
          40.709196,
          40.709446,
          40.709463,
          40.709647,
          40.709674,
          40.709941,
          40.710024,
          40.710609,
          40.710624,
          40.710729,
          40.711033,
          40.711203,
          40.711313,
          40.711367,
          40.711419,
          40.711442,
          40.711549,
          40.711704,
          40.711753,
          40.711815,
          40.711849,
          40.712184,
          40.712399,
          40.71276,
          40.713022,
          40.713094,
          40.713218,
          40.713273,
          40.713684,
          40.713759,
          40.713814,
          40.714201,
          40.71457,
          40.71466,
          40.714785,
          40.714978,
          40.715073,
          40.715344,
          40.715351,
          40.715389,
          40.715585,
          40.715905,
          40.715915,
          40.71602,
          40.716553,
          40.716609,
          40.716617,
          40.716668,
          40.716778,
          40.71759,
          40.718219,
          40.718383,
          40.718831,
          40.718895,
          40.718903,
          40.718935,
          40.719029,
          40.71925,
          40.719598,
          40.719819,
          40.719867,
          40.720154,
          40.720359,
          40.720581,
          40.720619,
          40.720713,
          40.720924,
          40.720924,
          40.72154,
          40.721807,
          40.721981,
          40.72252,
          40.722707,
          40.722782,
          40.723897,
          40.724117,
          40.72438,
          40.7244,
          40.724458,
          40.724479,
          40.725098,
          40.725603,
          40.725725,
          40.726135,
          40.726473,
          40.726587,
          40.726769,
          40.727134,
          40.727892,
          40.72814,
          40.728677,
          40.728735,
          40.729215,
          40.729402,
          40.729412,
          40.729589,
          40.729636,
          40.729741,
          40.729939,
          40.730038,
          40.730941,
          40.731369,
          40.731729,
          40.732112,
          40.732289,
          40.732447,
          40.732593,
          40.732716,
          40.733066,
          40.733514,
          40.734294,
          40.734318,
          40.73439,
          40.734572,
          40.734642,
          40.735161,
          40.735275,
          40.735494,
          40.735609,
          40.735692,
          40.736003,
          40.736094,
          40.736177,
          40.736518,
          40.736524,
          40.736653,
          40.73679,
          40.736922,
          40.737427,
          40.737517,
          40.737613,
          40.737678,
          40.737718,
          40.738139,
          40.738548,
          40.73859,
          40.738952,
          40.739115,
          40.739178,
          40.739246,
          40.739483,
          40.740088,
          40.74056,
          40.740565,
          40.740724,
          40.741122,
          40.741131,
          40.741497,
          40.741657,
          40.741803,
          40.74193,
          40.741944,
          40.742129,
          40.742205,
          40.742572,
          40.742633,
          40.742668,
          40.742839,
          40.742867,
          40.742956,
          40.743509,
          40.74373,
          40.74391,
          40.744099,
          40.74428,
          40.744349,
          40.744412,
          40.744753,
          40.744838,
          40.745095,
          40.745156,
          40.745201,
          40.745244,
          40.745526,
          40.745537,
          40.745923,
          40.745948,
          40.746088,
          40.746176,
          40.746202,
          40.746231,
          40.746352,
          40.747126,
          40.747621,
          40.747747,
          40.748701,
          40.748818,
          40.748838,
          40.748987,
          40.749036,
          40.749266,
          40.749381,
          40.749545,
          40.750007,
          40.750172,
          40.751331,
          40.751356,
          40.75146,
          40.752333,
          40.75278,
          40.752866,
          40.753037,
          40.753078,
          40.753091,
          40.754201,
          40.754241,
          40.754654,
          40.754661,
          40.754837,
          40.755366,
          40.755418,
          40.755451,
          40.755843,
          40.756013,
          40.756139,
          40.756534,
          40.756778,
          40.756891,
          40.757064,
          40.757065,
          40.757309,
          40.75747,
          40.757499,
          40.757729,
          40.75788,
          40.75823,
          40.758377,
          40.758408,
          40.758689,
          40.758831,
          40.75924,
          40.759363,
          40.759404,
          40.759517,
          40.759844,
          40.760852,
          40.761249,
          40.761448,
          40.761479,
          40.761565,
          40.762103,
          40.762708,
          40.76337,
          40.763736,
          40.763842,
          40.763866,
          40.763894,
          40.764646,
          40.764763,
          40.765133,
          40.765162,
          40.765166,
          40.765184,
          40.765359,
          40.765826,
          40.765878,
          40.766264,
          40.766792,
          40.767305,
          40.767791,
          40.768343,
          40.768985,
          40.769271,
          40.76936,
          40.769601,
          40.770187,
          40.770335,
          40.770387,
          40.770419,
          40.771186,
          40.771215,
          40.771265,
          40.771336,
          40.771512,
          40.771755,
          40.771925,
          40.772007,
          40.77205,
          40.772863,
          40.773629,
          40.774351,
          40.774512,
          40.774919,
          40.775078,
          40.775253,
          40.775589,
          40.777455,
          40.777911,
          40.778059,
          40.778095,
          40.778601,
          40.780347,
          40.780706,
          40.780763,
          40.780822,
          40.781227,
          40.781958,
          40.782298,
          40.783608,
          40.783625,
          40.78365,
          40.784826,
          40.785258,
          40.785287,
          40.785671,
          40.785803,
          40.785909,
          40.786616,
          40.788865,
          40.788952,
          40.789295,
          40.789526,
          40.790543,
          40.790638,
          40.790976,
          40.791179,
          40.791728,
          40.791881,
          40.792122,
          40.792483,
          40.792741,
          40.79307,
          40.793194,
          40.793763,
          40.793856,
          40.794264,
          40.794872,
          40.795146,
          40.795157,
          40.79564,
          40.796668,
          40.797302,
          40.797467,
          40.797559,
          40.797577,
          40.797874,
          40.798511,
          40.798884,
          40.799178,
          40.800119,
          40.800256,
          40.801007,
          40.801689,
          40.802136,
          40.802207,
          40.802419,
          40.802917,
          40.805953,
          40.8063,
          40.806351,
          40.806768,
          40.807335,
          40.807383,
          40.807843,
          40.807987,
          40.808034,
          40.80937,
          40.809534,
          40.809672,
          40.81004,
          40.810085,
          40.81027,
          40.810431,
          40.810511,
          40.810803,
          40.810928,
          40.811162,
          40.81242,
          40.812619,
          40.813184,
          40.813517,
          40.813641,
          40.813728,
          40.813983,
          40.814031,
          40.814422,
          40.814425,
          40.814637,
          40.814833,
          40.814916,
          40.815016,
          40.815256,
          40.815429,
          40.815458,
          40.815477,
          40.815498,
          40.815509,
          40.815878,
          40.815938,
          40.816406,
          40.816532,
          40.816693,
          40.817372,
          40.817512,
          40.81755,
          40.817721,
          40.818188,
          40.818228,
          40.818232,
          40.81825,
          40.818467,
          40.818816,
          40.818874,
          40.819258,
          40.819572,
          40.819767,
          40.820403,
          40.820579,
          40.82074,
          40.820953,
          40.821146,
          40.821409,
          40.821515,
          40.821535,
          40.821675,
          40.821776,
          40.82229,
          40.82231,
          40.822443,
          40.822474,
          40.822604,
          40.822665,
          40.822719,
          40.82316,
          40.823174,
          40.823289,
          40.823526,
          40.823532,
          40.824054,
          40.824319,
          40.824495,
          40.825025,
          40.825403,
          40.826126,
          40.826295,
          40.82636,
          40.826526,
          40.827304,
          40.827315,
          40.827471,
          40.827607,
          40.827642,
          40.827743,
          40.827941,
          40.828419,
          40.828498,
          40.828518,
          40.828696,
          40.829232,
          40.829344,
          40.829832,
          40.830589,
          40.830691,
          40.83087,
          40.830995,
          40.831165,
          40.831227,
          40.83132,
          40.831416,
          40.831601,
          40.83182,
          40.831827,
          40.831992,
          40.832117,
          40.832706,
          40.832866,
          40.832902,
          40.833131,
          40.833511,
          40.833665,
          40.833687,
          40.834157,
          40.834749,
          40.834782,
          40.834899,
          40.835286,
          40.835779,
          40.835784,
          40.835847,
          40.8359,
          40.836356,
          40.836404,
          40.836536,
          40.836575,
          40.837275,
          40.837524,
          40.837631,
          40.837931,
          40.838224,
          40.838288,
          40.838954,
          40.839244,
          40.839305,
          40.839378,
          40.839565,
          40.840096,
          40.840145,
          40.840422,
          40.840702,
          40.840755,
          40.840878,
          40.840891,
          40.841321,
          40.841794,
          40.842084,
          40.842289,
          40.842495,
          40.842943,
          40.843546,
          40.843588,
          40.843873,
          40.843945,
          40.844253,
          40.844316,
          40.84473,
          40.844958,
          40.845469,
          40.845787,
          40.845878,
          40.846162,
          40.846236,
          40.846542,
          40.846711,
          40.848057,
          40.848339,
          40.848472,
          40.848516,
          40.8486,
          40.848899,
          40.848908,
          40.849395,
          40.849623,
          40.849897,
          40.85051,
          40.850561,
          40.850626,
          40.850666,
          40.851405,
          40.851414,
          40.851741,
          40.851823,
          40.852103,
          40.852398,
          40.852536,
          40.852631,
          40.852774,
          40.85294,
          40.853466,
          40.854415,
          40.854432,
          40.854493,
          40.854701,
          40.854726,
          40.854872,
          40.855263,
          40.855639,
          40.855698,
          40.855954,
          40.856586,
          40.856693,
          40.856723,
          40.857067,
          40.857801,
          40.857842,
          40.858103,
          40.85881,
          40.858815,
          40.85899,
          40.859034,
          40.8591,
          40.859243,
          40.859665,
          40.859686,
          40.859752,
          40.860043,
          40.860412,
          40.86079,
          40.861371,
          40.861668,
          40.86185,
          40.862109,
          40.862839,
          40.863055,
          40.863735,
          40.864527,
          40.864676,
          40.8654,
          40.865593,
          40.866053,
          40.86608,
          40.866706,
          40.866827,
          40.867826,
          40.869007,
          40.869296,
          40.869593,
          40.869835,
          40.870002,
          40.870293,
          40.871245,
          40.871278,
          40.872551,
          40.872612,
          40.872614,
          40.872895,
          40.87302,
          40.873938,
          40.874091,
          40.874313,
          40.874411,
          40.875156,
          40.87529,
          40.875894,
          40.875911,
          40.875953,
          40.877105,
          40.877202,
          40.87759,
          40.878322,
          40.878577,
          40.879368,
          40.880263,
          40.880522,
          40.880873,
          40.881066,
          40.881153,
          40.882178,
          40.882898,
          40.883025,
          40.883026,
          40.884343,
          40.884953,
          40.885008,
          40.885116,
          40.887111,
          40.887582,
          40.887831,
          40.888338,
          40.891732,
          40.892151,
          40.895104,
          40.899295,
          40.902205,
          40.903553
         ],
         "lon": [
          -74.243428,
          -74.222403,
          -74.244118,
          -74.231109,
          -74.211264,
          -74.185941,
          -74.192032,
          -74.187635,
          -74.163815,
          -74.214002,
          -74.182299,
          -74.197897,
          -74.14632,
          -74.151755,
          -74.169464,
          -74.13706,
          -74.194597,
          -74.155356,
          -74.124622,
          -74.150885,
          -74.115373,
          -74.107737,
          -74.132634,
          -74.109282,
          -73.99194,
          -73.996292,
          -74.101624,
          -74.100726,
          -73.985953,
          -74.000194,
          -73.971313,
          -73.969517,
          -73.99203,
          -73.979628,
          -73.854403,
          -73.943819,
          -73.962071,
          -73.956329,
          -73.935952,
          -73.831836,
          -74.158589,
          -73.967308,
          -73.973122,
          -73.973132,
          -73.963477,
          -74.088509,
          -73.954037,
          -74.161862,
          -73.825711,
          -73.822624,
          -73.96198,
          -73.985948,
          -73.940532,
          -73.981738,
          -73.98131,
          -73.805361,
          -73.951753,
          -73.969964,
          -74.097722,
          -73.9391,
          -74.156705,
          -74.190648,
          -74.158988,
          -73.937672,
          -74.08058,
          -73.767199,
          -73.76174,
          -73.786182,
          -73.937696,
          -73.98577,
          -73.795304,
          -73.993457,
          -73.97518,
          -73.781876,
          -73.928793,
          -73.933499,
          -74.124227,
          -73.948946,
          -74.071529,
          -73.991693,
          -73.758206,
          -73.743968,
          -73.976953,
          -73.986139,
          -73.959779,
          -73.762795,
          -73.970013,
          -74.091355,
          -74.001408,
          -74.137981,
          -74.091237,
          -73.749097,
          -73.955485,
          -73.955528,
          -73.995545,
          -73.994404,
          -73.820445,
          -73.939176,
          -74.00806,
          -74.007199,
          -73.7494,
          -73.986595,
          -73.984661,
          -73.764548,
          -74.102078,
          -73.974847,
          -73.965058,
          -73.948512,
          -74.162216,
          -74.087379,
          -74.013376,
          -73.994677,
          -74.083177,
          -73.986713,
          -73.951906,
          -74.069889,
          -74.003404,
          -73.938871,
          -73.930129,
          -74.115988,
          -74.099626,
          -73.912167,
          -74.006638,
          -73.97635,
          -73.987149,
          -73.912989,
          -73.963476,
          -74.028842,
          -74.132645,
          -74.012722,
          -74.000792,
          -74.081643,
          -73.981795,
          -73.959285,
          -74.077266,
          -74.164277,
          -74.03015,
          -73.91287,
          -73.908987,
          -73.925989,
          -73.950473,
          -73.965595,
          -73.987396,
          -73.995022,
          -74.078508,
          -74.14497,
          -73.978822,
          -73.946279,
          -74.033779,
          -74.018826,
          -74.005378,
          -74.15097,
          -73.938265,
          -74.01512,
          -73.989672,
          -74.004485,
          -74.040046,
          -74.116997,
          -74.107148,
          -73.92793,
          -73.979995,
          -74.01913,
          -74.127101,
          -74.144297,
          -74.156439,
          -73.973898,
          -74.009223,
          -74.007645,
          -73.924417,
          -73.954724,
          -74.00374,
          -73.954655,
          -73.952929,
          -73.916735,
          -74.023948,
          -73.966558,
          -74.097826,
          -74.029036,
          -74.078611,
          -73.907925,
          -74.141818,
          -73.981528,
          -73.897262,
          -73.91079,
          -73.886412,
          -73.933582,
          -74.117509,
          -74.132919,
          -73.937339,
          -74.023849,
          -73.999215,
          -73.985955,
          -73.948159,
          -73.971651,
          -74.079922,
          -74.01976,
          -74.079141,
          -73.947253,
          -73.977642,
          -74.000731,
          -74.095378,
          -73.993482,
          -73.898254,
          -74.085135,
          -73.965523,
          -73.931151,
          -74.018997,
          -73.908806,
          -74.07873,
          -73.992948,
          -73.896212,
          -74.008252,
          -73.922732,
          -73.892264,
          -74.081222,
          -73.963208,
          -73.980761,
          -73.8989,
          -73.881671,
          -74.001903,
          -73.878441,
          -73.920977,
          -73.881114,
          -73.892022,
          -74.083406,
          -73.951891,
          -73.946374,
          -73.925948,
          -73.957138,
          -73.952821,
          -73.922171,
          -73.907774,
          -73.975607,
          -74.012289,
          -73.971736,
          -73.966046,
          -73.95855,
          -74.008105,
          -73.91402,
          -74.006862,
          -74.004743,
          -73.736395,
          -73.933114,
          -73.894854,
          -74.005889,
          -73.941089,
          -74.005197,
          -73.886547,
          -73.953742,
          -73.907245,
          -73.753207,
          -73.951583,
          -73.983115,
          -73.928018,
          -73.888852,
          -73.911053,
          -73.874756,
          -73.97618,
          -74.000652,
          -73.879354,
          -73.844432,
          -73.920109,
          -73.929076,
          -73.942458,
          -73.94629,
          -73.920368,
          -73.922919,
          -73.735176,
          -73.835068,
          -73.904901,
          -73.987637,
          -73.885387,
          -73.887023,
          -73.913933,
          -73.907355,
          -73.890288,
          -73.988297,
          -73.986534,
          -73.886942,
          -73.766733,
          -73.93994,
          -73.894441,
          -73.936382,
          -73.981289,
          -73.926959,
          -73.893754,
          -73.936049,
          -73.94922,
          -73.866092,
          -73.760249,
          -73.758748,
          -73.959031,
          -73.811701,
          -73.926246,
          -73.897723,
          -73.911705,
          -73.851216,
          -73.918107,
          -73.949013,
          -73.876563,
          -73.924057,
          -73.910904,
          -73.951167,
          -73.908214,
          -73.894747,
          -73.991046,
          -73.897835,
          -73.756839,
          -73.912351,
          -73.911499,
          -73.983195,
          -73.904726,
          -73.934635,
          -73.960675,
          -73.879614,
          -73.961962,
          -73.979287,
          -73.892822,
          -73.954972,
          -73.961695,
          -73.874208,
          -73.987787,
          -73.908194,
          -73.845141,
          -73.977783,
          -73.892844,
          -73.734043,
          -73.893896,
          -73.924329,
          -73.983947,
          -73.906552,
          -73.884803,
          -73.936924,
          -73.788164,
          -73.927973,
          -73.769252,
          -73.743173,
          -73.919594,
          -73.775951,
          -73.913273,
          -73.89643,
          -73.951443,
          -73.960254,
          -73.789399,
          -73.927794,
          -73.942639,
          -73.736713,
          -73.808371,
          -73.915778,
          -73.938843,
          -73.783342,
          -73.869469,
          -73.816938,
          -73.758505,
          -73.97038,
          -73.935688,
          -73.880337,
          -73.977367,
          -73.846773,
          -73.863151,
          -73.985258,
          -73.960058,
          -73.883433,
          -73.903953,
          -74.011558,
          -73.908734,
          -74.005166,
          -73.886936,
          -73.915843,
          -73.889758,
          -74.014363,
          -73.92032,
          -73.839948,
          -73.87596,
          -73.79562,
          -73.965541,
          -73.962105,
          -73.976497,
          -73.94684,
          -73.932407,
          -73.8106,
          -73.831547,
          -73.837298,
          -73.822078,
          -74.001377,
          -73.994938,
          -73.774432,
          -73.910644,
          -73.980491,
          -73.991949,
          -73.922264,
          -73.926597,
          -73.856918,
          -73.884063,
          -73.945446,
          -73.753429,
          -73.935963,
          -73.74992,
          -73.917088,
          -73.968769,
          -73.841202,
          -73.955338,
          -73.850121,
          -73.930813,
          -73.98027,
          -73.84747,
          -73.815834,
          -73.801479,
          -73.990993,
          -73.947152,
          -73.960659,
          -73.982639,
          -73.954302,
          -73.993351,
          -73.966291,
          -73.729982,
          -73.922463,
          -73.757319,
          -73.945229,
          -73.869625,
          -73.784144,
          -73.979649,
          -73.940747,
          -73.910693,
          -73.781247,
          -73.99806,
          -73.878547,
          -73.983579,
          -73.988288,
          -73.800415,
          -73.932275,
          -73.910276,
          -73.924833,
          -73.836205,
          -73.935499,
          -73.971009,
          -73.920906,
          -73.976905,
          -73.840717,
          -73.873109,
          -73.925506,
          -73.989132,
          -73.961478,
          -73.904803,
          -73.950433,
          -73.971376,
          -73.821657,
          -73.763907,
          -73.941342,
          -73.918152,
          -73.868328,
          -73.933697,
          -73.778923,
          -73.849006,
          -73.931731,
          -73.852636,
          -73.958794,
          -73.829407,
          -73.953034,
          -73.935765,
          -73.90864,
          -73.920666,
          -73.796727,
          -73.844631,
          -73.913056,
          -73.816617,
          -73.915263,
          -73.94756,
          -73.940744,
          -73.790675,
          -73.929107,
          -73.859659,
          -73.971165,
          -73.988853,
          -73.927931,
          -73.986015,
          -73.92814,
          -73.807364,
          -73.969243,
          -73.915142,
          -73.959571,
          -73.978215,
          -73.833681,
          -73.97578,
          -73.897405,
          -73.943652,
          -73.910791,
          -73.839213,
          -73.946641,
          -73.787192,
          -73.740948,
          -73.985016,
          -73.913171,
          -73.916521,
          -73.947809,
          -73.919777,
          -73.745728,
          -73.846558,
          -73.98054,
          -73.84796,
          -73.920711,
          -73.752654,
          -73.905556,
          -73.945042,
          -73.832356,
          -73.903799,
          -73.835299,
          -73.90214,
          -73.782302,
          -73.927481,
          -73.993241,
          -73.91748,
          -73.938884,
          -73.798151,
          -73.982314,
          -73.932338,
          -74.011631,
          -73.941801,
          -73.952985,
          -73.948869,
          -73.808352,
          -73.824221,
          -73.765838,
          -73.953146,
          -73.885107,
          -73.912344,
          -73.922702,
          -73.896374,
          -73.811771,
          -73.875183,
          -74.011556,
          -73.939407,
          -73.862208,
          -74.013302,
          -73.955611,
          -73.961476,
          -73.902584,
          -73.803444,
          -74.017818,
          -73.753579,
          -73.945475,
          -73.914998,
          -73.919805,
          -73.806412,
          -73.785626,
          -73.755269,
          -73.800065,
          -73.940002,
          -74.012332,
          -73.803938,
          -74.012022,
          -73.80166,
          -73.813376,
          -73.95465,
          -73.954217,
          -73.943641,
          -73.812508,
          -73.946977,
          -73.783423,
          -73.996631,
          -73.908814,
          -73.905286,
          -74.005472,
          -73.856698,
          -73.828628,
          -74.000851,
          -73.986542,
          -73.960275,
          -73.736624,
          -73.871238,
          -73.771195,
          -73.939722,
          -73.984497,
          -73.997489,
          -73.908306,
          -73.780468,
          -73.797237,
          -73.991339,
          -73.986336,
          -73.769439,
          -74.00557,
          -73.995087,
          -73.983724,
          -73.946108,
          -73.963,
          -73.853372,
          -73.954754,
          -73.886215,
          -73.956716,
          -73.800369,
          -73.843898,
          -73.990895,
          -73.979893,
          -74.011035,
          -73.993092,
          -73.903669,
          -73.794637,
          -74.013542,
          -73.989337,
          -74.013748,
          -74.010519,
          -73.984452,
          -73.806499,
          -73.979308,
          -73.998438,
          -73.912208,
          -73.975891,
          -73.983056,
          -73.977904,
          -73.948625,
          -73.875093,
          -73.757367,
          -73.819792,
          -73.985645,
          -73.731997,
          -73.747001,
          -73.86135,
          -73.823362,
          -73.986648,
          -73.979022,
          -73.953281,
          -73.990728,
          -73.851699,
          -73.837946,
          -73.942312,
          -73.986381,
          -73.98138,
          -74.004625,
          -73.810216,
          -73.777454,
          -73.845091,
          -73.810697,
          -73.9883,
          -73.949649,
          -73.975181,
          -73.95427,
          -73.806894,
          -73.735077,
          -73.978525,
          -73.863582,
          -74.005993,
          -73.890699,
          -73.893624,
          -73.845637,
          -74.006148,
          -73.982555,
          -73.983818,
          -73.818446,
          -73.887482,
          -73.992632,
          -73.853164,
          -73.805116,
          -73.717859,
          -73.73246,
          -73.853825,
          -73.983031,
          -74.006466,
          -73.984665,
          -73.738756,
          -73.877857,
          -73.897557,
          -73.709137,
          -73.821392,
          -73.795484,
          -73.860737,
          -73.982027,
          -73.823778,
          -73.987659,
          -73.878535,
          -73.999026,
          -73.867478,
          -73.980663,
          -73.753159,
          -73.994858,
          -73.851455,
          -73.813346,
          -73.887438,
          -73.77799,
          -73.853178,
          -73.794031,
          -73.86851,
          -73.756791,
          -73.887429,
          -73.824944,
          -73.982455,
          -73.989911,
          -73.985479,
          -73.882487,
          -73.9955,
          -73.822057,
          -73.928904,
          -73.926214,
          -73.854131,
          -73.809131,
          -73.79283,
          -73.874721,
          -73.918945,
          -73.991512,
          -73.999307,
          -73.779634,
          -73.986521,
          -73.712965,
          -74.002198,
          -73.928219,
          -73.922603,
          -73.892805,
          -73.863307,
          -73.936782,
          -74.002136,
          -73.959196,
          -73.929076,
          -73.870642,
          -73.788133,
          -73.709845,
          -73.972591,
          -74.000253,
          -73.93364,
          -73.957971,
          -73.978116,
          -73.936635,
          -73.996074,
          -73.767446,
          -73.90872,
          -73.829309,
          -73.923776,
          -73.880205,
          -73.727456,
          -73.727535,
          -73.981241,
          -73.758752,
          -73.727614,
          -73.727657,
          -73.854824,
          -73.990454,
          -73.745747,
          -73.94638,
          -73.999646,
          -73.865161,
          -73.86123,
          -73.777213,
          -73.888817,
          -73.867354,
          -73.822073,
          -73.721607,
          -73.880363,
          -73.937434,
          -73.937445,
          -73.817849,
          -73.75599,
          -73.707418,
          -73.893193,
          -73.900123,
          -73.884906,
          -73.99764,
          -73.760636,
          -73.873769,
          -73.826759,
          -73.887112,
          -73.874605,
          -73.927169,
          -73.869017,
          -73.855192,
          -73.984382,
          -73.799706,
          -73.772862,
          -73.925121,
          -73.729487,
          -73.934523,
          -73.770122,
          -73.932664,
          -73.926733,
          -73.875279,
          -73.908898,
          -73.983078,
          -73.859201,
          -73.910514,
          -73.879089,
          -73.874472,
          -73.824832,
          -73.93938,
          -73.967203,
          -73.912902,
          -73.731299,
          -73.784029,
          -73.820548,
          -73.941143,
          -73.811808,
          -73.988019,
          -73.995823,
          -73.872242,
          -73.914227,
          -73.733694,
          -73.990593,
          -73.95815,
          -73.964222,
          -73.985939,
          -73.947916,
          -73.871641,
          -73.794683,
          -73.790083,
          -73.8288,
          -73.82789,
          -73.992953,
          -73.960059,
          -73.9328,
          -73.988823,
          -73.930709,
          -73.922589,
          -73.923246,
          -73.987531,
          -73.989108,
          -73.922428,
          -73.749369,
          -73.783943,
          -73.770863,
          -73.953608,
          -73.894476,
          -73.828617,
          -73.951135,
          -73.739252,
          -73.924591,
          -73.831525,
          -73.929086,
          -73.90633,
          -73.780296,
          -73.987328,
          -73.987479,
          -73.958066,
          -73.914708,
          -73.985273,
          -73.984753,
          -73.819284,
          -73.982745,
          -73.953096,
          -73.819347,
          -73.90509,
          -73.960713,
          -73.947757,
          -73.984449,
          -73.800163,
          -73.843187,
          -73.916655,
          -73.948553,
          -73.94869,
          -73.976855,
          -73.955673,
          -73.977638,
          -73.779099,
          -73.794654,
          -73.945637,
          -73.807838,
          -73.949611,
          -73.941526,
          -73.97343,
          -73.942548,
          -73.974614,
          -73.818058,
          -73.979507,
          -73.971847,
          -73.944538,
          -73.939262,
          -73.967574,
          -73.944356,
          -73.839771,
          -73.884374,
          -73.947776,
          -73.970845,
          -73.946558,
          -73.951961,
          -73.809741,
          -73.947428,
          -73.942303,
          -73.942548,
          -73.949381,
          -73.934028,
          -73.968706,
          -73.938719,
          -73.948368,
          -73.973292,
          -73.94441,
          -73.930966,
          -73.936365,
          -73.930868,
          -73.966837,
          -73.94128,
          -73.949699,
          -73.949251,
          -73.933319,
          -73.964842,
          -73.962837,
          -73.937558,
          -73.939349,
          -73.954908,
          -73.947828,
          -73.954142,
          -73.942634,
          -73.965613,
          -73.935179,
          -73.948013,
          -73.921196,
          -73.951061,
          -73.912731,
          -73.939433,
          -73.955569,
          -73.940061,
          -73.926204,
          -73.917584,
          -73.919903,
          -73.939872,
          -73.917792,
          -73.923102,
          -73.957482,
          -73.955809,
          -73.955997,
          -73.907015,
          -73.948938,
          -73.909804,
          -73.953315,
          -73.906063,
          -73.937322,
          -73.913402,
          -73.925313,
          -73.908886,
          -73.920782,
          -73.900609,
          -73.943664,
          -73.886953,
          -73.951912,
          -73.85658,
          -73.905518,
          -73.945123,
          -73.955325,
          -73.902139,
          -73.952908,
          -73.88577,
          -73.91224,
          -73.944202,
          -73.914404,
          -73.930386,
          -73.92329,
          -73.911747,
          -73.860904,
          -73.947712,
          -73.898212,
          -73.953041,
          -73.902421,
          -73.950356,
          -73.856302,
          -73.919867,
          -73.91103,
          -73.868372,
          -73.91901,
          -73.905927,
          -73.908553,
          -73.957823,
          -73.944433,
          -73.898912,
          -73.893128,
          -73.949097,
          -73.951145,
          -73.881479,
          -73.862976,
          -73.917279,
          -73.940941,
          -73.903546,
          -73.876918,
          -73.856167,
          -73.923829,
          -73.893902,
          -73.907194,
          -73.818247,
          -73.853366,
          -73.889435,
          -73.921631,
          -73.923326,
          -73.907948,
          -73.859662,
          -73.898872,
          -73.880039,
          -73.93712,
          -73.936997,
          -73.906143,
          -73.873666,
          -73.937982,
          -73.946845,
          -73.894398,
          -73.818417,
          -73.91767,
          -73.897612,
          -73.829753,
          -73.918681,
          -73.904473,
          -73.900105,
          -73.914374,
          -73.900721,
          -73.945239,
          -73.856569,
          -73.917668,
          -73.856734,
          -73.850428,
          -73.944789,
          -73.887587,
          -73.877743,
          -73.88626,
          -73.902705,
          -73.887094,
          -73.942143,
          -73.894794,
          -73.877785,
          -73.878912,
          -73.898075,
          -73.906607,
          -73.91796,
          -73.82749,
          -73.926838,
          -73.911418,
          -73.866848,
          -73.914027,
          -73.90449,
          -73.902499,
          -73.942072,
          -73.887512,
          -73.923081,
          -73.846632,
          -73.941085,
          -73.900751,
          -73.825735,
          -73.928324,
          -73.920026,
          -73.890458,
          -73.888361,
          -73.905014,
          -73.937159,
          -73.892817,
          -73.913574,
          -73.8548,
          -73.866036,
          -73.853524,
          -73.927891,
          -73.902987,
          -73.936838,
          -73.901316,
          -73.936159,
          -73.925714,
          -73.880358,
          -73.915569,
          -73.844419,
          -73.91091,
          -73.838545,
          -73.881707,
          -73.904754,
          -73.898166,
          -73.938506,
          -73.875366,
          -73.891116,
          -73.838949,
          -73.916082,
          -73.920563,
          -73.889755,
          -73.903236,
          -73.785219,
          -73.884788,
          -73.907616,
          -73.913604,
          -73.858207,
          -73.89705,
          -73.940468,
          -73.829829,
          -73.886184,
          -73.899264,
          -73.887405,
          -73.935205,
          -73.889815,
          -73.903522,
          -73.89308,
          -73.888561,
          -73.908427,
          -73.893654,
          -73.909528,
          -73.930948,
          -73.859249,
          -73.91607,
          -73.892289,
          -73.934485,
          -73.883743,
          -73.934377,
          -73.886996,
          -73.865036,
          -73.918533,
          -73.898493,
          -73.91118,
          -73.885935,
          -73.866617,
          -73.921467,
          -73.927604,
          -73.893524,
          -73.894742,
          -73.934048,
          -73.863732,
          -73.905566,
          -73.896717,
          -73.913197,
          -73.853227,
          -73.903458,
          -73.881139,
          -73.892804,
          -73.882715,
          -73.927051,
          -73.916198,
          -73.937093,
          -73.897885,
          -73.898936,
          -73.9351,
          -73.904202,
          -73.907972,
          -73.909746,
          -73.890232,
          -73.922894,
          -73.886913,
          -73.894946,
          -73.927792,
          -73.861006,
          -73.906495,
          -73.900161,
          -73.888267,
          -73.927936,
          -73.930672,
          -73.869296,
          -73.891337,
          -73.90176,
          -73.864577,
          -73.846791,
          -73.859387,
          -73.83607,
          -73.887829,
          -73.824303,
          -73.921101,
          -73.894758,
          -73.924835,
          -73.850982,
          -73.923948,
          -73.890725,
          -73.917059,
          -73.89749,
          -73.901525,
          -73.861282,
          -73.89874,
          -73.878875,
          -73.898309,
          -73.912141,
          -73.911516,
          -73.875374,
          -73.883574,
          -73.833698,
          -73.905244,
          -73.833776,
          -73.895382,
          -73.833904,
          -73.868157,
          -73.902573,
          -73.875217,
          -73.833912,
          -73.833863,
          -73.901099,
          -73.86197,
          -73.912256,
          -73.881773,
          -73.89104,
          -73.906556,
          -73.851163,
          -73.909896,
          -73.910466,
          -73.87572,
          -73.860904,
          -73.905366,
          -73.839755,
          -73.88691,
          -73.891256,
          -73.830366,
          -73.833227,
          -73.840254,
          -73.840524,
          -73.843193,
          -73.877679,
          -73.913697,
          -73.859733,
          -73.852694,
          -73.913486,
          -73.838471,
          -73.861466,
          -73.845968,
          -73.8675,
          -73.854829,
          -73.905229
         ],
         "name": "",
         "radius": 10,
         "subplot": "mapbox",
         "z": [
          1.0,
          2.0,
          2.0,
          1.0,
          1.0,
          2.0,
          24.0,
          2.0,
          0.0,
          0.0,
          0.0,
          1.0,
          1.0,
          1.0,
          2.0,
          2.0,
          0.0,
          0.0,
          1.0,
          0.0,
          0.0,
          23.0,
          1.0,
          2.0,
          2.0,
          4.0,
          2.0,
          0.0,
          4.0,
          3.0,
          0.0,
          0.0,
          1.0,
          3.0,
          0.0,
          3.0,
          0.0,
          4.0,
          0.0,
          1.0,
          5.0,
          10.0,
          0.0,
          11.0,
          9.0,
          1.0,
          1.0,
          1.0,
          2.0,
          23.0,
          0.0,
          0.0,
          0.0,
          12.0,
          1.0,
          1.0,
          0.0,
          1.0,
          2.0,
          6.0,
          0.0,
          1.0,
          3.0,
          8.0,
          3.0,
          3.0,
          7.0,
          0.0,
          24.0,
          20.0,
          5.0,
          5.0,
          3.0,
          4.0,
          1.0,
          2.0,
          24.0,
          3.0,
          3.0,
          1.0,
          0.0,
          2.0,
          0.0,
          1.0,
          0.0,
          7.0,
          3.0,
          1.0,
          1.0,
          1.0,
          1.0,
          4.0,
          5.0,
          0.0,
          0.0,
          1.0,
          0.0,
          4.0,
          0.0,
          1.0,
          0.0,
          0.0,
          3.0,
          2.0,
          8.0,
          0.0,
          1.0,
          15.0,
          2.0,
          3.0,
          0.0,
          2.0,
          1.0,
          2.0,
          1.0,
          4.0,
          10.0,
          0.0,
          0.0,
          0.0,
          0.0,
          0.0,
          1.0,
          1.0,
          1.0,
          0.0,
          1.0,
          1.0,
          0.0,
          0.0,
          1.0,
          14.0,
          9.0,
          23.0,
          2.0,
          0.0,
          0.0,
          1.0,
          1.0,
          2.0,
          2.0,
          1.0,
          0.0,
          2.0,
          6.0,
          14.0,
          0.0,
          3.0,
          0.0,
          0.0,
          4.0,
          2.0,
          0.0,
          2.0,
          4.0,
          0.0,
          21.0,
          12.0,
          2.0,
          0.0,
          3.0,
          1.0,
          0.0,
          1.0,
          2.0,
          0.0,
          0.0,
          0.0,
          2.0,
          0.0,
          1.0,
          1.0,
          18.0,
          16.0,
          2.0,
          1.0,
          14.0,
          2.0,
          0.0,
          1.0,
          21.0,
          5.0,
          3.0,
          7.0,
          1.0,
          1.0,
          1.0,
          1.0,
          0.0,
          5.0,
          0.0,
          0.0,
          0.0,
          2.0,
          1.0,
          1.0,
          4.0,
          0.0,
          1.0,
          8.0,
          1.0,
          0.0,
          5.0,
          0.0,
          2.0,
          0.0,
          6.0,
          3.0,
          5.0,
          3.0,
          4.0,
          3.0,
          0.0,
          0.0,
          43.0,
          1.0,
          0.0,
          1.0,
          0.0,
          0.0,
          0.0,
          5.0,
          0.0,
          3.0,
          0.0,
          0.0,
          5.0,
          0.0,
          1.0,
          9.0,
          32.0,
          1.0,
          2.0,
          2.0,
          1.0,
          2.0,
          15.0,
          0.0,
          0.0,
          1.0,
          0.0,
          2.0,
          0.0,
          0.0,
          15.0,
          0.0,
          4.0,
          8.0,
          2.0,
          6.0,
          0.0,
          4.0,
          0.0,
          0.0,
          0.0,
          5.0,
          7.0,
          2.0,
          1.0,
          0.0,
          2.0,
          1.0,
          16.0,
          18.0,
          2.0,
          4.0,
          0.0,
          3.0,
          0.0,
          0.0,
          5.0,
          8.0,
          1.0,
          2.0,
          3.0,
          3.0,
          1.0,
          3.0,
          0.0,
          0.0,
          5.0,
          4.0,
          15.0,
          2.0,
          1.0,
          0.0,
          2.0,
          11.0,
          1.0,
          0.0,
          20.0,
          6.0,
          2.0,
          3.0,
          5.0,
          17.0,
          0.0,
          4.0,
          1.0,
          4.0,
          7.0,
          9.0,
          10.0,
          4.0,
          12.0,
          1.0,
          0.0,
          12.0,
          9.0,
          2.0,
          0.0,
          2.0,
          1.0,
          3.0,
          6.0,
          9.0,
          19.0,
          1.0,
          4.0,
          11.0,
          7.0,
          0.0,
          2.0,
          5.0,
          0.0,
          0.0,
          0.0,
          6.0,
          4.0,
          2.0,
          2.0,
          1.0,
          1.0,
          1.0,
          5.0,
          0.0,
          4.0,
          10.0,
          7.0,
          8.0,
          1.0,
          3.0,
          4.0,
          1.0,
          5.0,
          2.0,
          2.0,
          0.0,
          2.0,
          8.0,
          12.0,
          3.0,
          14.0,
          1.0,
          0.0,
          2.0,
          2.0,
          10.0,
          0.0,
          0.0,
          3.0,
          3.0,
          12.0,
          13.0,
          5.0,
          2.0,
          1.0,
          0.0,
          22.0,
          2.0,
          2.0,
          1.0,
          6.0,
          8.0,
          0.0,
          2.0,
          8.0,
          0.0,
          4.0,
          16.0,
          0.0,
          0.0,
          11.0,
          0.0,
          10.0,
          2.0,
          0.0,
          4.0,
          0.0,
          11.0,
          5.0,
          3.0,
          0.0,
          2.0,
          2.0,
          3.0,
          2.0,
          0.0,
          2.0,
          9.0,
          0.0,
          2.0,
          0.0,
          5.0,
          17.0,
          5.0,
          2.0,
          10.0,
          1.0,
          5.0,
          1.0,
          3.0,
          3.0,
          15.0,
          3.0,
          1.0,
          2.0,
          0.0,
          3.0,
          1.0,
          6.0,
          4.0,
          0.0,
          1.0,
          0.0,
          0.0,
          0.0,
          1.0,
          3.0,
          0.0,
          9.0,
          5.0,
          2.0,
          5.0,
          4.0,
          8.0,
          9.0,
          8.0,
          8.0,
          0.0,
          0.0,
          4.0,
          0.0,
          1.0,
          1.0,
          1.0,
          1.0,
          0.0,
          0.0,
          0.0,
          8.0,
          11.0,
          5.0,
          0.0,
          3.0,
          0.0,
          8.0,
          0.0,
          3.0,
          3.0,
          0.0,
          1.0,
          0.0,
          0.0,
          2.0,
          0.0,
          2.0,
          3.0,
          1.0,
          1.0,
          3.0,
          0.0,
          4.0,
          3.0,
          1.0,
          8.0,
          1.0,
          0.0,
          6.0,
          1.0,
          2.0,
          3.0,
          8.0,
          6.0,
          1.0,
          1.0,
          16.0,
          1.0,
          5.0,
          6.0,
          3.0,
          9.0,
          0.0,
          3.0,
          1.0,
          12.0,
          8.0,
          1.0,
          3.0,
          2.0,
          2.0,
          1.0,
          2.0,
          6.0,
          0.0,
          1.0,
          0.0,
          3.0,
          3.0,
          6.0,
          4.0,
          0.0,
          0.0,
          0.0,
          1.0,
          6.0,
          3.0,
          5.0,
          0.0,
          3.0,
          1.0,
          0.0,
          3.0,
          15.0,
          1.0,
          0.0,
          1.0,
          0.0,
          0.0,
          4.0,
          0.0,
          7.0,
          0.0,
          12.0,
          6.0,
          1.0,
          3.0,
          0.0,
          2.0,
          11.0,
          0.0,
          1.0,
          0.0,
          3.0,
          1.0,
          1.0,
          0.0,
          3.0,
          9.0,
          0.0,
          9.0,
          17.0,
          1.0,
          1.0,
          0.0,
          13.0,
          7.0,
          3.0,
          1.0,
          2.0,
          3.0,
          2.0,
          1.0,
          6.0,
          1.0,
          18.0,
          4.0,
          2.0,
          0.0,
          0.0,
          3.0,
          36.0,
          2.0,
          3.0,
          0.0,
          5.0,
          9.0,
          2.0,
          18.0,
          0.0,
          0.0,
          1.0,
          8.0,
          1.0,
          4.0,
          0.0,
          15.0,
          2.0,
          0.0,
          15.0,
          2.0,
          1.0,
          1.0,
          1.0,
          10.0,
          3.0,
          2.0,
          1.0,
          19.0,
          3.0,
          1.0,
          3.0,
          2.0,
          6.0,
          0.0,
          0.0,
          0.0,
          0.0,
          4.0,
          8.0,
          0.0,
          0.0,
          4.0,
          11.0,
          1.0,
          4.0,
          0.0,
          1.0,
          4.0,
          3.0,
          7.0,
          11.0,
          8.0,
          0.0,
          1.0,
          1.0,
          8.0,
          5.0,
          4.0,
          0.0,
          1.0,
          8.0,
          4.0,
          4.0,
          1.0,
          0.0,
          1.0,
          1.0,
          2.0,
          0.0,
          6.0,
          1.0,
          2.0,
          16.0,
          0.0,
          6.0,
          5.0,
          1.0,
          7.0,
          1.0,
          0.0,
          0.0,
          0.0,
          0.0,
          4.0,
          16.0,
          4.0,
          4.0,
          15.0,
          0.0,
          0.0,
          1.0,
          5.0,
          2.0,
          0.0,
          6.0,
          0.0,
          18.0,
          0.0,
          0.0,
          1.0,
          6.0,
          0.0,
          2.0,
          1.0,
          1.0,
          0.0,
          1.0,
          4.0,
          3.0,
          0.0,
          0.0,
          4.0,
          22.0,
          2.0,
          2.0,
          4.0,
          0.0,
          0.0,
          1.0,
          0.0,
          1.0,
          1.0,
          0.0,
          19.0,
          9.0,
          2.0,
          2.0,
          3.0,
          0.0,
          2.0,
          3.0,
          7.0,
          6.0,
          0.0,
          1.0,
          5.0,
          3.0,
          36.0,
          5.0,
          5.0,
          5.0,
          1.0,
          0.0,
          0.0,
          1.0,
          1.0,
          0.0,
          1.0,
          3.0,
          18.0,
          2.0,
          2.0,
          2.0,
          2.0,
          1.0,
          0.0,
          4.0,
          9.0,
          0.0,
          0.0,
          0.0,
          0.0,
          4.0,
          1.0,
          6.0,
          3.0,
          2.0,
          0.0,
          0.0,
          0.0,
          1.0,
          2.0,
          0.0,
          0.0,
          3.0,
          2.0,
          1.0,
          31.0,
          1.0,
          4.0,
          3.0,
          0.0,
          0.0,
          0.0,
          1.0,
          0.0,
          2.0,
          0.0,
          0.0,
          2.0,
          1.0,
          4.0,
          0.0,
          2.0,
          1.0,
          1.0,
          1.0,
          1.0,
          3.0,
          1.0,
          0.0,
          0.0,
          16.0,
          0.0,
          22.0,
          0.0,
          4.0,
          1.0,
          2.0,
          16.0,
          4.0,
          0.0,
          0.0,
          3.0,
          0.0,
          0.0,
          5.0,
          2.0,
          0.0,
          0.0,
          2.0,
          16.0,
          2.0,
          0.0,
          5.0,
          0.0,
          4.0,
          1.0,
          4.0,
          2.0,
          27.0,
          17.0,
          5.0,
          7.0,
          5.0,
          1.0,
          0.0,
          0.0,
          8.0,
          0.0,
          1.0,
          0.0,
          0.0,
          1.0,
          0.0,
          0.0,
          3.0,
          3.0,
          0.0,
          1.0,
          0.0,
          0.0,
          1.0,
          14.0,
          5.0,
          0.0,
          5.0,
          1.0,
          8.0,
          15.0,
          0.0,
          0.0,
          0.0,
          3.0,
          1.0,
          1.0,
          1.0,
          1.0,
          1.0,
          0.0,
          0.0,
          1.0,
          0.0,
          6.0,
          3.0,
          0.0,
          0.0,
          2.0,
          10.0,
          2.0,
          3.0,
          8.0,
          1.0,
          7.0,
          17.0,
          1.0,
          3.0,
          1.0,
          3.0,
          4.0,
          2.0,
          2.0,
          0.0,
          0.0,
          2.0,
          2.0,
          1.0,
          4.0,
          0.0,
          3.0,
          9.0,
          5.0,
          3.0,
          8.0,
          0.0,
          3.0,
          3.0,
          3.0,
          8.0,
          0.0,
          7.0,
          3.0,
          12.0,
          5.0,
          1.0,
          9.0,
          5.0,
          4.0,
          7.0,
          7.0,
          4.0,
          2.0,
          1.0,
          17.0,
          2.0,
          10.0,
          3.0,
          5.0,
          4.0,
          3.0,
          2.0,
          4.0,
          4.0,
          3.0,
          4.0,
          1.0,
          4.0,
          1.0,
          2.0,
          2.0,
          2.0,
          0.0,
          3.0,
          7.0,
          1.0,
          9.0,
          0.0,
          1.0,
          2.0,
          6.0,
          10.0,
          0.0,
          12.0,
          1.0,
          5.0,
          2.0,
          1.0,
          19.0,
          0.0,
          6.0,
          9.0,
          2.0,
          0.0,
          7.0,
          8.0,
          11.0,
          0.0,
          9.0,
          3.0,
          3.0,
          1.0,
          11.0,
          8.0,
          0.0,
          0.0,
          36.0,
          2.0,
          4.0,
          5.0,
          2.0,
          1.0,
          12.0,
          1.0,
          3.0,
          4.0,
          5.0,
          9.0,
          0.0,
          4.0,
          4.0,
          2.0,
          1.0,
          10.0,
          10.0,
          3.0,
          15.0,
          16.0,
          4.0,
          3.0,
          1.0,
          0.0,
          2.0,
          3.0,
          3.0,
          3.0,
          5.0,
          13.0,
          1.0,
          12.0,
          2.0,
          3.0,
          4.0,
          0.0,
          2.0,
          7.0,
          5.0,
          4.0,
          3.0,
          1.0,
          6.0,
          10.0,
          16.0,
          11.0,
          3.0,
          1.0,
          2.0,
          3.0,
          5.0,
          2.0,
          2.0,
          2.0,
          13.0,
          4.0,
          3.0,
          1.0,
          6.0,
          3.0,
          7.0,
          13.0,
          8.0,
          4.0,
          1.0,
          0.0,
          1.0,
          3.0,
          6.0,
          14.0,
          5.0,
          6.0,
          3.0,
          2.0,
          2.0,
          2.0,
          1.0,
          2.0,
          1.0,
          2.0,
          0.0,
          9.0,
          12.0,
          2.0,
          2.0,
          4.0,
          0.0,
          2.0,
          3.0,
          4.0,
          1.0,
          1.0,
          0.0,
          11.0,
          5.0,
          0.0,
          6.0,
          0.0,
          4.0,
          8.0,
          30.0,
          2.0,
          5.0,
          5.0,
          2.0,
          10.0,
          12.0,
          1.0,
          1.0,
          0.0,
          12.0,
          6.0,
          0.0,
          9.0,
          1.0,
          0.0,
          1.0,
          3.0,
          2.0,
          4.0,
          6.0,
          0.0,
          0.0,
          2.0,
          3.0,
          0.0,
          8.0,
          4.0,
          2.0,
          1.0,
          0.0,
          7.0,
          2.0,
          2.0,
          6.0,
          2.0,
          0.0,
          5.0,
          0.0,
          11.0,
          1.0,
          1.0,
          12.0,
          0.0,
          0.0,
          8.0,
          1.0,
          3.0,
          0.0,
          1.0,
          0.0,
          2.0,
          8.0,
          6.0,
          1.0,
          2.0,
          2.0,
          0.0,
          4.0,
          18.0,
          1.0,
          3.0,
          0.0,
          4.0,
          1.0,
          1.0,
          2.0,
          5.0,
          3.0,
          1.0,
          2.0,
          4.0,
          3.0,
          12.0,
          1.0,
          2.0,
          24.0,
          2.0,
          6.0,
          1.0,
          0.0,
          0.0,
          6.0,
          1.0,
          3.0,
          5.0,
          1.0,
          4.0,
          1.0,
          0.0,
          6.0,
          2.0,
          1.0,
          1.0,
          3.0,
          0.0,
          0.0,
          3.0,
          2.0,
          2.0,
          3.0,
          1.0,
          2.0,
          0.0,
          6.0,
          3.0,
          0.0,
          0.0,
          0.0,
          11.0,
          4.0,
          2.0,
          0.0,
          12.0,
          7.0,
          6.0,
          27.0,
          46.0,
          5.0,
          4.0,
          0.0,
          3.0,
          6.0,
          0.0,
          3.0,
          9.0,
          0.0,
          1.0,
          13.0,
          6.0,
          6.0,
          1.0,
          4.0,
          10.0,
          0.0,
          0.0,
          0.0,
          0.0,
          10.0,
          5.0,
          5.0,
          1.0,
          0.0,
          0.0,
          0.0,
          1.0
         ],
         "type": "densitymapbox"
        }
       ],
       "layout": {
        "template": {
         "data": {
          "histogram2dcontour": [
           {
            "type": "histogram2dcontour",
            "colorbar": {
             "outlinewidth": 0,
             "ticks": ""
            },
            "colorscale": [
             [
              0.0,
              "#0d0887"
             ],
             [
              0.1111111111111111,
              "#46039f"
             ],
             [
              0.2222222222222222,
              "#7201a8"
             ],
             [
              0.3333333333333333,
              "#9c179e"
             ],
             [
              0.4444444444444444,
              "#bd3786"
             ],
             [
              0.5555555555555556,
              "#d8576b"
             ],
             [
              0.6666666666666666,
              "#ed7953"
             ],
             [
              0.7777777777777778,
              "#fb9f3a"
             ],
             [
              0.8888888888888888,
              "#fdca26"
             ],
             [
              1.0,
              "#f0f921"
             ]
            ]
           }
          ],
          "choropleth": [
           {
            "type": "choropleth",
            "colorbar": {
             "outlinewidth": 0,
             "ticks": ""
            }
           }
          ],
          "histogram2d": [
           {
            "type": "histogram2d",
            "colorbar": {
             "outlinewidth": 0,
             "ticks": ""
            },
            "colorscale": [
             [
              0.0,
              "#0d0887"
             ],
             [
              0.1111111111111111,
              "#46039f"
             ],
             [
              0.2222222222222222,
              "#7201a8"
             ],
             [
              0.3333333333333333,
              "#9c179e"
             ],
             [
              0.4444444444444444,
              "#bd3786"
             ],
             [
              0.5555555555555556,
              "#d8576b"
             ],
             [
              0.6666666666666666,
              "#ed7953"
             ],
             [
              0.7777777777777778,
              "#fb9f3a"
             ],
             [
              0.8888888888888888,
              "#fdca26"
             ],
             [
              1.0,
              "#f0f921"
             ]
            ]
           }
          ],
          "heatmap": [
           {
            "type": "heatmap",
            "colorbar": {
             "outlinewidth": 0,
             "ticks": ""
            },
            "colorscale": [
             [
              0.0,
              "#0d0887"
             ],
             [
              0.1111111111111111,
              "#46039f"
             ],
             [
              0.2222222222222222,
              "#7201a8"
             ],
             [
              0.3333333333333333,
              "#9c179e"
             ],
             [
              0.4444444444444444,
              "#bd3786"
             ],
             [
              0.5555555555555556,
              "#d8576b"
             ],
             [
              0.6666666666666666,
              "#ed7953"
             ],
             [
              0.7777777777777778,
              "#fb9f3a"
             ],
             [
              0.8888888888888888,
              "#fdca26"
             ],
             [
              1.0,
              "#f0f921"
             ]
            ]
           }
          ],
          "heatmapgl": [
           {
            "type": "heatmapgl",
            "colorbar": {
             "outlinewidth": 0,
             "ticks": ""
            },
            "colorscale": [
             [
              0.0,
              "#0d0887"
             ],
             [
              0.1111111111111111,
              "#46039f"
             ],
             [
              0.2222222222222222,
              "#7201a8"
             ],
             [
              0.3333333333333333,
              "#9c179e"
             ],
             [
              0.4444444444444444,
              "#bd3786"
             ],
             [
              0.5555555555555556,
              "#d8576b"
             ],
             [
              0.6666666666666666,
              "#ed7953"
             ],
             [
              0.7777777777777778,
              "#fb9f3a"
             ],
             [
              0.8888888888888888,
              "#fdca26"
             ],
             [
              1.0,
              "#f0f921"
             ]
            ]
           }
          ],
          "contourcarpet": [
           {
            "type": "contourcarpet",
            "colorbar": {
             "outlinewidth": 0,
             "ticks": ""
            }
           }
          ],
          "contour": [
           {
            "type": "contour",
            "colorbar": {
             "outlinewidth": 0,
             "ticks": ""
            },
            "colorscale": [
             [
              0.0,
              "#0d0887"
             ],
             [
              0.1111111111111111,
              "#46039f"
             ],
             [
              0.2222222222222222,
              "#7201a8"
             ],
             [
              0.3333333333333333,
              "#9c179e"
             ],
             [
              0.4444444444444444,
              "#bd3786"
             ],
             [
              0.5555555555555556,
              "#d8576b"
             ],
             [
              0.6666666666666666,
              "#ed7953"
             ],
             [
              0.7777777777777778,
              "#fb9f3a"
             ],
             [
              0.8888888888888888,
              "#fdca26"
             ],
             [
              1.0,
              "#f0f921"
             ]
            ]
           }
          ],
          "surface": [
           {
            "type": "surface",
            "colorbar": {
             "outlinewidth": 0,
             "ticks": ""
            },
            "colorscale": [
             [
              0.0,
              "#0d0887"
             ],
             [
              0.1111111111111111,
              "#46039f"
             ],
             [
              0.2222222222222222,
              "#7201a8"
             ],
             [
              0.3333333333333333,
              "#9c179e"
             ],
             [
              0.4444444444444444,
              "#bd3786"
             ],
             [
              0.5555555555555556,
              "#d8576b"
             ],
             [
              0.6666666666666666,
              "#ed7953"
             ],
             [
              0.7777777777777778,
              "#fb9f3a"
             ],
             [
              0.8888888888888888,
              "#fdca26"
             ],
             [
              1.0,
              "#f0f921"
             ]
            ]
           }
          ],
          "mesh3d": [
           {
            "type": "mesh3d",
            "colorbar": {
             "outlinewidth": 0,
             "ticks": ""
            }
           }
          ],
          "scatter": [
           {
            "marker": {
             "line": {
              "color": "#283442"
             }
            },
            "type": "scatter"
           }
          ],
          "parcoords": [
           {
            "type": "parcoords",
            "line": {
             "colorbar": {
              "outlinewidth": 0,
              "ticks": ""
             }
            }
           }
          ],
          "scatterpolargl": [
           {
            "type": "scatterpolargl",
            "marker": {
             "colorbar": {
              "outlinewidth": 0,
              "ticks": ""
             }
            }
           }
          ],
          "bar": [
           {
            "error_x": {
             "color": "#f2f5fa"
            },
            "error_y": {
             "color": "#f2f5fa"
            },
            "marker": {
             "line": {
              "color": "rgb(17,17,17)",
              "width": 0.5
             },
             "pattern": {
              "fillmode": "overlay",
              "size": 10,
              "solidity": 0.2
             }
            },
            "type": "bar"
           }
          ],
          "scattergeo": [
           {
            "type": "scattergeo",
            "marker": {
             "colorbar": {
              "outlinewidth": 0,
              "ticks": ""
             }
            }
           }
          ],
          "scatterpolar": [
           {
            "type": "scatterpolar",
            "marker": {
             "colorbar": {
              "outlinewidth": 0,
              "ticks": ""
             }
            }
           }
          ],
          "histogram": [
           {
            "marker": {
             "pattern": {
              "fillmode": "overlay",
              "size": 10,
              "solidity": 0.2
             }
            },
            "type": "histogram"
           }
          ],
          "scattergl": [
           {
            "marker": {
             "line": {
              "color": "#283442"
             }
            },
            "type": "scattergl"
           }
          ],
          "scatter3d": [
           {
            "type": "scatter3d",
            "line": {
             "colorbar": {
              "outlinewidth": 0,
              "ticks": ""
             }
            },
            "marker": {
             "colorbar": {
              "outlinewidth": 0,
              "ticks": ""
             }
            }
           }
          ],
          "scattermapbox": [
           {
            "type": "scattermapbox",
            "marker": {
             "colorbar": {
              "outlinewidth": 0,
              "ticks": ""
             }
            }
           }
          ],
          "scatterternary": [
           {
            "type": "scatterternary",
            "marker": {
             "colorbar": {
              "outlinewidth": 0,
              "ticks": ""
             }
            }
           }
          ],
          "scattercarpet": [
           {
            "type": "scattercarpet",
            "marker": {
             "colorbar": {
              "outlinewidth": 0,
              "ticks": ""
             }
            }
           }
          ],
          "carpet": [
           {
            "aaxis": {
             "endlinecolor": "#A2B1C6",
             "gridcolor": "#506784",
             "linecolor": "#506784",
             "minorgridcolor": "#506784",
             "startlinecolor": "#A2B1C6"
            },
            "baxis": {
             "endlinecolor": "#A2B1C6",
             "gridcolor": "#506784",
             "linecolor": "#506784",
             "minorgridcolor": "#506784",
             "startlinecolor": "#A2B1C6"
            },
            "type": "carpet"
           }
          ],
          "table": [
           {
            "cells": {
             "fill": {
              "color": "#506784"
             },
             "line": {
              "color": "rgb(17,17,17)"
             }
            },
            "header": {
             "fill": {
              "color": "#2a3f5f"
             },
             "line": {
              "color": "rgb(17,17,17)"
             }
            },
            "type": "table"
           }
          ],
          "barpolar": [
           {
            "marker": {
             "line": {
              "color": "rgb(17,17,17)",
              "width": 0.5
             },
             "pattern": {
              "fillmode": "overlay",
              "size": 10,
              "solidity": 0.2
             }
            },
            "type": "barpolar"
           }
          ],
          "pie": [
           {
            "automargin": true,
            "type": "pie"
           }
          ]
         },
         "layout": {
          "autotypenumbers": "strict",
          "colorway": [
           "#636efa",
           "#EF553B",
           "#00cc96",
           "#ab63fa",
           "#FFA15A",
           "#19d3f3",
           "#FF6692",
           "#B6E880",
           "#FF97FF",
           "#FECB52"
          ],
          "font": {
           "color": "#f2f5fa"
          },
          "hovermode": "closest",
          "hoverlabel": {
           "align": "left"
          },
          "paper_bgcolor": "rgb(17,17,17)",
          "plot_bgcolor": "rgb(17,17,17)",
          "polar": {
           "bgcolor": "rgb(17,17,17)",
           "angularaxis": {
            "gridcolor": "#506784",
            "linecolor": "#506784",
            "ticks": ""
           },
           "radialaxis": {
            "gridcolor": "#506784",
            "linecolor": "#506784",
            "ticks": ""
           }
          },
          "ternary": {
           "bgcolor": "rgb(17,17,17)",
           "aaxis": {
            "gridcolor": "#506784",
            "linecolor": "#506784",
            "ticks": ""
           },
           "baxis": {
            "gridcolor": "#506784",
            "linecolor": "#506784",
            "ticks": ""
           },
           "caxis": {
            "gridcolor": "#506784",
            "linecolor": "#506784",
            "ticks": ""
           }
          },
          "coloraxis": {
           "colorbar": {
            "outlinewidth": 0,
            "ticks": ""
           }
          },
          "colorscale": {
           "sequential": [
            [
             0.0,
             "#0d0887"
            ],
            [
             0.1111111111111111,
             "#46039f"
            ],
            [
             0.2222222222222222,
             "#7201a8"
            ],
            [
             0.3333333333333333,
             "#9c179e"
            ],
            [
             0.4444444444444444,
             "#bd3786"
            ],
            [
             0.5555555555555556,
             "#d8576b"
            ],
            [
             0.6666666666666666,
             "#ed7953"
            ],
            [
             0.7777777777777778,
             "#fb9f3a"
            ],
            [
             0.8888888888888888,
             "#fdca26"
            ],
            [
             1.0,
             "#f0f921"
            ]
           ],
           "sequentialminus": [
            [
             0.0,
             "#0d0887"
            ],
            [
             0.1111111111111111,
             "#46039f"
            ],
            [
             0.2222222222222222,
             "#7201a8"
            ],
            [
             0.3333333333333333,
             "#9c179e"
            ],
            [
             0.4444444444444444,
             "#bd3786"
            ],
            [
             0.5555555555555556,
             "#d8576b"
            ],
            [
             0.6666666666666666,
             "#ed7953"
            ],
            [
             0.7777777777777778,
             "#fb9f3a"
            ],
            [
             0.8888888888888888,
             "#fdca26"
            ],
            [
             1.0,
             "#f0f921"
            ]
           ],
           "diverging": [
            [
             0,
             "#8e0152"
            ],
            [
             0.1,
             "#c51b7d"
            ],
            [
             0.2,
             "#de77ae"
            ],
            [
             0.3,
             "#f1b6da"
            ],
            [
             0.4,
             "#fde0ef"
            ],
            [
             0.5,
             "#f7f7f7"
            ],
            [
             0.6,
             "#e6f5d0"
            ],
            [
             0.7,
             "#b8e186"
            ],
            [
             0.8,
             "#7fbc41"
            ],
            [
             0.9,
             "#4d9221"
            ],
            [
             1,
             "#276419"
            ]
           ]
          },
          "xaxis": {
           "gridcolor": "#283442",
           "linecolor": "#506784",
           "ticks": "",
           "title": {
            "standoff": 15
           },
           "zerolinecolor": "#283442",
           "automargin": true,
           "zerolinewidth": 2
          },
          "yaxis": {
           "gridcolor": "#283442",
           "linecolor": "#506784",
           "ticks": "",
           "title": {
            "standoff": 15
           },
           "zerolinecolor": "#283442",
           "automargin": true,
           "zerolinewidth": 2
          },
          "scene": {
           "xaxis": {
            "backgroundcolor": "rgb(17,17,17)",
            "gridcolor": "#506784",
            "linecolor": "#506784",
            "showbackground": true,
            "ticks": "",
            "zerolinecolor": "#C8D4E3",
            "gridwidth": 2
           },
           "yaxis": {
            "backgroundcolor": "rgb(17,17,17)",
            "gridcolor": "#506784",
            "linecolor": "#506784",
            "showbackground": true,
            "ticks": "",
            "zerolinecolor": "#C8D4E3",
            "gridwidth": 2
           },
           "zaxis": {
            "backgroundcolor": "rgb(17,17,17)",
            "gridcolor": "#506784",
            "linecolor": "#506784",
            "showbackground": true,
            "ticks": "",
            "zerolinecolor": "#C8D4E3",
            "gridwidth": 2
           }
          },
          "shapedefaults": {
           "line": {
            "color": "#f2f5fa"
           }
          },
          "annotationdefaults": {
           "arrowcolor": "#f2f5fa",
           "arrowhead": 0,
           "arrowwidth": 1
          },
          "geo": {
           "bgcolor": "rgb(17,17,17)",
           "landcolor": "rgb(17,17,17)",
           "subunitcolor": "#506784",
           "showland": true,
           "showlakes": true,
           "lakecolor": "rgb(17,17,17)"
          },
          "title": {
           "x": 0.05
          },
          "updatemenudefaults": {
           "bgcolor": "#506784",
           "borderwidth": 0
          },
          "sliderdefaults": {
           "bgcolor": "#C8D4E3",
           "borderwidth": 1,
           "bordercolor": "rgb(17,17,17)",
           "tickwidth": 0
          },
          "mapbox": {
           "style": "dark"
          }
         }
        },
        "mapbox": {
         "domain": {
          "x": [
           0.0,
           1.0
          ],
          "y": [
           0.0,
           1.0
          ]
         },
         "center": {
          "lat": 40,
          "lon": -75
         },
         "zoom": 0,
         "style": "open-street-map"
        },
        "coloraxis": {
         "colorbar": {
          "title": {
           "text": "Prop N"
          }
         },
         "colorscale": [
          [
           0.0,
           "#0d0887"
          ],
          [
           0.1111111111111111,
           "#46039f"
          ],
          [
           0.2222222222222222,
           "#7201a8"
          ],
          [
           0.3333333333333333,
           "#9c179e"
          ],
          [
           0.4444444444444444,
           "#bd3786"
          ],
          [
           0.5555555555555556,
           "#d8576b"
          ],
          [
           0.6666666666666666,
           "#ed7953"
          ],
          [
           0.7777777777777778,
           "#fb9f3a"
          ],
          [
           0.8888888888888888,
           "#fdca26"
          ],
          [
           1.0,
           "#f0f921"
          ]
         ]
        },
        "legend": {
         "tracegroupgap": 0
        },
        "margin": {
         "t": 60
        }
       },
       "config": {
        "plotlyServerURL": "https://plot.ly"
       }
      },
      "text/html": "<div>                            <div id=\"9fdfc8e2-6225-4ab5-8f09-43550d4b608d\" class=\"plotly-graph-div\" style=\"height:525px; width:100%;\"></div>            <script type=\"text/javascript\">                require([\"plotly\"], function(Plotly) {                    window.PLOTLYENV=window.PLOTLYENV || {};                                    if (document.getElementById(\"9fdfc8e2-6225-4ab5-8f09-43550d4b608d\")) {                    Plotly.newPlot(                        \"9fdfc8e2-6225-4ab5-8f09-43550d4b608d\",                        [{\"coloraxis\":\"coloraxis\",\"hovertemplate\":\"Prop N=%{z}\\u003cbr\\u003eLatitude=%{lat}\\u003cbr\\u003eLongitude=%{lon}\\u003cextra\\u003e\\u003c\\u002fextra\\u003e\",\"lat\":[40.508284,40.508809,40.509037,40.510735,40.520699,40.523757,40.528092,40.530169,40.536639,40.542246,40.543083,40.54438,40.545281,40.547692,40.552523,40.55258,40.552975,40.557876,40.561691,40.56397,40.567873,40.569393,40.571187,40.574044,40.574411,40.574607,40.575665,40.576725,40.577208,40.577217,40.57732,40.57752,40.578188,40.578255,40.578261,40.579451,40.579607,40.579737,40.580894,40.580928,40.581315,40.581681,40.5825,40.582533,40.582585,40.582744,40.583125,40.583139,40.584109,40.586066,40.586845,40.587616,40.58792,40.589268,40.589317,40.589508,40.590423,40.590564,40.59057,40.591109,40.591468,40.591702,40.593005,40.593521,40.59377,40.593779,40.593834,40.593967,40.594124,40.594291,40.594538,40.595341,40.595698,40.595779,40.596145,40.596757,40.596803,40.597369,40.597679,40.597863,40.5993,40.600199,40.6013,40.601433,40.601617,40.60201,40.602084,40.60223,40.603188,40.603232,40.603484,40.603622,40.60422,40.604349,40.604871,40.604879,40.606353,40.60665,40.606792,40.607234,40.60729,40.60731,40.60754,40.608467,40.608517,40.608604,40.608862,40.609912,40.610087,40.610868,40.610963,40.611483,40.611508,40.612273,40.612623,40.613216,40.613262,40.613317,40.613353,40.613604,40.613721,40.613881,40.614159,40.615252,40.61527,40.615998,40.616632,40.618415,40.618439,40.618676,40.61978,40.620347,40.620446,40.620525,40.620534,40.620676,40.620957,40.621224,40.621413,40.621436,40.621507,40.621565,40.621871,40.62191,40.622455,40.622596,40.623273,40.623561,40.623986,40.624132,40.624611,40.625369,40.625662,40.62668,40.627029,40.627784,40.627835,40.628169,40.628558,40.628659,40.629303,40.630843,40.631214,40.631523,40.63179,40.63228,40.632379,40.632478,40.632524,40.632562,40.632936,40.633232,40.633237,40.633285,40.63359,40.63398,40.634009,40.63402,40.634032,40.634085,40.634573,40.634875,40.635015,40.635553,40.635916,40.636455,40.636587,40.636598,40.63694,40.637282,40.637322,40.637486,40.637711,40.638686,40.639087,40.639571,40.6397,40.640066,40.640463,40.640545,40.640686,40.641157,40.641474,40.641595,40.641937,40.642031,40.642121,40.642792,40.642793,40.642834,40.643278,40.64366,40.643889,40.644203,40.644735,40.645016,40.645017,40.645685,40.645806,40.64629,40.646599,40.646877,40.64726,40.647323,40.64789,40.648044,40.648215,40.648423,40.64859,40.648608,40.648657,40.64883,40.648884,40.649042,40.649404,40.64971,40.649787,40.650785,40.651022,40.651977,40.652701,40.653006,40.65364,40.654031,40.654293,40.654704,40.65571,40.655997,40.656046,40.656068,40.656126,40.656183,40.656944,40.657131,40.657212,40.65744,40.657459,40.657472,40.657914,40.657922,40.658089,40.658295,40.65843,40.658893,40.658939,40.65911,40.659288,40.659728,40.659873,40.659966,40.660024,40.66011,40.660134,40.660204,40.660306,40.66051,40.660976,40.661061,40.661072,40.661122,40.661886,40.662326,40.662447,40.663251,40.663559,40.663673,40.663701,40.664007,40.664075,40.664218,40.664597,40.665035,40.665058,40.665565,40.665798,40.665878,40.665909,40.665965,40.666181,40.666417,40.666518,40.666545,40.667195,40.667377,40.667456,40.667545,40.668167,40.668235,40.668475,40.668856,40.668916,40.66896,40.669001,40.669339,40.669387,40.669567,40.669629,40.669719,40.6701,40.670349,40.670724,40.670764,40.670986,40.67124,40.67146,40.671544,40.671561,40.671987,40.672005,40.672015,40.672462,40.672579,40.672713,40.672727,40.672762,40.67282,40.673069,40.673073,40.673769,40.674103,40.674135,40.67438,40.674406,40.674519,40.674656,40.674794,40.674831,40.674991,40.675024,40.675612,40.675633,40.675766,40.675771,40.67588,40.676094,40.676094,40.676129,40.67634,40.67641,40.676513,40.676668,40.676774,40.677104,40.67715,40.677343,40.677415,40.677564,40.677697,40.677805,40.67789,40.677969,40.678049,40.6781,40.678276,40.678296,40.678297,40.678488,40.678983,40.679097,40.67944,40.67956,40.679584,40.679639,40.679984,40.68007,40.680149,40.68031,40.680318,40.680428,40.680445,40.680463,40.680727,40.681172,40.681268,40.681572,40.68173,40.681896,40.682114,40.682458,40.682533,40.68259,40.682663,40.683104,40.683241,40.683559,40.683858,40.68405,40.684142,40.684524,40.685004,40.68505,40.685264,40.68538,40.685419,40.685491,40.685492,40.685695,40.68588,40.686076,40.68618,40.686208,40.686499,40.686592,40.686746,40.686798,40.686951,40.687145,40.687257,40.687466,40.688103,40.68832,40.688387,40.688419,40.68867,40.688695,40.688811,40.688831,40.688834,40.689591,40.689697,40.689842,40.690145,40.690202,40.690353,40.690725,40.690765,40.690798,40.690828,40.691037,40.691077,40.691146,40.691274,40.691712,40.691765,40.692126,40.692179,40.692642,40.693006,40.693018,40.693161,40.693293,40.693313,40.693518,40.693606,40.693879,40.694004,40.694018,40.69407,40.694086,40.694125,40.694507,40.694518,40.694633,40.694682,40.694921,40.694926,40.695056,40.695238,40.695332,40.695362,40.695417,40.695633,40.695888,40.696324,40.696556,40.696733,40.69697,40.697033,40.697152,40.69719,40.697309,40.697339,40.69737,40.697779,40.697781,40.697781,40.697819,40.697836,40.697901,40.697961,40.698021,40.698279,40.698476,40.698869,40.699015,40.699149,40.69919,40.699516,40.700606,40.70069,40.70071,40.700774,40.700911,40.701049,40.701343,40.701692,40.701695,40.702392,40.702427,40.7025,40.70284,40.70292,40.703585,40.703624,40.703661,40.703765,40.703767,40.703779,40.704072,40.704406,40.704487,40.705204,40.705516,40.70568,40.705898,40.706023,40.706041,40.70643,40.70644,40.70646,40.707104,40.707121,40.707229,40.707527,40.707537,40.70799,40.70848,40.708723,40.70873,40.708898,40.709196,40.709446,40.709463,40.709647,40.709674,40.709941,40.710024,40.710609,40.710624,40.710729,40.711033,40.711203,40.711313,40.711367,40.711419,40.711442,40.711549,40.711704,40.711753,40.711815,40.711849,40.712184,40.712399,40.71276,40.713022,40.713094,40.713218,40.713273,40.713684,40.713759,40.713814,40.714201,40.71457,40.71466,40.714785,40.714978,40.715073,40.715344,40.715351,40.715389,40.715585,40.715905,40.715915,40.71602,40.716553,40.716609,40.716617,40.716668,40.716778,40.71759,40.718219,40.718383,40.718831,40.718895,40.718903,40.718935,40.719029,40.71925,40.719598,40.719819,40.719867,40.720154,40.720359,40.720581,40.720619,40.720713,40.720924,40.720924,40.72154,40.721807,40.721981,40.72252,40.722707,40.722782,40.723897,40.724117,40.72438,40.7244,40.724458,40.724479,40.725098,40.725603,40.725725,40.726135,40.726473,40.726587,40.726769,40.727134,40.727892,40.72814,40.728677,40.728735,40.729215,40.729402,40.729412,40.729589,40.729636,40.729741,40.729939,40.730038,40.730941,40.731369,40.731729,40.732112,40.732289,40.732447,40.732593,40.732716,40.733066,40.733514,40.734294,40.734318,40.73439,40.734572,40.734642,40.735161,40.735275,40.735494,40.735609,40.735692,40.736003,40.736094,40.736177,40.736518,40.736524,40.736653,40.73679,40.736922,40.737427,40.737517,40.737613,40.737678,40.737718,40.738139,40.738548,40.73859,40.738952,40.739115,40.739178,40.739246,40.739483,40.740088,40.74056,40.740565,40.740724,40.741122,40.741131,40.741497,40.741657,40.741803,40.74193,40.741944,40.742129,40.742205,40.742572,40.742633,40.742668,40.742839,40.742867,40.742956,40.743509,40.74373,40.74391,40.744099,40.74428,40.744349,40.744412,40.744753,40.744838,40.745095,40.745156,40.745201,40.745244,40.745526,40.745537,40.745923,40.745948,40.746088,40.746176,40.746202,40.746231,40.746352,40.747126,40.747621,40.747747,40.748701,40.748818,40.748838,40.748987,40.749036,40.749266,40.749381,40.749545,40.750007,40.750172,40.751331,40.751356,40.75146,40.752333,40.75278,40.752866,40.753037,40.753078,40.753091,40.754201,40.754241,40.754654,40.754661,40.754837,40.755366,40.755418,40.755451,40.755843,40.756013,40.756139,40.756534,40.756778,40.756891,40.757064,40.757065,40.757309,40.75747,40.757499,40.757729,40.75788,40.75823,40.758377,40.758408,40.758689,40.758831,40.75924,40.759363,40.759404,40.759517,40.759844,40.760852,40.761249,40.761448,40.761479,40.761565,40.762103,40.762708,40.76337,40.763736,40.763842,40.763866,40.763894,40.764646,40.764763,40.765133,40.765162,40.765166,40.765184,40.765359,40.765826,40.765878,40.766264,40.766792,40.767305,40.767791,40.768343,40.768985,40.769271,40.76936,40.769601,40.770187,40.770335,40.770387,40.770419,40.771186,40.771215,40.771265,40.771336,40.771512,40.771755,40.771925,40.772007,40.77205,40.772863,40.773629,40.774351,40.774512,40.774919,40.775078,40.775253,40.775589,40.777455,40.777911,40.778059,40.778095,40.778601,40.780347,40.780706,40.780763,40.780822,40.781227,40.781958,40.782298,40.783608,40.783625,40.78365,40.784826,40.785258,40.785287,40.785671,40.785803,40.785909,40.786616,40.788865,40.788952,40.789295,40.789526,40.790543,40.790638,40.790976,40.791179,40.791728,40.791881,40.792122,40.792483,40.792741,40.79307,40.793194,40.793763,40.793856,40.794264,40.794872,40.795146,40.795157,40.79564,40.796668,40.797302,40.797467,40.797559,40.797577,40.797874,40.798511,40.798884,40.799178,40.800119,40.800256,40.801007,40.801689,40.802136,40.802207,40.802419,40.802917,40.805953,40.8063,40.806351,40.806768,40.807335,40.807383,40.807843,40.807987,40.808034,40.80937,40.809534,40.809672,40.81004,40.810085,40.81027,40.810431,40.810511,40.810803,40.810928,40.811162,40.81242,40.812619,40.813184,40.813517,40.813641,40.813728,40.813983,40.814031,40.814422,40.814425,40.814637,40.814833,40.814916,40.815016,40.815256,40.815429,40.815458,40.815477,40.815498,40.815509,40.815878,40.815938,40.816406,40.816532,40.816693,40.817372,40.817512,40.81755,40.817721,40.818188,40.818228,40.818232,40.81825,40.818467,40.818816,40.818874,40.819258,40.819572,40.819767,40.820403,40.820579,40.82074,40.820953,40.821146,40.821409,40.821515,40.821535,40.821675,40.821776,40.82229,40.82231,40.822443,40.822474,40.822604,40.822665,40.822719,40.82316,40.823174,40.823289,40.823526,40.823532,40.824054,40.824319,40.824495,40.825025,40.825403,40.826126,40.826295,40.82636,40.826526,40.827304,40.827315,40.827471,40.827607,40.827642,40.827743,40.827941,40.828419,40.828498,40.828518,40.828696,40.829232,40.829344,40.829832,40.830589,40.830691,40.83087,40.830995,40.831165,40.831227,40.83132,40.831416,40.831601,40.83182,40.831827,40.831992,40.832117,40.832706,40.832866,40.832902,40.833131,40.833511,40.833665,40.833687,40.834157,40.834749,40.834782,40.834899,40.835286,40.835779,40.835784,40.835847,40.8359,40.836356,40.836404,40.836536,40.836575,40.837275,40.837524,40.837631,40.837931,40.838224,40.838288,40.838954,40.839244,40.839305,40.839378,40.839565,40.840096,40.840145,40.840422,40.840702,40.840755,40.840878,40.840891,40.841321,40.841794,40.842084,40.842289,40.842495,40.842943,40.843546,40.843588,40.843873,40.843945,40.844253,40.844316,40.84473,40.844958,40.845469,40.845787,40.845878,40.846162,40.846236,40.846542,40.846711,40.848057,40.848339,40.848472,40.848516,40.8486,40.848899,40.848908,40.849395,40.849623,40.849897,40.85051,40.850561,40.850626,40.850666,40.851405,40.851414,40.851741,40.851823,40.852103,40.852398,40.852536,40.852631,40.852774,40.85294,40.853466,40.854415,40.854432,40.854493,40.854701,40.854726,40.854872,40.855263,40.855639,40.855698,40.855954,40.856586,40.856693,40.856723,40.857067,40.857801,40.857842,40.858103,40.85881,40.858815,40.85899,40.859034,40.8591,40.859243,40.859665,40.859686,40.859752,40.860043,40.860412,40.86079,40.861371,40.861668,40.86185,40.862109,40.862839,40.863055,40.863735,40.864527,40.864676,40.8654,40.865593,40.866053,40.86608,40.866706,40.866827,40.867826,40.869007,40.869296,40.869593,40.869835,40.870002,40.870293,40.871245,40.871278,40.872551,40.872612,40.872614,40.872895,40.87302,40.873938,40.874091,40.874313,40.874411,40.875156,40.87529,40.875894,40.875911,40.875953,40.877105,40.877202,40.87759,40.878322,40.878577,40.879368,40.880263,40.880522,40.880873,40.881066,40.881153,40.882178,40.882898,40.883025,40.883026,40.884343,40.884953,40.885008,40.885116,40.887111,40.887582,40.887831,40.888338,40.891732,40.892151,40.895104,40.899295,40.902205,40.903553],\"lon\":[-74.243428,-74.222403,-74.244118,-74.231109,-74.211264,-74.185941,-74.192032,-74.187635,-74.163815,-74.214002,-74.182299,-74.197897,-74.14632,-74.151755,-74.169464,-74.13706,-74.194597,-74.155356,-74.124622,-74.150885,-74.115373,-74.107737,-74.132634,-74.109282,-73.99194,-73.996292,-74.101624,-74.100726,-73.985953,-74.000194,-73.971313,-73.969517,-73.99203,-73.979628,-73.854403,-73.943819,-73.962071,-73.956329,-73.935952,-73.831836,-74.158589,-73.967308,-73.973122,-73.973132,-73.963477,-74.088509,-73.954037,-74.161862,-73.825711,-73.822624,-73.96198,-73.985948,-73.940532,-73.981738,-73.98131,-73.805361,-73.951753,-73.969964,-74.097722,-73.9391,-74.156705,-74.190648,-74.158988,-73.937672,-74.08058,-73.767199,-73.76174,-73.786182,-73.937696,-73.98577,-73.795304,-73.993457,-73.97518,-73.781876,-73.928793,-73.933499,-74.124227,-73.948946,-74.071529,-73.991693,-73.758206,-73.743968,-73.976953,-73.986139,-73.959779,-73.762795,-73.970013,-74.091355,-74.001408,-74.137981,-74.091237,-73.749097,-73.955485,-73.955528,-73.995545,-73.994404,-73.820445,-73.939176,-74.00806,-74.007199,-73.7494,-73.986595,-73.984661,-73.764548,-74.102078,-73.974847,-73.965058,-73.948512,-74.162216,-74.087379,-74.013376,-73.994677,-74.083177,-73.986713,-73.951906,-74.069889,-74.003404,-73.938871,-73.930129,-74.115988,-74.099626,-73.912167,-74.006638,-73.97635,-73.987149,-73.912989,-73.963476,-74.028842,-74.132645,-74.012722,-74.000792,-74.081643,-73.981795,-73.959285,-74.077266,-74.164277,-74.03015,-73.91287,-73.908987,-73.925989,-73.950473,-73.965595,-73.987396,-73.995022,-74.078508,-74.14497,-73.978822,-73.946279,-74.033779,-74.018826,-74.005378,-74.15097,-73.938265,-74.01512,-73.989672,-74.004485,-74.040046,-74.116997,-74.107148,-73.92793,-73.979995,-74.01913,-74.127101,-74.144297,-74.156439,-73.973898,-74.009223,-74.007645,-73.924417,-73.954724,-74.00374,-73.954655,-73.952929,-73.916735,-74.023948,-73.966558,-74.097826,-74.029036,-74.078611,-73.907925,-74.141818,-73.981528,-73.897262,-73.91079,-73.886412,-73.933582,-74.117509,-74.132919,-73.937339,-74.023849,-73.999215,-73.985955,-73.948159,-73.971651,-74.079922,-74.01976,-74.079141,-73.947253,-73.977642,-74.000731,-74.095378,-73.993482,-73.898254,-74.085135,-73.965523,-73.931151,-74.018997,-73.908806,-74.07873,-73.992948,-73.896212,-74.008252,-73.922732,-73.892264,-74.081222,-73.963208,-73.980761,-73.8989,-73.881671,-74.001903,-73.878441,-73.920977,-73.881114,-73.892022,-74.083406,-73.951891,-73.946374,-73.925948,-73.957138,-73.952821,-73.922171,-73.907774,-73.975607,-74.012289,-73.971736,-73.966046,-73.95855,-74.008105,-73.91402,-74.006862,-74.004743,-73.736395,-73.933114,-73.894854,-74.005889,-73.941089,-74.005197,-73.886547,-73.953742,-73.907245,-73.753207,-73.951583,-73.983115,-73.928018,-73.888852,-73.911053,-73.874756,-73.97618,-74.000652,-73.879354,-73.844432,-73.920109,-73.929076,-73.942458,-73.94629,-73.920368,-73.922919,-73.735176,-73.835068,-73.904901,-73.987637,-73.885387,-73.887023,-73.913933,-73.907355,-73.890288,-73.988297,-73.986534,-73.886942,-73.766733,-73.93994,-73.894441,-73.936382,-73.981289,-73.926959,-73.893754,-73.936049,-73.94922,-73.866092,-73.760249,-73.758748,-73.959031,-73.811701,-73.926246,-73.897723,-73.911705,-73.851216,-73.918107,-73.949013,-73.876563,-73.924057,-73.910904,-73.951167,-73.908214,-73.894747,-73.991046,-73.897835,-73.756839,-73.912351,-73.911499,-73.983195,-73.904726,-73.934635,-73.960675,-73.879614,-73.961962,-73.979287,-73.892822,-73.954972,-73.961695,-73.874208,-73.987787,-73.908194,-73.845141,-73.977783,-73.892844,-73.734043,-73.893896,-73.924329,-73.983947,-73.906552,-73.884803,-73.936924,-73.788164,-73.927973,-73.769252,-73.743173,-73.919594,-73.775951,-73.913273,-73.89643,-73.951443,-73.960254,-73.789399,-73.927794,-73.942639,-73.736713,-73.808371,-73.915778,-73.938843,-73.783342,-73.869469,-73.816938,-73.758505,-73.97038,-73.935688,-73.880337,-73.977367,-73.846773,-73.863151,-73.985258,-73.960058,-73.883433,-73.903953,-74.011558,-73.908734,-74.005166,-73.886936,-73.915843,-73.889758,-74.014363,-73.92032,-73.839948,-73.87596,-73.79562,-73.965541,-73.962105,-73.976497,-73.94684,-73.932407,-73.8106,-73.831547,-73.837298,-73.822078,-74.001377,-73.994938,-73.774432,-73.910644,-73.980491,-73.991949,-73.922264,-73.926597,-73.856918,-73.884063,-73.945446,-73.753429,-73.935963,-73.74992,-73.917088,-73.968769,-73.841202,-73.955338,-73.850121,-73.930813,-73.98027,-73.84747,-73.815834,-73.801479,-73.990993,-73.947152,-73.960659,-73.982639,-73.954302,-73.993351,-73.966291,-73.729982,-73.922463,-73.757319,-73.945229,-73.869625,-73.784144,-73.979649,-73.940747,-73.910693,-73.781247,-73.99806,-73.878547,-73.983579,-73.988288,-73.800415,-73.932275,-73.910276,-73.924833,-73.836205,-73.935499,-73.971009,-73.920906,-73.976905,-73.840717,-73.873109,-73.925506,-73.989132,-73.961478,-73.904803,-73.950433,-73.971376,-73.821657,-73.763907,-73.941342,-73.918152,-73.868328,-73.933697,-73.778923,-73.849006,-73.931731,-73.852636,-73.958794,-73.829407,-73.953034,-73.935765,-73.90864,-73.920666,-73.796727,-73.844631,-73.913056,-73.816617,-73.915263,-73.94756,-73.940744,-73.790675,-73.929107,-73.859659,-73.971165,-73.988853,-73.927931,-73.986015,-73.92814,-73.807364,-73.969243,-73.915142,-73.959571,-73.978215,-73.833681,-73.97578,-73.897405,-73.943652,-73.910791,-73.839213,-73.946641,-73.787192,-73.740948,-73.985016,-73.913171,-73.916521,-73.947809,-73.919777,-73.745728,-73.846558,-73.98054,-73.84796,-73.920711,-73.752654,-73.905556,-73.945042,-73.832356,-73.903799,-73.835299,-73.90214,-73.782302,-73.927481,-73.993241,-73.91748,-73.938884,-73.798151,-73.982314,-73.932338,-74.011631,-73.941801,-73.952985,-73.948869,-73.808352,-73.824221,-73.765838,-73.953146,-73.885107,-73.912344,-73.922702,-73.896374,-73.811771,-73.875183,-74.011556,-73.939407,-73.862208,-74.013302,-73.955611,-73.961476,-73.902584,-73.803444,-74.017818,-73.753579,-73.945475,-73.914998,-73.919805,-73.806412,-73.785626,-73.755269,-73.800065,-73.940002,-74.012332,-73.803938,-74.012022,-73.80166,-73.813376,-73.95465,-73.954217,-73.943641,-73.812508,-73.946977,-73.783423,-73.996631,-73.908814,-73.905286,-74.005472,-73.856698,-73.828628,-74.000851,-73.986542,-73.960275,-73.736624,-73.871238,-73.771195,-73.939722,-73.984497,-73.997489,-73.908306,-73.780468,-73.797237,-73.991339,-73.986336,-73.769439,-74.00557,-73.995087,-73.983724,-73.946108,-73.963,-73.853372,-73.954754,-73.886215,-73.956716,-73.800369,-73.843898,-73.990895,-73.979893,-74.011035,-73.993092,-73.903669,-73.794637,-74.013542,-73.989337,-74.013748,-74.010519,-73.984452,-73.806499,-73.979308,-73.998438,-73.912208,-73.975891,-73.983056,-73.977904,-73.948625,-73.875093,-73.757367,-73.819792,-73.985645,-73.731997,-73.747001,-73.86135,-73.823362,-73.986648,-73.979022,-73.953281,-73.990728,-73.851699,-73.837946,-73.942312,-73.986381,-73.98138,-74.004625,-73.810216,-73.777454,-73.845091,-73.810697,-73.9883,-73.949649,-73.975181,-73.95427,-73.806894,-73.735077,-73.978525,-73.863582,-74.005993,-73.890699,-73.893624,-73.845637,-74.006148,-73.982555,-73.983818,-73.818446,-73.887482,-73.992632,-73.853164,-73.805116,-73.717859,-73.73246,-73.853825,-73.983031,-74.006466,-73.984665,-73.738756,-73.877857,-73.897557,-73.709137,-73.821392,-73.795484,-73.860737,-73.982027,-73.823778,-73.987659,-73.878535,-73.999026,-73.867478,-73.980663,-73.753159,-73.994858,-73.851455,-73.813346,-73.887438,-73.77799,-73.853178,-73.794031,-73.86851,-73.756791,-73.887429,-73.824944,-73.982455,-73.989911,-73.985479,-73.882487,-73.9955,-73.822057,-73.928904,-73.926214,-73.854131,-73.809131,-73.79283,-73.874721,-73.918945,-73.991512,-73.999307,-73.779634,-73.986521,-73.712965,-74.002198,-73.928219,-73.922603,-73.892805,-73.863307,-73.936782,-74.002136,-73.959196,-73.929076,-73.870642,-73.788133,-73.709845,-73.972591,-74.000253,-73.93364,-73.957971,-73.978116,-73.936635,-73.996074,-73.767446,-73.90872,-73.829309,-73.923776,-73.880205,-73.727456,-73.727535,-73.981241,-73.758752,-73.727614,-73.727657,-73.854824,-73.990454,-73.745747,-73.94638,-73.999646,-73.865161,-73.86123,-73.777213,-73.888817,-73.867354,-73.822073,-73.721607,-73.880363,-73.937434,-73.937445,-73.817849,-73.75599,-73.707418,-73.893193,-73.900123,-73.884906,-73.99764,-73.760636,-73.873769,-73.826759,-73.887112,-73.874605,-73.927169,-73.869017,-73.855192,-73.984382,-73.799706,-73.772862,-73.925121,-73.729487,-73.934523,-73.770122,-73.932664,-73.926733,-73.875279,-73.908898,-73.983078,-73.859201,-73.910514,-73.879089,-73.874472,-73.824832,-73.93938,-73.967203,-73.912902,-73.731299,-73.784029,-73.820548,-73.941143,-73.811808,-73.988019,-73.995823,-73.872242,-73.914227,-73.733694,-73.990593,-73.95815,-73.964222,-73.985939,-73.947916,-73.871641,-73.794683,-73.790083,-73.8288,-73.82789,-73.992953,-73.960059,-73.9328,-73.988823,-73.930709,-73.922589,-73.923246,-73.987531,-73.989108,-73.922428,-73.749369,-73.783943,-73.770863,-73.953608,-73.894476,-73.828617,-73.951135,-73.739252,-73.924591,-73.831525,-73.929086,-73.90633,-73.780296,-73.987328,-73.987479,-73.958066,-73.914708,-73.985273,-73.984753,-73.819284,-73.982745,-73.953096,-73.819347,-73.90509,-73.960713,-73.947757,-73.984449,-73.800163,-73.843187,-73.916655,-73.948553,-73.94869,-73.976855,-73.955673,-73.977638,-73.779099,-73.794654,-73.945637,-73.807838,-73.949611,-73.941526,-73.97343,-73.942548,-73.974614,-73.818058,-73.979507,-73.971847,-73.944538,-73.939262,-73.967574,-73.944356,-73.839771,-73.884374,-73.947776,-73.970845,-73.946558,-73.951961,-73.809741,-73.947428,-73.942303,-73.942548,-73.949381,-73.934028,-73.968706,-73.938719,-73.948368,-73.973292,-73.94441,-73.930966,-73.936365,-73.930868,-73.966837,-73.94128,-73.949699,-73.949251,-73.933319,-73.964842,-73.962837,-73.937558,-73.939349,-73.954908,-73.947828,-73.954142,-73.942634,-73.965613,-73.935179,-73.948013,-73.921196,-73.951061,-73.912731,-73.939433,-73.955569,-73.940061,-73.926204,-73.917584,-73.919903,-73.939872,-73.917792,-73.923102,-73.957482,-73.955809,-73.955997,-73.907015,-73.948938,-73.909804,-73.953315,-73.906063,-73.937322,-73.913402,-73.925313,-73.908886,-73.920782,-73.900609,-73.943664,-73.886953,-73.951912,-73.85658,-73.905518,-73.945123,-73.955325,-73.902139,-73.952908,-73.88577,-73.91224,-73.944202,-73.914404,-73.930386,-73.92329,-73.911747,-73.860904,-73.947712,-73.898212,-73.953041,-73.902421,-73.950356,-73.856302,-73.919867,-73.91103,-73.868372,-73.91901,-73.905927,-73.908553,-73.957823,-73.944433,-73.898912,-73.893128,-73.949097,-73.951145,-73.881479,-73.862976,-73.917279,-73.940941,-73.903546,-73.876918,-73.856167,-73.923829,-73.893902,-73.907194,-73.818247,-73.853366,-73.889435,-73.921631,-73.923326,-73.907948,-73.859662,-73.898872,-73.880039,-73.93712,-73.936997,-73.906143,-73.873666,-73.937982,-73.946845,-73.894398,-73.818417,-73.91767,-73.897612,-73.829753,-73.918681,-73.904473,-73.900105,-73.914374,-73.900721,-73.945239,-73.856569,-73.917668,-73.856734,-73.850428,-73.944789,-73.887587,-73.877743,-73.88626,-73.902705,-73.887094,-73.942143,-73.894794,-73.877785,-73.878912,-73.898075,-73.906607,-73.91796,-73.82749,-73.926838,-73.911418,-73.866848,-73.914027,-73.90449,-73.902499,-73.942072,-73.887512,-73.923081,-73.846632,-73.941085,-73.900751,-73.825735,-73.928324,-73.920026,-73.890458,-73.888361,-73.905014,-73.937159,-73.892817,-73.913574,-73.8548,-73.866036,-73.853524,-73.927891,-73.902987,-73.936838,-73.901316,-73.936159,-73.925714,-73.880358,-73.915569,-73.844419,-73.91091,-73.838545,-73.881707,-73.904754,-73.898166,-73.938506,-73.875366,-73.891116,-73.838949,-73.916082,-73.920563,-73.889755,-73.903236,-73.785219,-73.884788,-73.907616,-73.913604,-73.858207,-73.89705,-73.940468,-73.829829,-73.886184,-73.899264,-73.887405,-73.935205,-73.889815,-73.903522,-73.89308,-73.888561,-73.908427,-73.893654,-73.909528,-73.930948,-73.859249,-73.91607,-73.892289,-73.934485,-73.883743,-73.934377,-73.886996,-73.865036,-73.918533,-73.898493,-73.91118,-73.885935,-73.866617,-73.921467,-73.927604,-73.893524,-73.894742,-73.934048,-73.863732,-73.905566,-73.896717,-73.913197,-73.853227,-73.903458,-73.881139,-73.892804,-73.882715,-73.927051,-73.916198,-73.937093,-73.897885,-73.898936,-73.9351,-73.904202,-73.907972,-73.909746,-73.890232,-73.922894,-73.886913,-73.894946,-73.927792,-73.861006,-73.906495,-73.900161,-73.888267,-73.927936,-73.930672,-73.869296,-73.891337,-73.90176,-73.864577,-73.846791,-73.859387,-73.83607,-73.887829,-73.824303,-73.921101,-73.894758,-73.924835,-73.850982,-73.923948,-73.890725,-73.917059,-73.89749,-73.901525,-73.861282,-73.89874,-73.878875,-73.898309,-73.912141,-73.911516,-73.875374,-73.883574,-73.833698,-73.905244,-73.833776,-73.895382,-73.833904,-73.868157,-73.902573,-73.875217,-73.833912,-73.833863,-73.901099,-73.86197,-73.912256,-73.881773,-73.89104,-73.906556,-73.851163,-73.909896,-73.910466,-73.87572,-73.860904,-73.905366,-73.839755,-73.88691,-73.891256,-73.830366,-73.833227,-73.840254,-73.840524,-73.843193,-73.877679,-73.913697,-73.859733,-73.852694,-73.913486,-73.838471,-73.861466,-73.845968,-73.8675,-73.854829,-73.905229],\"name\":\"\",\"radius\":10,\"subplot\":\"mapbox\",\"z\":[1.0,2.0,2.0,1.0,1.0,2.0,24.0,2.0,0.0,0.0,0.0,1.0,1.0,1.0,2.0,2.0,0.0,0.0,1.0,0.0,0.0,23.0,1.0,2.0,2.0,4.0,2.0,0.0,4.0,3.0,0.0,0.0,1.0,3.0,0.0,3.0,0.0,4.0,0.0,1.0,5.0,10.0,0.0,11.0,9.0,1.0,1.0,1.0,2.0,23.0,0.0,0.0,0.0,12.0,1.0,1.0,0.0,1.0,2.0,6.0,0.0,1.0,3.0,8.0,3.0,3.0,7.0,0.0,24.0,20.0,5.0,5.0,3.0,4.0,1.0,2.0,24.0,3.0,3.0,1.0,0.0,2.0,0.0,1.0,0.0,7.0,3.0,1.0,1.0,1.0,1.0,4.0,5.0,0.0,0.0,1.0,0.0,4.0,0.0,1.0,0.0,0.0,3.0,2.0,8.0,0.0,1.0,15.0,2.0,3.0,0.0,2.0,1.0,2.0,1.0,4.0,10.0,0.0,0.0,0.0,0.0,0.0,1.0,1.0,1.0,0.0,1.0,1.0,0.0,0.0,1.0,14.0,9.0,23.0,2.0,0.0,0.0,1.0,1.0,2.0,2.0,1.0,0.0,2.0,6.0,14.0,0.0,3.0,0.0,0.0,4.0,2.0,0.0,2.0,4.0,0.0,21.0,12.0,2.0,0.0,3.0,1.0,0.0,1.0,2.0,0.0,0.0,0.0,2.0,0.0,1.0,1.0,18.0,16.0,2.0,1.0,14.0,2.0,0.0,1.0,21.0,5.0,3.0,7.0,1.0,1.0,1.0,1.0,0.0,5.0,0.0,0.0,0.0,2.0,1.0,1.0,4.0,0.0,1.0,8.0,1.0,0.0,5.0,0.0,2.0,0.0,6.0,3.0,5.0,3.0,4.0,3.0,0.0,0.0,43.0,1.0,0.0,1.0,0.0,0.0,0.0,5.0,0.0,3.0,0.0,0.0,5.0,0.0,1.0,9.0,32.0,1.0,2.0,2.0,1.0,2.0,15.0,0.0,0.0,1.0,0.0,2.0,0.0,0.0,15.0,0.0,4.0,8.0,2.0,6.0,0.0,4.0,0.0,0.0,0.0,5.0,7.0,2.0,1.0,0.0,2.0,1.0,16.0,18.0,2.0,4.0,0.0,3.0,0.0,0.0,5.0,8.0,1.0,2.0,3.0,3.0,1.0,3.0,0.0,0.0,5.0,4.0,15.0,2.0,1.0,0.0,2.0,11.0,1.0,0.0,20.0,6.0,2.0,3.0,5.0,17.0,0.0,4.0,1.0,4.0,7.0,9.0,10.0,4.0,12.0,1.0,0.0,12.0,9.0,2.0,0.0,2.0,1.0,3.0,6.0,9.0,19.0,1.0,4.0,11.0,7.0,0.0,2.0,5.0,0.0,0.0,0.0,6.0,4.0,2.0,2.0,1.0,1.0,1.0,5.0,0.0,4.0,10.0,7.0,8.0,1.0,3.0,4.0,1.0,5.0,2.0,2.0,0.0,2.0,8.0,12.0,3.0,14.0,1.0,0.0,2.0,2.0,10.0,0.0,0.0,3.0,3.0,12.0,13.0,5.0,2.0,1.0,0.0,22.0,2.0,2.0,1.0,6.0,8.0,0.0,2.0,8.0,0.0,4.0,16.0,0.0,0.0,11.0,0.0,10.0,2.0,0.0,4.0,0.0,11.0,5.0,3.0,0.0,2.0,2.0,3.0,2.0,0.0,2.0,9.0,0.0,2.0,0.0,5.0,17.0,5.0,2.0,10.0,1.0,5.0,1.0,3.0,3.0,15.0,3.0,1.0,2.0,0.0,3.0,1.0,6.0,4.0,0.0,1.0,0.0,0.0,0.0,1.0,3.0,0.0,9.0,5.0,2.0,5.0,4.0,8.0,9.0,8.0,8.0,0.0,0.0,4.0,0.0,1.0,1.0,1.0,1.0,0.0,0.0,0.0,8.0,11.0,5.0,0.0,3.0,0.0,8.0,0.0,3.0,3.0,0.0,1.0,0.0,0.0,2.0,0.0,2.0,3.0,1.0,1.0,3.0,0.0,4.0,3.0,1.0,8.0,1.0,0.0,6.0,1.0,2.0,3.0,8.0,6.0,1.0,1.0,16.0,1.0,5.0,6.0,3.0,9.0,0.0,3.0,1.0,12.0,8.0,1.0,3.0,2.0,2.0,1.0,2.0,6.0,0.0,1.0,0.0,3.0,3.0,6.0,4.0,0.0,0.0,0.0,1.0,6.0,3.0,5.0,0.0,3.0,1.0,0.0,3.0,15.0,1.0,0.0,1.0,0.0,0.0,4.0,0.0,7.0,0.0,12.0,6.0,1.0,3.0,0.0,2.0,11.0,0.0,1.0,0.0,3.0,1.0,1.0,0.0,3.0,9.0,0.0,9.0,17.0,1.0,1.0,0.0,13.0,7.0,3.0,1.0,2.0,3.0,2.0,1.0,6.0,1.0,18.0,4.0,2.0,0.0,0.0,3.0,36.0,2.0,3.0,0.0,5.0,9.0,2.0,18.0,0.0,0.0,1.0,8.0,1.0,4.0,0.0,15.0,2.0,0.0,15.0,2.0,1.0,1.0,1.0,10.0,3.0,2.0,1.0,19.0,3.0,1.0,3.0,2.0,6.0,0.0,0.0,0.0,0.0,4.0,8.0,0.0,0.0,4.0,11.0,1.0,4.0,0.0,1.0,4.0,3.0,7.0,11.0,8.0,0.0,1.0,1.0,8.0,5.0,4.0,0.0,1.0,8.0,4.0,4.0,1.0,0.0,1.0,1.0,2.0,0.0,6.0,1.0,2.0,16.0,0.0,6.0,5.0,1.0,7.0,1.0,0.0,0.0,0.0,0.0,4.0,16.0,4.0,4.0,15.0,0.0,0.0,1.0,5.0,2.0,0.0,6.0,0.0,18.0,0.0,0.0,1.0,6.0,0.0,2.0,1.0,1.0,0.0,1.0,4.0,3.0,0.0,0.0,4.0,22.0,2.0,2.0,4.0,0.0,0.0,1.0,0.0,1.0,1.0,0.0,19.0,9.0,2.0,2.0,3.0,0.0,2.0,3.0,7.0,6.0,0.0,1.0,5.0,3.0,36.0,5.0,5.0,5.0,1.0,0.0,0.0,1.0,1.0,0.0,1.0,3.0,18.0,2.0,2.0,2.0,2.0,1.0,0.0,4.0,9.0,0.0,0.0,0.0,0.0,4.0,1.0,6.0,3.0,2.0,0.0,0.0,0.0,1.0,2.0,0.0,0.0,3.0,2.0,1.0,31.0,1.0,4.0,3.0,0.0,0.0,0.0,1.0,0.0,2.0,0.0,0.0,2.0,1.0,4.0,0.0,2.0,1.0,1.0,1.0,1.0,3.0,1.0,0.0,0.0,16.0,0.0,22.0,0.0,4.0,1.0,2.0,16.0,4.0,0.0,0.0,3.0,0.0,0.0,5.0,2.0,0.0,0.0,2.0,16.0,2.0,0.0,5.0,0.0,4.0,1.0,4.0,2.0,27.0,17.0,5.0,7.0,5.0,1.0,0.0,0.0,8.0,0.0,1.0,0.0,0.0,1.0,0.0,0.0,3.0,3.0,0.0,1.0,0.0,0.0,1.0,14.0,5.0,0.0,5.0,1.0,8.0,15.0,0.0,0.0,0.0,3.0,1.0,1.0,1.0,1.0,1.0,0.0,0.0,1.0,0.0,6.0,3.0,0.0,0.0,2.0,10.0,2.0,3.0,8.0,1.0,7.0,17.0,1.0,3.0,1.0,3.0,4.0,2.0,2.0,0.0,0.0,2.0,2.0,1.0,4.0,0.0,3.0,9.0,5.0,3.0,8.0,0.0,3.0,3.0,3.0,8.0,0.0,7.0,3.0,12.0,5.0,1.0,9.0,5.0,4.0,7.0,7.0,4.0,2.0,1.0,17.0,2.0,10.0,3.0,5.0,4.0,3.0,2.0,4.0,4.0,3.0,4.0,1.0,4.0,1.0,2.0,2.0,2.0,0.0,3.0,7.0,1.0,9.0,0.0,1.0,2.0,6.0,10.0,0.0,12.0,1.0,5.0,2.0,1.0,19.0,0.0,6.0,9.0,2.0,0.0,7.0,8.0,11.0,0.0,9.0,3.0,3.0,1.0,11.0,8.0,0.0,0.0,36.0,2.0,4.0,5.0,2.0,1.0,12.0,1.0,3.0,4.0,5.0,9.0,0.0,4.0,4.0,2.0,1.0,10.0,10.0,3.0,15.0,16.0,4.0,3.0,1.0,0.0,2.0,3.0,3.0,3.0,5.0,13.0,1.0,12.0,2.0,3.0,4.0,0.0,2.0,7.0,5.0,4.0,3.0,1.0,6.0,10.0,16.0,11.0,3.0,1.0,2.0,3.0,5.0,2.0,2.0,2.0,13.0,4.0,3.0,1.0,6.0,3.0,7.0,13.0,8.0,4.0,1.0,0.0,1.0,3.0,6.0,14.0,5.0,6.0,3.0,2.0,2.0,2.0,1.0,2.0,1.0,2.0,0.0,9.0,12.0,2.0,2.0,4.0,0.0,2.0,3.0,4.0,1.0,1.0,0.0,11.0,5.0,0.0,6.0,0.0,4.0,8.0,30.0,2.0,5.0,5.0,2.0,10.0,12.0,1.0,1.0,0.0,12.0,6.0,0.0,9.0,1.0,0.0,1.0,3.0,2.0,4.0,6.0,0.0,0.0,2.0,3.0,0.0,8.0,4.0,2.0,1.0,0.0,7.0,2.0,2.0,6.0,2.0,0.0,5.0,0.0,11.0,1.0,1.0,12.0,0.0,0.0,8.0,1.0,3.0,0.0,1.0,0.0,2.0,8.0,6.0,1.0,2.0,2.0,0.0,4.0,18.0,1.0,3.0,0.0,4.0,1.0,1.0,2.0,5.0,3.0,1.0,2.0,4.0,3.0,12.0,1.0,2.0,24.0,2.0,6.0,1.0,0.0,0.0,6.0,1.0,3.0,5.0,1.0,4.0,1.0,0.0,6.0,2.0,1.0,1.0,3.0,0.0,0.0,3.0,2.0,2.0,3.0,1.0,2.0,0.0,6.0,3.0,0.0,0.0,0.0,11.0,4.0,2.0,0.0,12.0,7.0,6.0,27.0,46.0,5.0,4.0,0.0,3.0,6.0,0.0,3.0,9.0,0.0,1.0,13.0,6.0,6.0,1.0,4.0,10.0,0.0,0.0,0.0,0.0,10.0,5.0,5.0,1.0,0.0,0.0,0.0,1.0],\"type\":\"densitymapbox\"}],                        {\"template\":{\"data\":{\"histogram2dcontour\":[{\"type\":\"histogram2dcontour\",\"colorbar\":{\"outlinewidth\":0,\"ticks\":\"\"},\"colorscale\":[[0.0,\"#0d0887\"],[0.1111111111111111,\"#46039f\"],[0.2222222222222222,\"#7201a8\"],[0.3333333333333333,\"#9c179e\"],[0.4444444444444444,\"#bd3786\"],[0.5555555555555556,\"#d8576b\"],[0.6666666666666666,\"#ed7953\"],[0.7777777777777778,\"#fb9f3a\"],[0.8888888888888888,\"#fdca26\"],[1.0,\"#f0f921\"]]}],\"choropleth\":[{\"type\":\"choropleth\",\"colorbar\":{\"outlinewidth\":0,\"ticks\":\"\"}}],\"histogram2d\":[{\"type\":\"histogram2d\",\"colorbar\":{\"outlinewidth\":0,\"ticks\":\"\"},\"colorscale\":[[0.0,\"#0d0887\"],[0.1111111111111111,\"#46039f\"],[0.2222222222222222,\"#7201a8\"],[0.3333333333333333,\"#9c179e\"],[0.4444444444444444,\"#bd3786\"],[0.5555555555555556,\"#d8576b\"],[0.6666666666666666,\"#ed7953\"],[0.7777777777777778,\"#fb9f3a\"],[0.8888888888888888,\"#fdca26\"],[1.0,\"#f0f921\"]]}],\"heatmap\":[{\"type\":\"heatmap\",\"colorbar\":{\"outlinewidth\":0,\"ticks\":\"\"},\"colorscale\":[[0.0,\"#0d0887\"],[0.1111111111111111,\"#46039f\"],[0.2222222222222222,\"#7201a8\"],[0.3333333333333333,\"#9c179e\"],[0.4444444444444444,\"#bd3786\"],[0.5555555555555556,\"#d8576b\"],[0.6666666666666666,\"#ed7953\"],[0.7777777777777778,\"#fb9f3a\"],[0.8888888888888888,\"#fdca26\"],[1.0,\"#f0f921\"]]}],\"heatmapgl\":[{\"type\":\"heatmapgl\",\"colorbar\":{\"outlinewidth\":0,\"ticks\":\"\"},\"colorscale\":[[0.0,\"#0d0887\"],[0.1111111111111111,\"#46039f\"],[0.2222222222222222,\"#7201a8\"],[0.3333333333333333,\"#9c179e\"],[0.4444444444444444,\"#bd3786\"],[0.5555555555555556,\"#d8576b\"],[0.6666666666666666,\"#ed7953\"],[0.7777777777777778,\"#fb9f3a\"],[0.8888888888888888,\"#fdca26\"],[1.0,\"#f0f921\"]]}],\"contourcarpet\":[{\"type\":\"contourcarpet\",\"colorbar\":{\"outlinewidth\":0,\"ticks\":\"\"}}],\"contour\":[{\"type\":\"contour\",\"colorbar\":{\"outlinewidth\":0,\"ticks\":\"\"},\"colorscale\":[[0.0,\"#0d0887\"],[0.1111111111111111,\"#46039f\"],[0.2222222222222222,\"#7201a8\"],[0.3333333333333333,\"#9c179e\"],[0.4444444444444444,\"#bd3786\"],[0.5555555555555556,\"#d8576b\"],[0.6666666666666666,\"#ed7953\"],[0.7777777777777778,\"#fb9f3a\"],[0.8888888888888888,\"#fdca26\"],[1.0,\"#f0f921\"]]}],\"surface\":[{\"type\":\"surface\",\"colorbar\":{\"outlinewidth\":0,\"ticks\":\"\"},\"colorscale\":[[0.0,\"#0d0887\"],[0.1111111111111111,\"#46039f\"],[0.2222222222222222,\"#7201a8\"],[0.3333333333333333,\"#9c179e\"],[0.4444444444444444,\"#bd3786\"],[0.5555555555555556,\"#d8576b\"],[0.6666666666666666,\"#ed7953\"],[0.7777777777777778,\"#fb9f3a\"],[0.8888888888888888,\"#fdca26\"],[1.0,\"#f0f921\"]]}],\"mesh3d\":[{\"type\":\"mesh3d\",\"colorbar\":{\"outlinewidth\":0,\"ticks\":\"\"}}],\"scatter\":[{\"marker\":{\"line\":{\"color\":\"#283442\"}},\"type\":\"scatter\"}],\"parcoords\":[{\"type\":\"parcoords\",\"line\":{\"colorbar\":{\"outlinewidth\":0,\"ticks\":\"\"}}}],\"scatterpolargl\":[{\"type\":\"scatterpolargl\",\"marker\":{\"colorbar\":{\"outlinewidth\":0,\"ticks\":\"\"}}}],\"bar\":[{\"error_x\":{\"color\":\"#f2f5fa\"},\"error_y\":{\"color\":\"#f2f5fa\"},\"marker\":{\"line\":{\"color\":\"rgb(17,17,17)\",\"width\":0.5},\"pattern\":{\"fillmode\":\"overlay\",\"size\":10,\"solidity\":0.2}},\"type\":\"bar\"}],\"scattergeo\":[{\"type\":\"scattergeo\",\"marker\":{\"colorbar\":{\"outlinewidth\":0,\"ticks\":\"\"}}}],\"scatterpolar\":[{\"type\":\"scatterpolar\",\"marker\":{\"colorbar\":{\"outlinewidth\":0,\"ticks\":\"\"}}}],\"histogram\":[{\"marker\":{\"pattern\":{\"fillmode\":\"overlay\",\"size\":10,\"solidity\":0.2}},\"type\":\"histogram\"}],\"scattergl\":[{\"marker\":{\"line\":{\"color\":\"#283442\"}},\"type\":\"scattergl\"}],\"scatter3d\":[{\"type\":\"scatter3d\",\"line\":{\"colorbar\":{\"outlinewidth\":0,\"ticks\":\"\"}},\"marker\":{\"colorbar\":{\"outlinewidth\":0,\"ticks\":\"\"}}}],\"scattermapbox\":[{\"type\":\"scattermapbox\",\"marker\":{\"colorbar\":{\"outlinewidth\":0,\"ticks\":\"\"}}}],\"scatterternary\":[{\"type\":\"scatterternary\",\"marker\":{\"colorbar\":{\"outlinewidth\":0,\"ticks\":\"\"}}}],\"scattercarpet\":[{\"type\":\"scattercarpet\",\"marker\":{\"colorbar\":{\"outlinewidth\":0,\"ticks\":\"\"}}}],\"carpet\":[{\"aaxis\":{\"endlinecolor\":\"#A2B1C6\",\"gridcolor\":\"#506784\",\"linecolor\":\"#506784\",\"minorgridcolor\":\"#506784\",\"startlinecolor\":\"#A2B1C6\"},\"baxis\":{\"endlinecolor\":\"#A2B1C6\",\"gridcolor\":\"#506784\",\"linecolor\":\"#506784\",\"minorgridcolor\":\"#506784\",\"startlinecolor\":\"#A2B1C6\"},\"type\":\"carpet\"}],\"table\":[{\"cells\":{\"fill\":{\"color\":\"#506784\"},\"line\":{\"color\":\"rgb(17,17,17)\"}},\"header\":{\"fill\":{\"color\":\"#2a3f5f\"},\"line\":{\"color\":\"rgb(17,17,17)\"}},\"type\":\"table\"}],\"barpolar\":[{\"marker\":{\"line\":{\"color\":\"rgb(17,17,17)\",\"width\":0.5},\"pattern\":{\"fillmode\":\"overlay\",\"size\":10,\"solidity\":0.2}},\"type\":\"barpolar\"}],\"pie\":[{\"automargin\":true,\"type\":\"pie\"}]},\"layout\":{\"autotypenumbers\":\"strict\",\"colorway\":[\"#636efa\",\"#EF553B\",\"#00cc96\",\"#ab63fa\",\"#FFA15A\",\"#19d3f3\",\"#FF6692\",\"#B6E880\",\"#FF97FF\",\"#FECB52\"],\"font\":{\"color\":\"#f2f5fa\"},\"hovermode\":\"closest\",\"hoverlabel\":{\"align\":\"left\"},\"paper_bgcolor\":\"rgb(17,17,17)\",\"plot_bgcolor\":\"rgb(17,17,17)\",\"polar\":{\"bgcolor\":\"rgb(17,17,17)\",\"angularaxis\":{\"gridcolor\":\"#506784\",\"linecolor\":\"#506784\",\"ticks\":\"\"},\"radialaxis\":{\"gridcolor\":\"#506784\",\"linecolor\":\"#506784\",\"ticks\":\"\"}},\"ternary\":{\"bgcolor\":\"rgb(17,17,17)\",\"aaxis\":{\"gridcolor\":\"#506784\",\"linecolor\":\"#506784\",\"ticks\":\"\"},\"baxis\":{\"gridcolor\":\"#506784\",\"linecolor\":\"#506784\",\"ticks\":\"\"},\"caxis\":{\"gridcolor\":\"#506784\",\"linecolor\":\"#506784\",\"ticks\":\"\"}},\"coloraxis\":{\"colorbar\":{\"outlinewidth\":0,\"ticks\":\"\"}},\"colorscale\":{\"sequential\":[[0.0,\"#0d0887\"],[0.1111111111111111,\"#46039f\"],[0.2222222222222222,\"#7201a8\"],[0.3333333333333333,\"#9c179e\"],[0.4444444444444444,\"#bd3786\"],[0.5555555555555556,\"#d8576b\"],[0.6666666666666666,\"#ed7953\"],[0.7777777777777778,\"#fb9f3a\"],[0.8888888888888888,\"#fdca26\"],[1.0,\"#f0f921\"]],\"sequentialminus\":[[0.0,\"#0d0887\"],[0.1111111111111111,\"#46039f\"],[0.2222222222222222,\"#7201a8\"],[0.3333333333333333,\"#9c179e\"],[0.4444444444444444,\"#bd3786\"],[0.5555555555555556,\"#d8576b\"],[0.6666666666666666,\"#ed7953\"],[0.7777777777777778,\"#fb9f3a\"],[0.8888888888888888,\"#fdca26\"],[1.0,\"#f0f921\"]],\"diverging\":[[0,\"#8e0152\"],[0.1,\"#c51b7d\"],[0.2,\"#de77ae\"],[0.3,\"#f1b6da\"],[0.4,\"#fde0ef\"],[0.5,\"#f7f7f7\"],[0.6,\"#e6f5d0\"],[0.7,\"#b8e186\"],[0.8,\"#7fbc41\"],[0.9,\"#4d9221\"],[1,\"#276419\"]]},\"xaxis\":{\"gridcolor\":\"#283442\",\"linecolor\":\"#506784\",\"ticks\":\"\",\"title\":{\"standoff\":15},\"zerolinecolor\":\"#283442\",\"automargin\":true,\"zerolinewidth\":2},\"yaxis\":{\"gridcolor\":\"#283442\",\"linecolor\":\"#506784\",\"ticks\":\"\",\"title\":{\"standoff\":15},\"zerolinecolor\":\"#283442\",\"automargin\":true,\"zerolinewidth\":2},\"scene\":{\"xaxis\":{\"backgroundcolor\":\"rgb(17,17,17)\",\"gridcolor\":\"#506784\",\"linecolor\":\"#506784\",\"showbackground\":true,\"ticks\":\"\",\"zerolinecolor\":\"#C8D4E3\",\"gridwidth\":2},\"yaxis\":{\"backgroundcolor\":\"rgb(17,17,17)\",\"gridcolor\":\"#506784\",\"linecolor\":\"#506784\",\"showbackground\":true,\"ticks\":\"\",\"zerolinecolor\":\"#C8D4E3\",\"gridwidth\":2},\"zaxis\":{\"backgroundcolor\":\"rgb(17,17,17)\",\"gridcolor\":\"#506784\",\"linecolor\":\"#506784\",\"showbackground\":true,\"ticks\":\"\",\"zerolinecolor\":\"#C8D4E3\",\"gridwidth\":2}},\"shapedefaults\":{\"line\":{\"color\":\"#f2f5fa\"}},\"annotationdefaults\":{\"arrowcolor\":\"#f2f5fa\",\"arrowhead\":0,\"arrowwidth\":1},\"geo\":{\"bgcolor\":\"rgb(17,17,17)\",\"landcolor\":\"rgb(17,17,17)\",\"subunitcolor\":\"#506784\",\"showland\":true,\"showlakes\":true,\"lakecolor\":\"rgb(17,17,17)\"},\"title\":{\"x\":0.05},\"updatemenudefaults\":{\"bgcolor\":\"#506784\",\"borderwidth\":0},\"sliderdefaults\":{\"bgcolor\":\"#C8D4E3\",\"borderwidth\":1,\"bordercolor\":\"rgb(17,17,17)\",\"tickwidth\":0},\"mapbox\":{\"style\":\"dark\"}}},\"mapbox\":{\"domain\":{\"x\":[0.0,1.0],\"y\":[0.0,1.0]},\"center\":{\"lat\":40,\"lon\":-75},\"zoom\":0,\"style\":\"open-street-map\"},\"coloraxis\":{\"colorbar\":{\"title\":{\"text\":\"Prop N\"}},\"colorscale\":[[0.0,\"#0d0887\"],[0.1111111111111111,\"#46039f\"],[0.2222222222222222,\"#7201a8\"],[0.3333333333333333,\"#9c179e\"],[0.4444444444444444,\"#bd3786\"],[0.5555555555555556,\"#d8576b\"],[0.6666666666666666,\"#ed7953\"],[0.7777777777777778,\"#fb9f3a\"],[0.8888888888888888,\"#fdca26\"],[1.0,\"#f0f921\"]]},\"legend\":{\"tracegroupgap\":0},\"margin\":{\"t\":60}},                        {\"responsive\": true}                    ).then(function(){\n                            \nvar gd = document.getElementById('9fdfc8e2-6225-4ab5-8f09-43550d4b608d');\nvar x = new MutationObserver(function (mutations, observer) {{\n        var display = window.getComputedStyle(gd).display;\n        if (!display || display === 'none') {{\n            console.log([gd, 'removed!']);\n            Plotly.purge(gd);\n            observer.disconnect();\n        }}\n}});\n\n// Listen for the removal of the full notebook cells\nvar notebookContainer = gd.closest('#notebook-container');\nif (notebookContainer) {{\n    x.observe(notebookContainer, {childList: true});\n}}\n\n// Listen for the clearing of the current output cell\nvar outputEl = gd.closest('.output');\nif (outputEl) {{\n    x.observe(outputEl, {childList: true});\n}}\n\n                        })                };                });            </script>        </div>"
     },
     "metadata": {},
     "output_type": "display_data"
    }
   ],
   "source": [
    "\n",
    "fig = px.density_mapbox(map_df, lat='Latitude', lon='Longitude', z='Prop N', radius=10,\n",
    "                        center=dict(lat=40, lon=-75), zoom=0,\n",
    "                        mapbox_style=\"open-street-map\")\n",
    "fig.show()"
   ],
   "metadata": {
    "collapsed": false,
    "ExecuteTime": {
     "end_time": "2024-01-20T22:10:33.068385300Z",
     "start_time": "2024-01-20T22:10:33.004866700Z"
    }
   },
   "id": "b9ce0de075efee52"
  }
 ],
 "metadata": {
  "kernelspec": {
   "display_name": "Python 3",
   "language": "python",
   "name": "python3"
  },
  "language_info": {
   "codemirror_mode": {
    "name": "ipython",
    "version": 2
   },
   "file_extension": ".py",
   "mimetype": "text/x-python",
   "name": "python",
   "nbconvert_exporter": "python",
   "pygments_lexer": "ipython2",
   "version": "2.7.6"
  }
 },
 "nbformat": 4,
 "nbformat_minor": 5
}
