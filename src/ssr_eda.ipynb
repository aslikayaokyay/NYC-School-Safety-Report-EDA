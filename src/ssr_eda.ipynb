{
 "cells": [
  {
   "cell_type": "code",
   "execution_count": 1,
   "id": "initial_id",
   "metadata": {
    "collapsed": true,
    "ExecuteTime": {
     "end_time": "2024-01-17T22:05:36.436333300Z",
     "start_time": "2024-01-17T22:05:36.430692500Z"
    }
   },
   "outputs": [],
   "source": [
    "# Import Libraries\n",
    "\n",
    "import pandas as pd\n",
    "import numpy as np\n",
    "import matplotlib.pyplot as plt\n",
    "import seaborn as sns\n",
    "import plotly\n"
   ]
  },
  {
   "cell_type": "code",
   "execution_count": 16,
   "outputs": [
    {
     "data": {
      "text/plain": "     School Year Building Code           DBN  \\\n0        2013-14          K001        15K001   \n1        2013-14          K002        17K002   \n2        2013-14          K002        75K141   \n3        2013-14          K002  84K704         \n4        2013-14          K002           NaN   \n...          ...           ...           ...   \n6305     2015-16          X972        08X519   \n6306     2015-16          X972        08X537   \n6307     2015-16          X972           NaN   \n6308     2015-16          X973        12X271   \n6309     2015-16          X991        79X695   \n\n                                          Location Name Location Code  \\\n0                                   P.S. 001 The Bergen          K001   \n1                          Parkside Preparatory Academy          K002   \n2                                             P.S. K141          K141   \n3                                Explore Charter School          K704   \n4             655 PARKSIDE AVENUE CONSOLIDATED LOCATION           NaN   \n...                                                 ...           ...   \n6305  Felisa Rincon de Gautier Institute for Law and...          X519   \n6306                            Bronx Arena High School          X537   \n6307            1440 STORY AVENUE CONSOLIDATED LOCATION           NaN   \n6308                  East Bronx Academy for the Future          X271   \n6309                                   Passages Academy          X695   \n\n                      Address Borough  Geographical District Code Register  \\\n0               309 47 STREET       K                        15.0    1,277   \n1         655 PARKSIDE AVENUE       K                        17.0      479   \n2         655 PARKSIDE AVENUE       K                        17.0      397   \n3         655 PARKSIDE AVENUE       K                        17.0      NaN   \n4         655 PARKSIDE AVENUE       K                        17.0      876   \n...                       ...     ...                         ...      ...   \n6305        1440 STORY AVENUE       X                         8.0      275   \n6306        1440 STORY AVENUE       X                         8.0      215   \n6307        1440 STORY AVENUE       X                         8.0      490   \n6308  1716 SOUTHERN BOULEVARD       X                        12.0      665   \n6309         560 BROOK AVENUE       X                         7.0      254   \n\n                                  Building Name  ...  Borough Name Postcode  \\\n0                                           NaN  ...     BROOKLYN   11220.0   \n1     655 PARKSIDE AVENUE CONSOLIDATED LOCATION  ...     BROOKLYN   11226.0   \n2     655 PARKSIDE AVENUE CONSOLIDATED LOCATION  ...     BROOKLYN   11226.0   \n3     655 PARKSIDE AVENUE CONSOLIDATED LOCATION  ...     BROOKLYN   11226.0   \n4     655 PARKSIDE AVENUE CONSOLIDATED LOCATION  ...     BROOKLYN   11226.0   \n...                                         ...  ...           ...      ...   \n6305    1440 STORY AVENUE CONSOLIDATED LOCATION  ...     BRONX      10473.0   \n6306    1440 STORY AVENUE CONSOLIDATED LOCATION  ...     BRONX      10473.0   \n6307    1440 STORY AVENUE CONSOLIDATED LOCATION  ...     BRONX      10473.0   \n6308                                        NaN  ...     BRONX      10460.0   \n6309                                        NaN  ...     BRONX      10455.0   \n\n       Latitude  Longitude  Community Board  Council District   Census Tract  \\\n0     40.649042 -74.012289              7.0               38.0          80.0   \n1     40.656183 -73.951583              9.0               40.0         802.0   \n2     40.656183 -73.951583              9.0               40.0         802.0   \n3     40.656183 -73.951583              9.0               40.0         802.0   \n4     40.656183 -73.951583              9.0               40.0         802.0   \n...         ...        ...              ...                ...           ...   \n6305  40.821146 -73.881479              9.0               17.0          28.0   \n6306  40.821146 -73.881479              9.0               17.0          28.0   \n6307  40.821146 -73.881479              9.0               17.0          28.0   \n6308  40.836356 -73.888361              3.0               17.0         161.0   \n6309  40.815878 -73.914404              1.0               17.0          71.0   \n\n            BIN           BBL  \\\n0     3011821.0  3.007550e+09   \n1     3378201.0  3.050500e+09   \n2     3378201.0  3.050500e+09   \n3     3378201.0  3.050500e+09   \n4     3378201.0  3.050500e+09   \n...         ...           ...   \n6305  2022544.0  2.036220e+09   \n6306  2022544.0  2.036220e+09   \n6307  2022544.0  2.036220e+09   \n6308  2010604.0  2.029830e+09   \n6309  2000133.0  2.022760e+09   \n\n                                                    NTA  \n0     Sunset Park West                              ...  \n1     Prospect Lefferts Gardens-Wingate             ...  \n2     Prospect Lefferts Gardens-Wingate             ...  \n3     Prospect Lefferts Gardens-Wingate             ...  \n4     Prospect Lefferts Gardens-Wingate             ...  \n...                                                 ...  \n6305  Soundview-Castle Hill-Clason Point-Harding Par...  \n6306  Soundview-Castle Hill-Clason Point-Harding Par...  \n6307  Soundview-Castle Hill-Clason Point-Harding Par...  \n6308  Crotona Park East                             ...  \n6309  Melrose South-Mott Haven North                ...  \n\n[6310 rows x 34 columns]",
      "text/html": "<div>\n<style scoped>\n    .dataframe tbody tr th:only-of-type {\n        vertical-align: middle;\n    }\n\n    .dataframe tbody tr th {\n        vertical-align: top;\n    }\n\n    .dataframe thead th {\n        text-align: right;\n    }\n</style>\n<table border=\"1\" class=\"dataframe\">\n  <thead>\n    <tr style=\"text-align: right;\">\n      <th></th>\n      <th>School Year</th>\n      <th>Building Code</th>\n      <th>DBN</th>\n      <th>Location Name</th>\n      <th>Location Code</th>\n      <th>Address</th>\n      <th>Borough</th>\n      <th>Geographical District Code</th>\n      <th>Register</th>\n      <th>Building Name</th>\n      <th>...</th>\n      <th>Borough Name</th>\n      <th>Postcode</th>\n      <th>Latitude</th>\n      <th>Longitude</th>\n      <th>Community Board</th>\n      <th>Council District</th>\n      <th>Census Tract</th>\n      <th>BIN</th>\n      <th>BBL</th>\n      <th>NTA</th>\n    </tr>\n  </thead>\n  <tbody>\n    <tr>\n      <th>0</th>\n      <td>2013-14</td>\n      <td>K001</td>\n      <td>15K001</td>\n      <td>P.S. 001 The Bergen</td>\n      <td>K001</td>\n      <td>309 47 STREET</td>\n      <td>K</td>\n      <td>15.0</td>\n      <td>1,277</td>\n      <td>NaN</td>\n      <td>...</td>\n      <td>BROOKLYN</td>\n      <td>11220.0</td>\n      <td>40.649042</td>\n      <td>-74.012289</td>\n      <td>7.0</td>\n      <td>38.0</td>\n      <td>80.0</td>\n      <td>3011821.0</td>\n      <td>3.007550e+09</td>\n      <td>Sunset Park West                              ...</td>\n    </tr>\n    <tr>\n      <th>1</th>\n      <td>2013-14</td>\n      <td>K002</td>\n      <td>17K002</td>\n      <td>Parkside Preparatory Academy</td>\n      <td>K002</td>\n      <td>655 PARKSIDE AVENUE</td>\n      <td>K</td>\n      <td>17.0</td>\n      <td>479</td>\n      <td>655 PARKSIDE AVENUE CONSOLIDATED LOCATION</td>\n      <td>...</td>\n      <td>BROOKLYN</td>\n      <td>11226.0</td>\n      <td>40.656183</td>\n      <td>-73.951583</td>\n      <td>9.0</td>\n      <td>40.0</td>\n      <td>802.0</td>\n      <td>3378201.0</td>\n      <td>3.050500e+09</td>\n      <td>Prospect Lefferts Gardens-Wingate             ...</td>\n    </tr>\n    <tr>\n      <th>2</th>\n      <td>2013-14</td>\n      <td>K002</td>\n      <td>75K141</td>\n      <td>P.S. K141</td>\n      <td>K141</td>\n      <td>655 PARKSIDE AVENUE</td>\n      <td>K</td>\n      <td>17.0</td>\n      <td>397</td>\n      <td>655 PARKSIDE AVENUE CONSOLIDATED LOCATION</td>\n      <td>...</td>\n      <td>BROOKLYN</td>\n      <td>11226.0</td>\n      <td>40.656183</td>\n      <td>-73.951583</td>\n      <td>9.0</td>\n      <td>40.0</td>\n      <td>802.0</td>\n      <td>3378201.0</td>\n      <td>3.050500e+09</td>\n      <td>Prospect Lefferts Gardens-Wingate             ...</td>\n    </tr>\n    <tr>\n      <th>3</th>\n      <td>2013-14</td>\n      <td>K002</td>\n      <td>84K704</td>\n      <td>Explore Charter School</td>\n      <td>K704</td>\n      <td>655 PARKSIDE AVENUE</td>\n      <td>K</td>\n      <td>17.0</td>\n      <td>NaN</td>\n      <td>655 PARKSIDE AVENUE CONSOLIDATED LOCATION</td>\n      <td>...</td>\n      <td>BROOKLYN</td>\n      <td>11226.0</td>\n      <td>40.656183</td>\n      <td>-73.951583</td>\n      <td>9.0</td>\n      <td>40.0</td>\n      <td>802.0</td>\n      <td>3378201.0</td>\n      <td>3.050500e+09</td>\n      <td>Prospect Lefferts Gardens-Wingate             ...</td>\n    </tr>\n    <tr>\n      <th>4</th>\n      <td>2013-14</td>\n      <td>K002</td>\n      <td>NaN</td>\n      <td>655 PARKSIDE AVENUE CONSOLIDATED LOCATION</td>\n      <td>NaN</td>\n      <td>655 PARKSIDE AVENUE</td>\n      <td>K</td>\n      <td>17.0</td>\n      <td>876</td>\n      <td>655 PARKSIDE AVENUE CONSOLIDATED LOCATION</td>\n      <td>...</td>\n      <td>BROOKLYN</td>\n      <td>11226.0</td>\n      <td>40.656183</td>\n      <td>-73.951583</td>\n      <td>9.0</td>\n      <td>40.0</td>\n      <td>802.0</td>\n      <td>3378201.0</td>\n      <td>3.050500e+09</td>\n      <td>Prospect Lefferts Gardens-Wingate             ...</td>\n    </tr>\n    <tr>\n      <th>...</th>\n      <td>...</td>\n      <td>...</td>\n      <td>...</td>\n      <td>...</td>\n      <td>...</td>\n      <td>...</td>\n      <td>...</td>\n      <td>...</td>\n      <td>...</td>\n      <td>...</td>\n      <td>...</td>\n      <td>...</td>\n      <td>...</td>\n      <td>...</td>\n      <td>...</td>\n      <td>...</td>\n      <td>...</td>\n      <td>...</td>\n      <td>...</td>\n      <td>...</td>\n      <td>...</td>\n    </tr>\n    <tr>\n      <th>6305</th>\n      <td>2015-16</td>\n      <td>X972</td>\n      <td>08X519</td>\n      <td>Felisa Rincon de Gautier Institute for Law and...</td>\n      <td>X519</td>\n      <td>1440 STORY AVENUE</td>\n      <td>X</td>\n      <td>8.0</td>\n      <td>275</td>\n      <td>1440 STORY AVENUE CONSOLIDATED LOCATION</td>\n      <td>...</td>\n      <td>BRONX</td>\n      <td>10473.0</td>\n      <td>40.821146</td>\n      <td>-73.881479</td>\n      <td>9.0</td>\n      <td>17.0</td>\n      <td>28.0</td>\n      <td>2022544.0</td>\n      <td>2.036220e+09</td>\n      <td>Soundview-Castle Hill-Clason Point-Harding Par...</td>\n    </tr>\n    <tr>\n      <th>6306</th>\n      <td>2015-16</td>\n      <td>X972</td>\n      <td>08X537</td>\n      <td>Bronx Arena High School</td>\n      <td>X537</td>\n      <td>1440 STORY AVENUE</td>\n      <td>X</td>\n      <td>8.0</td>\n      <td>215</td>\n      <td>1440 STORY AVENUE CONSOLIDATED LOCATION</td>\n      <td>...</td>\n      <td>BRONX</td>\n      <td>10473.0</td>\n      <td>40.821146</td>\n      <td>-73.881479</td>\n      <td>9.0</td>\n      <td>17.0</td>\n      <td>28.0</td>\n      <td>2022544.0</td>\n      <td>2.036220e+09</td>\n      <td>Soundview-Castle Hill-Clason Point-Harding Par...</td>\n    </tr>\n    <tr>\n      <th>6307</th>\n      <td>2015-16</td>\n      <td>X972</td>\n      <td>NaN</td>\n      <td>1440 STORY AVENUE CONSOLIDATED LOCATION</td>\n      <td>NaN</td>\n      <td>1440 STORY AVENUE</td>\n      <td>X</td>\n      <td>8.0</td>\n      <td>490</td>\n      <td>1440 STORY AVENUE CONSOLIDATED LOCATION</td>\n      <td>...</td>\n      <td>BRONX</td>\n      <td>10473.0</td>\n      <td>40.821146</td>\n      <td>-73.881479</td>\n      <td>9.0</td>\n      <td>17.0</td>\n      <td>28.0</td>\n      <td>2022544.0</td>\n      <td>2.036220e+09</td>\n      <td>Soundview-Castle Hill-Clason Point-Harding Par...</td>\n    </tr>\n    <tr>\n      <th>6308</th>\n      <td>2015-16</td>\n      <td>X973</td>\n      <td>12X271</td>\n      <td>East Bronx Academy for the Future</td>\n      <td>X271</td>\n      <td>1716 SOUTHERN BOULEVARD</td>\n      <td>X</td>\n      <td>12.0</td>\n      <td>665</td>\n      <td>NaN</td>\n      <td>...</td>\n      <td>BRONX</td>\n      <td>10460.0</td>\n      <td>40.836356</td>\n      <td>-73.888361</td>\n      <td>3.0</td>\n      <td>17.0</td>\n      <td>161.0</td>\n      <td>2010604.0</td>\n      <td>2.029830e+09</td>\n      <td>Crotona Park East                             ...</td>\n    </tr>\n    <tr>\n      <th>6309</th>\n      <td>2015-16</td>\n      <td>X991</td>\n      <td>79X695</td>\n      <td>Passages Academy</td>\n      <td>X695</td>\n      <td>560 BROOK AVENUE</td>\n      <td>X</td>\n      <td>7.0</td>\n      <td>254</td>\n      <td>NaN</td>\n      <td>...</td>\n      <td>BRONX</td>\n      <td>10455.0</td>\n      <td>40.815878</td>\n      <td>-73.914404</td>\n      <td>1.0</td>\n      <td>17.0</td>\n      <td>71.0</td>\n      <td>2000133.0</td>\n      <td>2.022760e+09</td>\n      <td>Melrose South-Mott Haven North                ...</td>\n    </tr>\n  </tbody>\n</table>\n<p>6310 rows × 34 columns</p>\n</div>"
     },
     "execution_count": 16,
     "metadata": {},
     "output_type": "execute_result"
    }
   ],
   "source": [
    "# Load Data\n",
    "\n",
    "data = pd.read_csv(\"../data/2010_-_2016_School_Safety_Report_20240118.csv\")\n",
    "data"
   ],
   "metadata": {
    "collapsed": false,
    "ExecuteTime": {
     "end_time": "2024-01-17T22:26:49.201316900Z",
     "start_time": "2024-01-17T22:26:49.149416500Z"
    }
   },
   "id": "5dec411670c0629c"
  },
  {
   "cell_type": "code",
   "execution_count": null,
   "outputs": [],
   "source": [],
   "metadata": {
    "collapsed": false
   },
   "id": "cab80fe6631ddb99"
  }
 ],
 "metadata": {
  "kernelspec": {
   "display_name": "Python 3",
   "language": "python",
   "name": "python3"
  },
  "language_info": {
   "codemirror_mode": {
    "name": "ipython",
    "version": 2
   },
   "file_extension": ".py",
   "mimetype": "text/x-python",
   "name": "python",
   "nbconvert_exporter": "python",
   "pygments_lexer": "ipython2",
   "version": "2.7.6"
  }
 },
 "nbformat": 4,
 "nbformat_minor": 5
}
